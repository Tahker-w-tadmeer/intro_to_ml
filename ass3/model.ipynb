{
 "cells": [
  {
   "cell_type": "code",
   "execution_count": 3,
   "metadata": {},
   "outputs": [],
   "source": [
    "%store -r new_def"
   ]
  },
  {
   "cell_type": "code",
   "execution_count": 6,
   "metadata": {},
   "outputs": [
    {
     "data": {
      "text/html": [
       "<div>\n",
       "<style scoped>\n",
       "    .dataframe tbody tr th:only-of-type {\n",
       "        vertical-align: middle;\n",
       "    }\n",
       "\n",
       "    .dataframe tbody tr th {\n",
       "        vertical-align: top;\n",
       "    }\n",
       "\n",
       "    .dataframe thead th {\n",
       "        text-align: right;\n",
       "    }\n",
       "</style>\n",
       "<table border=\"1\" class=\"dataframe\">\n",
       "  <thead>\n",
       "    <tr style=\"text-align: right;\">\n",
       "      <th></th>\n",
       "      <th>smoking</th>\n",
       "      <th>waist_winsorized</th>\n",
       "      <th>Gtp_winsorized</th>\n",
       "      <th>triglyceride_winsorized</th>\n",
       "      <th>systolic_winsorized</th>\n",
       "      <th>hemoglobin_winsorized</th>\n",
       "    </tr>\n",
       "  </thead>\n",
       "  <tbody>\n",
       "    <tr>\n",
       "      <th>0</th>\n",
       "      <td>0</td>\n",
       "      <td>0.681337</td>\n",
       "      <td>0.598994</td>\n",
       "      <td>0.664700</td>\n",
       "      <td>0.696032</td>\n",
       "      <td>0.601035</td>\n",
       "    </tr>\n",
       "    <tr>\n",
       "      <th>1</th>\n",
       "      <td>0</td>\n",
       "      <td>0.690265</td>\n",
       "      <td>0.690265</td>\n",
       "      <td>0.708768</td>\n",
       "      <td>0.703793</td>\n",
       "      <td>0.611650</td>\n",
       "    </tr>\n",
       "    <tr>\n",
       "      <th>2</th>\n",
       "      <td>1</td>\n",
       "      <td>0.690265</td>\n",
       "      <td>0.644951</td>\n",
       "      <td>0.709300</td>\n",
       "      <td>0.702190</td>\n",
       "      <td>0.613194</td>\n",
       "    </tr>\n",
       "    <tr>\n",
       "      <th>3</th>\n",
       "      <td>1</td>\n",
       "      <td>0.683857</td>\n",
       "      <td>0.598994</td>\n",
       "      <td>0.672071</td>\n",
       "      <td>0.701952</td>\n",
       "      <td>0.613571</td>\n",
       "    </tr>\n",
       "    <tr>\n",
       "      <th>4</th>\n",
       "      <td>1</td>\n",
       "      <td>0.689921</td>\n",
       "      <td>0.653777</td>\n",
       "      <td>0.672071</td>\n",
       "      <td>0.702659</td>\n",
       "      <td>0.610857</td>\n",
       "    </tr>\n",
       "  </tbody>\n",
       "</table>\n",
       "</div>"
      ],
      "text/plain": [
       "   smoking  waist_winsorized  Gtp_winsorized  triglyceride_winsorized  \\\n",
       "0        0          0.681337        0.598994                 0.664700   \n",
       "1        0          0.690265        0.690265                 0.708768   \n",
       "2        1          0.690265        0.644951                 0.709300   \n",
       "3        1          0.683857        0.598994                 0.672071   \n",
       "4        1          0.689921        0.653777                 0.672071   \n",
       "\n",
       "   systolic_winsorized  hemoglobin_winsorized  \n",
       "0             0.696032               0.601035  \n",
       "1             0.703793               0.611650  \n",
       "2             0.702190               0.613194  \n",
       "3             0.701952               0.613571  \n",
       "4             0.702659               0.610857  "
      ]
     },
     "execution_count": 6,
     "metadata": {},
     "output_type": "execute_result"
    }
   ],
   "source": [
    "new_def.head()"
   ]
  },
  {
   "cell_type": "code",
   "execution_count": 8,
   "metadata": {},
   "outputs": [
    {
     "name": "stdout",
     "output_type": "stream",
     "text": [
      "0.7263130658104641\n"
     ]
    }
   ],
   "source": [
    "from sklearn.ensemble import BaggingClassifier\n",
    "from sklearn.tree import DecisionTreeClassifier\n",
    "from sklearn.model_selection import train_test_split, cross_val_score\n",
    "from sklearn.metrics import accuracy_score\n",
    "\n",
    "X = new_def.drop('smoking', axis=1)\n",
    "y = new_def['smoking']\n",
    "X_train, X_test, y_train, y_test = train_test_split(X, y, test_size=0.3, random_state=1)\n",
    "Bagging_model = BaggingClassifier(DecisionTreeClassifier(), max_samples=0.8, n_estimators=1000, oob_score=True, random_state=0)\n",
    "scores = cross_val_score(Bagging_model, X, y, cv=5, scoring='accuracy')\n",
    "print(scores.mean())"
   ]
  },
  {
   "cell_type": "code",
   "execution_count": null,
   "metadata": {},
   "outputs": [],
   "source": []
  }
 ],
 "metadata": {
  "kernelspec": {
   "display_name": "Python 3",
   "language": "python",
   "name": "python3"
  },
  "language_info": {
   "codemirror_mode": {
    "name": "ipython",
    "version": 3
   },
   "file_extension": ".py",
   "mimetype": "text/x-python",
   "name": "python",
   "nbconvert_exporter": "python",
   "pygments_lexer": "ipython3",
   "version": "3.11.4"
  }
 },
 "nbformat": 4,
 "nbformat_minor": 2
}
