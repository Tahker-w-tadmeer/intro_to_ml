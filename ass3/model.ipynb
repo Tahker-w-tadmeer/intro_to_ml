{
 "cells": [
  {
   "cell_type": "code",
   "execution_count": 125,
   "metadata": {},
   "outputs": [],
   "source": [
    "%store -r new_def"
   ]
  },
  {
   "cell_type": "code",
   "execution_count": 126,
   "metadata": {},
   "outputs": [],
   "source": [
    "X=new_def.drop(['smoking'],axis=1)\n",
    "y=new_def['smoking']\n"
   ]
  },
  {
   "cell_type": "code",
   "execution_count": 127,
   "metadata": {},
   "outputs": [
    {
     "data": {
      "text/html": [
       "<div>\n",
       "<style scoped>\n",
       "    .dataframe tbody tr th:only-of-type {\n",
       "        vertical-align: middle;\n",
       "    }\n",
       "\n",
       "    .dataframe tbody tr th {\n",
       "        vertical-align: top;\n",
       "    }\n",
       "\n",
       "    .dataframe thead th {\n",
       "        text-align: right;\n",
       "    }\n",
       "</style>\n",
       "<table border=\"1\" class=\"dataframe\">\n",
       "  <thead>\n",
       "    <tr style=\"text-align: right;\">\n",
       "      <th></th>\n",
       "      <th>waist_winsorized</th>\n",
       "      <th>Gtp_winsorized</th>\n",
       "      <th>triglyceride_winsorized</th>\n",
       "      <th>systolic_winsorized</th>\n",
       "      <th>hemoglobin_winsorized</th>\n",
       "      <th>height_winsorized</th>\n",
       "    </tr>\n",
       "  </thead>\n",
       "  <tbody>\n",
       "    <tr>\n",
       "      <th>0</th>\n",
       "      <td>1.655196</td>\n",
       "      <td>1.271150</td>\n",
       "      <td>1.570003</td>\n",
       "      <td>1.734031</td>\n",
       "      <td>1.279615</td>\n",
       "      <td>1.805236</td>\n",
       "    </tr>\n",
       "    <tr>\n",
       "      <th>1</th>\n",
       "      <td>1.702680</td>\n",
       "      <td>1.702680</td>\n",
       "      <td>1.805236</td>\n",
       "      <td>1.777095</td>\n",
       "      <td>1.324422</td>\n",
       "      <td>1.805236</td>\n",
       "    </tr>\n",
       "    <tr>\n",
       "      <th>2</th>\n",
       "      <td>1.702680</td>\n",
       "      <td>1.474144</td>\n",
       "      <td>1.808267</td>\n",
       "      <td>1.768118</td>\n",
       "      <td>1.331049</td>\n",
       "      <td>1.819777</td>\n",
       "    </tr>\n",
       "    <tr>\n",
       "      <th>3</th>\n",
       "      <td>1.668474</td>\n",
       "      <td>1.271150</td>\n",
       "      <td>1.607232</td>\n",
       "      <td>1.766789</td>\n",
       "      <td>1.332673</td>\n",
       "      <td>1.819777</td>\n",
       "    </tr>\n",
       "    <tr>\n",
       "      <th>4</th>\n",
       "      <td>1.700826</td>\n",
       "      <td>1.516302</td>\n",
       "      <td>1.607232</td>\n",
       "      <td>1.770740</td>\n",
       "      <td>1.321028</td>\n",
       "      <td>1.815096</td>\n",
       "    </tr>\n",
       "  </tbody>\n",
       "</table>\n",
       "</div>"
      ],
      "text/plain": [
       "   waist_winsorized  Gtp_winsorized  triglyceride_winsorized  \\\n",
       "0          1.655196        1.271150                 1.570003   \n",
       "1          1.702680        1.702680                 1.805236   \n",
       "2          1.702680        1.474144                 1.808267   \n",
       "3          1.668474        1.271150                 1.607232   \n",
       "4          1.700826        1.516302                 1.607232   \n",
       "\n",
       "   systolic_winsorized  hemoglobin_winsorized  height_winsorized  \n",
       "0             1.734031               1.279615           1.805236  \n",
       "1             1.777095               1.324422           1.805236  \n",
       "2             1.768118               1.331049           1.819777  \n",
       "3             1.766789               1.332673           1.819777  \n",
       "4             1.770740               1.321028           1.815096  "
      ]
     },
     "execution_count": 127,
     "metadata": {},
     "output_type": "execute_result"
    }
   ],
   "source": [
    "X.head()\n"
   ]
  },
  {
   "cell_type": "code",
   "execution_count": 128,
   "metadata": {},
   "outputs": [
    {
     "data": {
      "text/plain": [
       "(101923, 6)"
      ]
     },
     "execution_count": 128,
     "metadata": {},
     "output_type": "execute_result"
    }
   ],
   "source": [
    "X.shape"
   ]
  },
  {
   "cell_type": "code",
   "execution_count": 129,
   "metadata": {},
   "outputs": [
    {
     "data": {
      "text/plain": [
       "0    0\n",
       "1    0\n",
       "2    1\n",
       "3    1\n",
       "4    1\n",
       "Name: smoking, dtype: int64"
      ]
     },
     "execution_count": 129,
     "metadata": {},
     "output_type": "execute_result"
    }
   ],
   "source": [
    "y.head()"
   ]
  },
  {
   "cell_type": "code",
   "execution_count": 130,
   "metadata": {},
   "outputs": [],
   "source": [
    "import numpy as np\n",
    "from sklearn.tree import DecisionTreeClassifier\n",
    "\n",
    "class BaggingClassifier:\n",
    "    def __init__(self, n_estimators=100, max_depth=None):\n",
    "        self.n_estimators = n_estimators\n",
    "        self.max_depth = max_depth  \n",
    "        self.models = [DecisionTreeClassifier(max_depth=self.max_depth) for _ in range(n_estimators)]\n",
    "        \n",
    "    def fit(self, X, y):\n",
    "        for model in self.models:\n",
    "            indices = np.random.choice(len(X), len(X), replace=True)\n",
    "            X_subset, y_subset = X.iloc[indices], y.iloc[indices] \n",
    "            model.fit(X_subset, y_subset)\n",
    "    \n",
    "    def predict(self, X, threshold=0.5):\n",
    "        predictions = np.zeros((len(X), self.n_estimators))\n",
    "        for i, model in enumerate(self.models):\n",
    "            predictions[:, i] = model.predict(X)\n",
    "\n",
    "        # Calculate the average prediction across all models\n",
    "        avg_predictions = np.mean(predictions, axis=1)\n",
    "    \n",
    "        # Apply threshold to convert to binary predictions\n",
    "        binary_predictions = (avg_predictions >= threshold).astype(int)\n",
    "    \n",
    "        return binary_predictions\n"
   ]
  },
  {
   "cell_type": "code",
   "execution_count": 131,
   "metadata": {},
   "outputs": [],
   "source": [
    "class AdaBoostClassifier:\n",
    "    def __init__(self, n_estimators=100, max_depth=1):\n",
    "        self.n_estimators = n_estimators\n",
    "        self.models = []\n",
    "        self.alphas = []\n",
    "        self.max_depth = max_depth  \n",
    "        \n",
    "    def fit(self, X, y):\n",
    "        weights = np.ones(len(X)) / len(X)\n",
    "        \n",
    "        for _ in range(self.n_estimators):\n",
    "            model = DecisionTreeClassifier(max_depth=self.max_depth)  \n",
    "            model.fit(X, y, sample_weight=weights)\n",
    "            predictions = model.predict(X)\n",
    "            \n",
    "            error = np.sum(weights * (predictions != y))\n",
    "            alpha = 0.5 * np.log((1 - error) / max(error, 1e-10))\n",
    "            weights *= np.exp(-alpha * y * predictions)\n",
    "            weights /= np.sum(weights)\n",
    "            \n",
    "            self.models.append(model)\n",
    "            self.alphas.append(alpha)\n",
    "    \n",
    "    def predict(self, X):\n",
    "        predictions = np.zeros(len(X))\n",
    "        for model, alpha in zip(self.models, self.alphas):\n",
    "            predictions += alpha * model.predict(X)\n",
    "        return np.sign(predictions)\n"
   ]
  },
  {
   "cell_type": "code",
   "execution_count": 132,
   "metadata": {},
   "outputs": [],
   "source": [
    "class RandomForestClassifier:\n",
    "    def __init__(self, n_estimators=100, max_features=None, max_depth=None):\n",
    "        self.n_estimators = n_estimators\n",
    "        self.max_features = max_features\n",
    "        self.max_depth = max_depth  \n",
    "        self.models = [DecisionTreeClassifier(max_features=max_features, max_depth=max_depth) for _ in range(n_estimators)]\n",
    "        \n",
    "    def fit(self, X, y):\n",
    "        for model in self.models:\n",
    "            indices = np.random.choice(len(X), len(X), replace=True)\n",
    "            X_subset, y_subset = X.iloc[indices], y.iloc[indices]\n",
    "            model.fit(X_subset, y_subset)\n",
    "    \n",
    "    def predict(self, X, threshold=0.5):\n",
    "        predictions = np.zeros((len(X), self.n_estimators))\n",
    "        for i, model in enumerate(self.models):\n",
    "             predictions[:, i] = model.predict(X)\n",
    "    \n",
    "        # Calculate the average prediction across all models\n",
    "        avg_predictions = np.mean(predictions, axis=1)\n",
    "    \n",
    "        # Apply threshold to convert to binary predictions\n",
    "        binary_predictions = (avg_predictions >= threshold).astype(int)\n",
    "    \n",
    "        return binary_predictions\n"
   ]
  },
  {
   "cell_type": "code",
   "execution_count": 133,
   "metadata": {},
   "outputs": [
    {
     "name": "stdout",
     "output_type": "stream",
     "text": [
      "Bagging Accuracy: 0.7038999264164827\n",
      "Boosting Accuracy: 0.6875153298994359\n",
      "Random Forest Accuracy: 0.7038999264164827\n"
     ]
    }
   ],
   "source": [
    "from sklearn.model_selection import train_test_split\n",
    "from sklearn.metrics import accuracy_score\n",
    "\n",
    "# Split the data into training and testing sets\n",
    "X_train, X_test, y_train, y_test = train_test_split(X, y, test_size=0.2, random_state=42)\n",
    "\n",
    "# Instantiate and fit each model\n",
    "bagging_model = BaggingClassifier(n_estimators=100, max_depth=1)\n",
    "bagging_model.fit(X_train, y_train)\n",
    "\n",
    "boosting_model = AdaBoostClassifier(n_estimators=100, max_depth=1)\n",
    "boosting_model.fit(X_train, y_train)\n",
    "\n",
    "random_forest_model = RandomForestClassifier(n_estimators=100, max_depth=1)\n",
    "random_forest_model.fit(X_train, y_train)\n",
    "\n",
    "# Make predictions\n",
    "bagging_predictions = bagging_model.predict(X_test)\n",
    "boosting_predictions = boosting_model.predict(X_test)\n",
    "random_forest_predictions = random_forest_model.predict(X_test)\n",
    "\n",
    "# Evaluate the models\n",
    "bagging_accuracy = accuracy_score(y_test, bagging_predictions)\n",
    "boosting_accuracy = accuracy_score(y_test, boosting_predictions)\n",
    "random_forest_accuracy = accuracy_score(y_test, random_forest_predictions)\n",
    "\n",
    "print(f\"Bagging Accuracy: {bagging_accuracy}\")\n",
    "print(f\"Boosting Accuracy: {boosting_accuracy}\")\n",
    "print(f\"Random Forest Accuracy: {random_forest_accuracy}\")\n"
   ]
  }
 ],
 "metadata": {
  "kernelspec": {
   "display_name": "Python 3",
   "language": "python",
   "name": "python3"
  },
  "language_info": {
   "codemirror_mode": {
    "name": "ipython",
    "version": 3
   },
   "file_extension": ".py",
   "mimetype": "text/x-python",
   "name": "python",
   "nbconvert_exporter": "python",
   "pygments_lexer": "ipython3",
   "version": "3.11.4"
  }
 },
 "nbformat": 4,
 "nbformat_minor": 2
}
