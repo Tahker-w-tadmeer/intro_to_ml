{
 "cells": [
  {
   "cell_type": "code",
   "execution_count": 1,
   "metadata": {
    "ExecuteTime": {
     "end_time": "2023-12-22T18:28:38.825566Z",
     "start_time": "2023-12-22T18:28:38.710370Z"
    }
   },
   "outputs": [],
   "source": [
    "%store -r new_def"
   ]
  },
  {
   "cell_type": "code",
   "execution_count": 2,
   "metadata": {
    "ExecuteTime": {
     "end_time": "2023-12-22T18:28:38.847827Z",
     "start_time": "2023-12-22T18:28:38.732951Z"
    }
   },
   "outputs": [],
   "source": [
    "X = new_def.drop(['smoking'], axis=1)\n",
    "y = new_def['smoking']\n"
   ]
  },
  {
   "cell_type": "code",
   "execution_count": 3,
   "metadata": {
    "ExecuteTime": {
     "end_time": "2023-12-22T18:28:38.854976Z",
     "start_time": "2023-12-22T18:28:38.749357Z"
    }
   },
   "outputs": [
    {
     "data": {
      "text/html": [
       "<div>\n",
       "<style scoped>\n",
       "    .dataframe tbody tr th:only-of-type {\n",
       "        vertical-align: middle;\n",
       "    }\n",
       "\n",
       "    .dataframe tbody tr th {\n",
       "        vertical-align: top;\n",
       "    }\n",
       "\n",
       "    .dataframe thead th {\n",
       "        text-align: right;\n",
       "    }\n",
       "</style>\n",
       "<table border=\"1\" class=\"dataframe\">\n",
       "  <thead>\n",
       "    <tr style=\"text-align: right;\">\n",
       "      <th></th>\n",
       "      <th>waist_winsorized</th>\n",
       "      <th>triglyceride_winsorized</th>\n",
       "      <th>systolic_winsorized</th>\n",
       "      <th>hemoglobin_winsorized</th>\n",
       "      <th>bmi_winsorized</th>\n",
       "      <th>lipid_interaction_winsorized</th>\n",
       "      <th>gtp_hemoglobin_interaction_winsorized</th>\n",
       "      <th>age_GTP_winsorized</th>\n",
       "      <th>age_ALT_winsorized</th>\n",
       "      <th>age_hemoglobin_winsorized</th>\n",
       "    </tr>\n",
       "  </thead>\n",
       "  <tbody>\n",
       "    <tr>\n",
       "      <th>0</th>\n",
       "      <td>-1.959592</td>\n",
       "      <td>-1.985089</td>\n",
       "      <td>-1.567791</td>\n",
       "      <td>-2.023424</td>\n",
       "      <td>-1.602205</td>\n",
       "      <td>0.816468</td>\n",
       "      <td>-1.673359</td>\n",
       "      <td>0.309747</td>\n",
       "      <td>1.759991</td>\n",
       "      <td>-0.264883</td>\n",
       "    </tr>\n",
       "    <tr>\n",
       "      <th>1</th>\n",
       "      <td>0.640314</td>\n",
       "      <td>0.729294</td>\n",
       "      <td>1.081192</td>\n",
       "      <td>0.039374</td>\n",
       "      <td>0.306234</td>\n",
       "      <td>0.080549</td>\n",
       "      <td>1.796783</td>\n",
       "      <td>0.520685</td>\n",
       "      <td>-0.962108</td>\n",
       "      <td>1.415253</td>\n",
       "    </tr>\n",
       "    <tr>\n",
       "      <th>2</th>\n",
       "      <td>0.640314</td>\n",
       "      <td>0.762765</td>\n",
       "      <td>0.532371</td>\n",
       "      <td>0.341097</td>\n",
       "      <td>0.012828</td>\n",
       "      <td>-0.518464</td>\n",
       "      <td>0.035813</td>\n",
       "      <td>-0.378217</td>\n",
       "      <td>0.356409</td>\n",
       "      <td>-0.391491</td>\n",
       "    </tr>\n",
       "    <tr>\n",
       "      <th>3</th>\n",
       "      <td>-1.227953</td>\n",
       "      <td>-1.539342</td>\n",
       "      <td>0.450977</td>\n",
       "      <td>0.414927</td>\n",
       "      <td>-1.582471</td>\n",
       "      <td>0.464821</td>\n",
       "      <td>-1.482936</td>\n",
       "      <td>0.157188</td>\n",
       "      <td>0.218803</td>\n",
       "      <td>-0.394433</td>\n",
       "    </tr>\n",
       "    <tr>\n",
       "      <th>4</th>\n",
       "      <td>0.539687</td>\n",
       "      <td>-1.539342</td>\n",
       "      <td>0.692852</td>\n",
       "      <td>-0.115470</td>\n",
       "      <td>-0.074573</td>\n",
       "      <td>2.094233</td>\n",
       "      <td>0.294813</td>\n",
       "      <td>0.750875</td>\n",
       "      <td>0.161467</td>\n",
       "      <td>0.975150</td>\n",
       "    </tr>\n",
       "  </tbody>\n",
       "</table>\n",
       "</div>"
      ],
      "text/plain": [
       "   waist_winsorized  triglyceride_winsorized  systolic_winsorized  \\\n",
       "0         -1.959592                -1.985089            -1.567791   \n",
       "1          0.640314                 0.729294             1.081192   \n",
       "2          0.640314                 0.762765             0.532371   \n",
       "3         -1.227953                -1.539342             0.450977   \n",
       "4          0.539687                -1.539342             0.692852   \n",
       "\n",
       "   hemoglobin_winsorized  bmi_winsorized  lipid_interaction_winsorized  \\\n",
       "0              -2.023424       -1.602205                      0.816468   \n",
       "1               0.039374        0.306234                      0.080549   \n",
       "2               0.341097        0.012828                     -0.518464   \n",
       "3               0.414927       -1.582471                      0.464821   \n",
       "4              -0.115470       -0.074573                      2.094233   \n",
       "\n",
       "   gtp_hemoglobin_interaction_winsorized  age_GTP_winsorized  \\\n",
       "0                              -1.673359            0.309747   \n",
       "1                               1.796783            0.520685   \n",
       "2                               0.035813           -0.378217   \n",
       "3                              -1.482936            0.157188   \n",
       "4                               0.294813            0.750875   \n",
       "\n",
       "   age_ALT_winsorized  age_hemoglobin_winsorized  \n",
       "0            1.759991                  -0.264883  \n",
       "1           -0.962108                   1.415253  \n",
       "2            0.356409                  -0.391491  \n",
       "3            0.218803                  -0.394433  \n",
       "4            0.161467                   0.975150  "
      ]
     },
     "execution_count": 3,
     "metadata": {},
     "output_type": "execute_result"
    }
   ],
   "source": [
    "X.head()\n"
   ]
  },
  {
   "cell_type": "code",
   "execution_count": 4,
   "metadata": {
    "ExecuteTime": {
     "end_time": "2023-12-22T18:28:38.855327Z",
     "start_time": "2023-12-22T18:28:38.761543Z"
    }
   },
   "outputs": [
    {
     "data": {
      "text/plain": [
       "(101923, 10)"
      ]
     },
     "execution_count": 4,
     "metadata": {},
     "output_type": "execute_result"
    }
   ],
   "source": [
    "X.shape"
   ]
  },
  {
   "cell_type": "code",
   "execution_count": 5,
   "metadata": {
    "ExecuteTime": {
     "end_time": "2023-12-22T18:28:38.856121Z",
     "start_time": "2023-12-22T18:28:38.766532Z"
    }
   },
   "outputs": [
    {
     "data": {
      "text/plain": [
       "0    0\n",
       "1    0\n",
       "2    1\n",
       "3    1\n",
       "4    1\n",
       "Name: smoking, dtype: int64"
      ]
     },
     "execution_count": 5,
     "metadata": {},
     "output_type": "execute_result"
    }
   ],
   "source": [
    "y.head()"
   ]
  },
  {
   "cell_type": "code",
   "execution_count": 6,
   "metadata": {
    "ExecuteTime": {
     "end_time": "2023-12-22T18:28:38.856286Z",
     "start_time": "2023-12-22T18:28:38.771431Z"
    }
   },
   "outputs": [],
   "source": [
    "import numpy as np\n",
    "from sklearn.tree import DecisionTreeClassifier\n",
    "\n",
    "\n",
    "class BaggingClassifierMe:\n",
    "    def __init__(self, n_estimators=100, max_depth=None):\n",
    "        self.n_estimators = n_estimators\n",
    "        self.max_depth = max_depth\n",
    "        self.models = [DecisionTreeClassifier(max_depth=self.max_depth) for _ in range(n_estimators)]\n",
    "\n",
    "    def fit(self, X, y):\n",
    "        for model in self.models:\n",
    "            indices = np.random.choice(len(X), len(X), replace=True)\n",
    "            X_subset, y_subset = X.iloc[indices], y.iloc[indices]\n",
    "            model.fit(X_subset, y_subset)\n",
    "\n",
    "    def predict(self, X):\n",
    "\n",
    "        predictions = np.zeros((len(X), self.n_estimators))\n",
    "        for i, model in enumerate(self.models):\n",
    "            predictions[:, i] = model.predict(X)\n",
    "\n",
    "        # Calculate the average prediction across all models\n",
    "        avg_predictions = np.mean(predictions, axis=1)\n",
    "\n",
    "        # Apply threshold to convert to binary predictions\n",
    "        binary_predictions = (avg_predictions >= 0.5).astype(int)\n",
    "\n",
    "        return binary_predictions\n",
    "\n",
    "    def score(self, X, y):\n",
    "\n",
    "        predictions = self.predict(X)\n",
    "        accuracy = np.mean(predictions == y)\n",
    "        return accuracy\n",
    "\n",
    "    def get_params(self, deep=True):\n",
    "        return {\n",
    "            'n_estimators': self.n_estimators,\n",
    "            'max_depth': self.max_depth,\n",
    "        }\n",
    "\n",
    "    def set_params(self, **params):\n",
    "        if not params:\n",
    "            return self\n",
    "\n",
    "        for param, value in params.items():\n",
    "          setattr(self, param, value)\n",
    "\n",
    "        return self"
   ]
  },
  {
   "cell_type": "code",
   "execution_count": 7,
   "metadata": {
    "ExecuteTime": {
     "end_time": "2023-12-22T18:28:38.856641Z",
     "start_time": "2023-12-22T18:28:38.777028Z"
    }
   },
   "outputs": [],
   "source": [
    "class AdaBoostClassifierMe:\n",
    "    def __init__(self, n_estimators=100, max_depth=1):\n",
    "        self.n_estimators = n_estimators\n",
    "        self.models = []\n",
    "        self.alphas = []\n",
    "        self.max_depth = max_depth\n",
    "\n",
    "    def fit(self, X, y):\n",
    "        # Initialize weights\n",
    "        weights = np.ones(len(X)) / len(X)\n",
    "\n",
    "        for _ in range(self.n_estimators):\n",
    "            # Create a new model\n",
    "            model = DecisionTreeClassifier(max_depth=self.max_depth)\n",
    "\n",
    "            # Fit the model with weighted samples\n",
    "            model.fit(X, y, sample_weight=weights)\n",
    "\n",
    "            # Predictions of the current model\n",
    "            predictions = model.predict(X)\n",
    "\n",
    "            # Calculate error and alpha\n",
    "            error = np.sum(weights * (predictions != y))\n",
    "            alpha = 0.5 * np.log((1 - error) / max(error, 1e-10))\n",
    "\n",
    "            # Update weights\n",
    "            weights *= np.exp(-alpha * y * predictions)\n",
    "            weights /= np.sum(weights)\n",
    "\n",
    "            # Save the model and its corresponding alpha\n",
    "            self.models.append(model)\n",
    "            self.alphas.append(alpha)\n",
    "\n",
    "    def predict(self, X):\n",
    "        # Initialize predictions\n",
    "        predictions = np.zeros(len(X))\n",
    "\n",
    "        for model, alpha in zip(self.models, self.alphas):\n",
    "            # Accumulate weighted predictions\n",
    "            predictions += alpha * model.predict(X)\n",
    "\n",
    "        # Apply sign function to get final predictions\n",
    "        return np.sign(predictions)\n",
    "\n",
    "    def score(self, X, y):\n",
    "        predictions = self.predict(X)\n",
    "        accuracy = np.mean(predictions == y)\n",
    "        return accuracy\n",
    "\n",
    "    def get_params(self, deep=True):\n",
    "        return {\n",
    "            'n_estimators': self.n_estimators,\n",
    "            'max_depth': self.max_depth,\n",
    "        }\n",
    "\n",
    "    def set_params(self, **params):\n",
    "        if not params:\n",
    "            return self\n",
    "\n",
    "        for param, value in params.items():\n",
    "            setattr(self, param, value)\n",
    "\n",
    "        return self"
   ]
  },
  {
   "cell_type": "code",
   "execution_count": 8,
   "metadata": {
    "ExecuteTime": {
     "end_time": "2023-12-22T18:28:38.869134Z",
     "start_time": "2023-12-22T18:28:38.785992Z"
    },
    "collapsed": false
   },
   "outputs": [],
   "source": [
    "class RandomForestClassifierMe:\n",
    "    def __init__(self, n_estimators=100, max_depth=None, min_samples_split=2, min_samples_leaf=1):\n",
    "        self.n_estimators = n_estimators\n",
    "        self.max_depth = max_depth\n",
    "        self.min_samples_split = min_samples_split\n",
    "        self.min_samples_leaf = min_samples_leaf\n",
    "        self.models = []\n",
    "\n",
    "    def fit(self, x, y):\n",
    "        x = np.array(x)\n",
    "        y = np.array(y)\n",
    "        n_samples, n_features = x.shape\n",
    "        for _ in range(self.n_estimators):\n",
    "            # Randomly select a subset of features\n",
    "            selected_features = np.random.choice(n_features, size=int(np.sqrt(n_features)), replace=False)\n",
    "            x_subset = x[:, selected_features]\n",
    "\n",
    "            # Create a decision tree with random features\n",
    "            tree = DecisionTreeClassifier(\n",
    "                max_depth=self.max_depth,\n",
    "                min_samples_split=self.min_samples_split,\n",
    "                min_samples_leaf=self.min_samples_leaf\n",
    "            )\n",
    "            tree.fit(x_subset, y)\n",
    "            self.models.append((tree, selected_features))\n",
    "        return self\n",
    "\n",
    "    def predict(self, x):\n",
    "        x = np.array(x)\n",
    "        pred = np.zeros((x.shape[0], self.n_estimators))\n",
    "        for i, (tree, selected_features) in enumerate(self.models):\n",
    "            x_subset = x[:, selected_features]\n",
    "            pred[:, i] = tree.predict(x_subset)\n",
    "\n",
    "        # Use majority voting for the final prediction\n",
    "        final_predictions = np.apply_along_axis(lambda x: np.bincount(x.astype(int)).argmax(), axis=1, arr=pred)\n",
    "        return final_predictions\n",
    "\n",
    "    def score(self, X, y):\n",
    "        predictions = self.predict(X)\n",
    "        accuracy = np.mean(predictions == y)\n",
    "        return accuracy\n",
    "\n",
    "    def get_params(self, deep=True):\n",
    "        return {\n",
    "            'n_estimators': self.n_estimators,\n",
    "            'max_depth': self.max_depth,\n",
    "            'min_samples_split': self.min_samples_split,\n",
    "            'min_samples_leaf': self.min_samples_leaf\n",
    "        }\n",
    "\n",
    "    def set_params(self, **params):\n",
    "        if not params:\n",
    "            return self\n",
    "\n",
    "        for param, value in params.items():\n",
    "            setattr(self, param, value)\n",
    "\n",
    "        return self\n"
   ]
  },
  {
   "cell_type": "code",
   "execution_count": 9,
   "metadata": {},
   "outputs": [],
   "source": [
    "#split the data into test and train\n",
    "from sklearn.model_selection import train_test_split\n",
    "X_train, X_test, y_train, y_test = train_test_split(X, y, test_size=0.2, random_state=42)\n"
   ]
  },
  {
   "cell_type": "code",
   "execution_count": 10,
   "metadata": {},
   "outputs": [
    {
     "name": "stdout",
     "output_type": "stream",
     "text": [
      "Bagging Accuracy: 0.7432916360068678\n"
     ]
    }
   ],
   "source": [
    "#bagging model\n",
    "from sklearn.metrics import accuracy_score\n",
    "bagging_model = BaggingClassifierMe(n_estimators=1000, max_depth=5)\n",
    "bagging_model.fit(X_train, y_train)\n",
    "bagging_predictions = bagging_model.predict(X_test)\n",
    "bagging_accuracy = accuracy_score(y_test, bagging_predictions)\n",
    "print(f\"Bagging Accuracy: {bagging_accuracy}\")\n"
   ]
  },
  {
   "cell_type": "code",
   "execution_count": 11,
   "metadata": {},
   "outputs": [
    {
     "name": "stdout",
     "output_type": "stream",
     "text": [
      "Boosting Accuracy: 0.7413784645572725\n"
     ]
    }
   ],
   "source": [
    "#boosting\n",
    "boosting_model = AdaBoostClassifierMe(n_estimators=1000, max_depth=5)\n",
    "boosting_model.fit(X_train, y_train)\n",
    "boosting_predictions = boosting_model.predict(X_test)\n",
    "boosting_accuracy = accuracy_score(y_test, boosting_predictions)\n",
    "print(f\"Boosting Accuracy: {boosting_accuracy}\")"
   ]
  },
  {
   "cell_type": "code",
   "execution_count": 12,
   "metadata": {
    "ExecuteTime": {
     "end_time": "2023-12-22T18:28:53.904013Z",
     "start_time": "2023-12-22T18:28:38.795291Z"
    }
   },
   "outputs": [
    {
     "name": "stdout",
     "output_type": "stream",
     "text": [
      "Random Forest Accuracy: 0.7403482953151828\n"
     ]
    }
   ],
   "source": [
    "#random forest model\n",
    "random_forest_model = RandomForestClassifierMe(n_estimators=1000, max_depth=5, min_samples_split=5, min_samples_leaf=2)\n",
    "random_forest_model.fit(X_train, y_train)\n",
    "random_forest_predictions = random_forest_model.predict(X_test)\n",
    "random_forest_accuracy = accuracy_score(y_test, random_forest_predictions)\n",
    "print(f\"Random Forest Accuracy: {random_forest_accuracy}\")"
   ]
  },
  {
   "cell_type": "markdown",
   "metadata": {},
   "source": [
    "# use grid search for our classifier"
   ]
  },
  {
   "cell_type": "code",
   "execution_count": 13,
   "metadata": {},
   "outputs": [],
   "source": [
    "from sklearn.model_selection import GridSearchCV\n",
    "import multiprocessing\n",
    "n_porcess = multiprocessing.cpu_count()-1"
   ]
  },
  {
   "cell_type": "code",
   "execution_count": 14,
   "metadata": {},
   "outputs": [],
   "source": [
    "param_grid_bagging = {\n",
    "    'n_estimators': [100, 200, 300, 400, 500, 600, 700, 800, 900, 1000],\n",
    "    'max_depth': [1, 4, 7]\n",
    "}\n",
    "param_grid_boosting = {\n",
    "    'n_estimators': [100, 200, 300, 400, 500, 600, 700, 800, 900, 1000],\n",
    "    'max_depth': [1, 4, 7]\n",
    "}\n",
    "param_grid_random_forest = {\n",
    "    'n_estimators': [100, 200, 300, 400, 500, 600, 700, 800, 900, 1000],\n",
    "    'max_depth': [1, 4, 7],\n",
    "    'min_samples_split': [2, 4, 6],\n",
    "    'min_samples_leaf': [1, 2, 3]\n",
    "}"
   ]
  },
  {
   "cell_type": "markdown",
   "metadata": {},
   "source": [
    "# bagging with grid search"
   ]
  },
  {
   "cell_type": "code",
   "execution_count": 15,
   "metadata": {},
   "outputs": [
    {
     "name": "stdout",
     "output_type": "stream",
     "text": [
      "Best Parameters for Bagging: {'max_depth': 7, 'n_estimators': 100}\n"
     ]
    }
   ],
   "source": [
    "bag_model = BaggingClassifierMe()\n",
    "bag_grid = GridSearchCV(estimator=bag_model, param_grid=param_grid_bagging, cv=3, scoring='accuracy',n_jobs=n_porcess)\n",
    "bag_grid.fit(X_train, y_train)\n",
    "print(\"Best Parameters for Bagging:\", bag_grid.best_params_)"
   ]
  },
  {
   "cell_type": "code",
   "execution_count": 23,
   "metadata": {},
   "outputs": [
    {
     "name": "stdout",
     "output_type": "stream",
     "text": [
      "Best Score for Bagging: 0.7526797600511506\n"
     ]
    }
   ],
   "source": [
    "print(\"Best Score for Bagging:\", bag_grid.best_score_)"
   ]
  },
  {
   "cell_type": "markdown",
   "metadata": {},
   "source": [
    "# ada boost with grid search"
   ]
  },
  {
   "cell_type": "code",
   "execution_count": 16,
   "metadata": {},
   "outputs": [
    {
     "name": "stdout",
     "output_type": "stream",
     "text": [
      "Best Parameters for Boosting: {'max_depth': 7, 'n_estimators': 100}\n"
     ]
    }
   ],
   "source": [
    "adaBoost_model = AdaBoostClassifierMe()\n",
    "adaBoost_grid = GridSearchCV(estimator=adaBoost_model, param_grid=param_grid_boosting, cv=3, scoring='accuracy',n_jobs=n_porcess)\n",
    "adaBoost_grid.fit(X_train, y_train)\n",
    "print(\"Best Parameters for Boosting:\", adaBoost_grid.best_params_)"
   ]
  },
  {
   "cell_type": "code",
   "execution_count": 24,
   "metadata": {},
   "outputs": [
    {
     "name": "stdout",
     "output_type": "stream",
     "text": [
      "best score for boosting: 0.7399985378415356\n"
     ]
    }
   ],
   "source": [
    "print('best score for boosting:', adaBoost_grid.best_score_)"
   ]
  },
  {
   "cell_type": "markdown",
   "metadata": {},
   "source": [
    "# Random forest with grid search"
   ]
  },
  {
   "cell_type": "code",
   "execution_count": 17,
   "metadata": {
    "ExecuteTime": {
     "start_time": "2023-12-22T18:28:53.903405Z"
    }
   },
   "outputs": [
    {
     "name": "stdout",
     "output_type": "stream",
     "text": [
      "Best Parameters for Random Forest: {'max_depth': 7, 'min_samples_leaf': 2, 'min_samples_split': 6, 'n_estimators': 400}\n"
     ]
    }
   ],
   "source": [
    "\n",
    "randomForest_model = RandomForestClassifierMe()\n",
    "randomForest_grid = GridSearchCV(estimator=randomForest_model, param_grid=param_grid_random_forest, cv=3,\n",
    "                                 scoring='accuracy',n_jobs=n_porcess)\n",
    "randomForest_grid.fit(X_train, y_train)\n",
    "print(\"Best Parameters for Random Forest:\", randomForest_grid.best_params_)\n",
    "\n"
   ]
  },
  {
   "cell_type": "code",
   "execution_count": 25,
   "metadata": {},
   "outputs": [
    {
     "name": "stdout",
     "output_type": "stream",
     "text": [
      "best score for boosting: 0.7440089654265041\n"
     ]
    }
   ],
   "source": [
    "print('best score for boosting:',randomForest_grid.best_score_) "
   ]
  },
  {
   "cell_type": "markdown",
   "metadata": {},
   "source": [
    "# randomized search "
   ]
  },
  {
   "cell_type": "code",
   "execution_count": 18,
   "metadata": {},
   "outputs": [],
   "source": [
    "from sklearn.model_selection import RandomizedSearchCV\n",
    "from scipy.stats import randint, uniform\n",
    "param_dist_bagging = {\n",
    "    'max_depth': [None, 1, 3, 5],\n",
    "    'n_estimators': randint(50, 1000),\n",
    "}\n",
    "\n",
    "param_dist_boosting = {\n",
    "    'n_estimators': randint(50, 1000),\n",
    "    'max_depth': [1, 3, 5]\n",
    "}\n",
    "\n",
    "param_dist_random_forest = {\n",
    "    'n_estimators': randint(50, 1000),\n",
    "    'max_depth': [None, 1, 3, 5],\n",
    "    'min_samples_split': randint(2, 10),\n",
    "    'min_samples_leaf': randint(1, 10)\n",
    "}"
   ]
  },
  {
   "cell_type": "markdown",
   "metadata": {},
   "source": [
    "## bagging\n"
   ]
  },
  {
   "cell_type": "code",
   "execution_count": 19,
   "metadata": {},
   "outputs": [
    {
     "name": "stderr",
     "output_type": "stream",
     "text": [
      "/Library/Frameworks/Python.framework/Versions/3.11/lib/python3.11/site-packages/sklearn/model_selection/_validation.py:821: UserWarning: Scoring failed. The score on this train-test partition for these parameters will be set to nan. Details: \n",
      "Traceback (most recent call last):\n",
      "  File \"/Library/Frameworks/Python.framework/Versions/3.11/lib/python3.11/site-packages/sklearn/model_selection/_validation.py\", line 810, in _score\n",
      "    scores = scorer(estimator, X_test, y_test)\n",
      "             ^^^^^^^^^^^^^^^^^^^^^^^^^^^^^^^^^\n",
      "  File \"/Library/Frameworks/Python.framework/Versions/3.11/lib/python3.11/site-packages/sklearn/metrics/_scorer.py\", line 527, in __call__\n",
      "    return estimator.score(*args, **kwargs)\n",
      "           ^^^^^^^^^^^^^^^^^^^^^^^^^^^^^^^^\n",
      "  File \"/var/folders/t2/cpcjvzq116v7wy6ywq0x6c500000gn/T/ipykernel_61159/1170468713.py\", line 33, in score\n",
      "  File \"/var/folders/t2/cpcjvzq116v7wy6ywq0x6c500000gn/T/ipykernel_61159/1170468713.py\", line 21, in predict\n",
      "IndexError: index 70 is out of bounds for axis 1 with size 70\n",
      "\n",
      "  warnings.warn(\n",
      "/Library/Frameworks/Python.framework/Versions/3.11/lib/python3.11/site-packages/sklearn/model_selection/_validation.py:821: UserWarning: Scoring failed. The score on this train-test partition for these parameters will be set to nan. Details: \n",
      "Traceback (most recent call last):\n",
      "  File \"/Library/Frameworks/Python.framework/Versions/3.11/lib/python3.11/site-packages/sklearn/model_selection/_validation.py\", line 810, in _score\n",
      "    scores = scorer(estimator, X_test, y_test)\n",
      "             ^^^^^^^^^^^^^^^^^^^^^^^^^^^^^^^^^\n",
      "  File \"/Library/Frameworks/Python.framework/Versions/3.11/lib/python3.11/site-packages/sklearn/metrics/_scorer.py\", line 527, in __call__\n",
      "    return estimator.score(*args, **kwargs)\n",
      "           ^^^^^^^^^^^^^^^^^^^^^^^^^^^^^^^^\n",
      "  File \"/var/folders/t2/cpcjvzq116v7wy6ywq0x6c500000gn/T/ipykernel_61159/1170468713.py\", line 33, in score\n",
      "  File \"/var/folders/t2/cpcjvzq116v7wy6ywq0x6c500000gn/T/ipykernel_61159/1170468713.py\", line 21, in predict\n",
      "IndexError: index 70 is out of bounds for axis 1 with size 70\n",
      "\n",
      "  warnings.warn(\n",
      "/Library/Frameworks/Python.framework/Versions/3.11/lib/python3.11/site-packages/sklearn/model_selection/_validation.py:821: UserWarning: Scoring failed. The score on this train-test partition for these parameters will be set to nan. Details: \n",
      "Traceback (most recent call last):\n",
      "  File \"/Library/Frameworks/Python.framework/Versions/3.11/lib/python3.11/site-packages/sklearn/model_selection/_validation.py\", line 810, in _score\n",
      "    scores = scorer(estimator, X_test, y_test)\n",
      "             ^^^^^^^^^^^^^^^^^^^^^^^^^^^^^^^^^\n",
      "  File \"/Library/Frameworks/Python.framework/Versions/3.11/lib/python3.11/site-packages/sklearn/metrics/_scorer.py\", line 527, in __call__\n",
      "    return estimator.score(*args, **kwargs)\n",
      "           ^^^^^^^^^^^^^^^^^^^^^^^^^^^^^^^^\n",
      "  File \"/var/folders/t2/cpcjvzq116v7wy6ywq0x6c500000gn/T/ipykernel_61159/1170468713.py\", line 33, in score\n",
      "  File \"/var/folders/t2/cpcjvzq116v7wy6ywq0x6c500000gn/T/ipykernel_61159/1170468713.py\", line 21, in predict\n",
      "IndexError: index 70 is out of bounds for axis 1 with size 70\n",
      "\n",
      "  warnings.warn(\n",
      "/Library/Frameworks/Python.framework/Versions/3.11/lib/python3.11/site-packages/sklearn/model_selection/_search.py:979: UserWarning: One or more of the test scores are non-finite: [0.56125977 0.56125977 0.73276265        nan 0.6010694  0.56125977\n",
      " 0.56125977 0.56125977 0.56125977 0.58263628]\n",
      "  warnings.warn(\n"
     ]
    },
    {
     "name": "stdout",
     "output_type": "stream",
     "text": [
      "Best Parameters for Bagging: {'max_depth': 3, 'n_estimators': 121}\n",
      "Best Score for Bagging: 0.7327626529388018\n",
      "Test Score for Bagging: 0.7332842776551386\n"
     ]
    }
   ],
   "source": [
    "random_search_bagging = RandomizedSearchCV(BaggingClassifierMe(),\n",
    "                                           param_dist_bagging, n_iter=10, cv=3, random_state=42,n_jobs=n_porcess)\n",
    "random_search_bagging.fit(X_train, y_train)\n",
    "print(\"Best Parameters for Bagging:\", random_search_bagging.best_params_)\n",
    "print(\"Best Score for Bagging:\", random_search_bagging.best_score_)\n",
    "print(\"Test Score for Bagging:\", random_search_bagging.score(X_test, y_test))"
   ]
  },
  {
   "cell_type": "markdown",
   "metadata": {},
   "source": [
    "## adaboost"
   ]
  },
  {
   "cell_type": "code",
   "execution_count": 20,
   "metadata": {},
   "outputs": [
    {
     "name": "stdout",
     "output_type": "stream",
     "text": [
      "Best Parameters for Boosting: {'max_depth': 5, 'n_estimators': 485}\n",
      "Best Score for Boosting: 0.7367730385595879\n",
      "Test Score for Boosting: 0.7413784645572725\n"
     ]
    }
   ],
   "source": [
    "random_search_boosting = RandomizedSearchCV(AdaBoostClassifierMe(),\n",
    "                                            param_dist_boosting, n_iter=10, cv=3, random_state=42,n_jobs=n_porcess)\n",
    "random_search_boosting.fit(X_train, y_train)\n",
    "print(\"Best Parameters for Boosting:\", random_search_boosting.best_params_)\n",
    "print(\"Best Score for Boosting:\", random_search_boosting.best_score_)\n",
    "print(\"Test Score for Boosting:\", random_search_boosting.score(X_test, y_test))"
   ]
  },
  {
   "cell_type": "markdown",
   "metadata": {},
   "source": [
    "## random forest"
   ]
  },
  {
   "cell_type": "code",
   "execution_count": 21,
   "metadata": {},
   "outputs": [
    {
     "name": "stdout",
     "output_type": "stream",
     "text": [
      "Best Parameters for Random Forest: {'max_depth': None, 'min_samples_leaf': 2, 'min_samples_split': 9, 'n_estimators': 541}\n",
      "Best Score for Random Forest: 0.7438618069652475\n",
      "Test Score for Random Forest: 0.7451557517782683\n"
     ]
    }
   ],
   "source": [
    "random_search_random_forest = RandomizedSearchCV(RandomForestClassifierMe(), param_dist_random_forest, n_iter=10, cv=3,\n",
    "                                                 random_state=42,n_jobs=n_porcess)\n",
    "random_search_random_forest.fit(X_train, y_train)\n",
    "print(\"Best Parameters for Random Forest:\", random_search_random_forest.best_params_)\n",
    "print(\"Best Score for Random Forest:\", random_search_random_forest.best_score_)\n",
    "print(\"Test Score for Random Forest:\", random_search_random_forest.score(X_test, y_test))\n"
   ]
  },
  {
   "cell_type": "markdown",
   "metadata": {},
   "source": [
    "# bayasian method for our classifier"
   ]
  },
  {
   "cell_type": "code",
   "execution_count": 40,
   "metadata": {},
   "outputs": [],
   "source": [
    "from sklearn.datasets import make_classification\n",
    "from sklearn.model_selection import train_test_split\n",
    "from bayes_opt import BayesianOptimization\n",
    "\n",
    "\n",
    "# Define the function to optimize\n",
    "def optimize_bagging(n_estimators, max_depth):\n",
    "    model = BaggingClassifierMe(n_estimators=int(n_estimators), max_depth=int(max_depth))\n",
    "    model.fit(X_train, y_train)\n",
    "    return model.score(X_test, y_test)\n",
    "\n",
    "\n",
    "def optimize_adaboost(n_estimators, max_depth):\n",
    "    model = AdaBoostClassifierMe(n_estimators=int(n_estimators), max_depth=int(max_depth))\n",
    "    model.fit(X_train, y_train)\n",
    "    return model.score(X_test, y_test)\n",
    "\n",
    "\n",
    "def optimize_rf(n_estimators, max_depth, min_samples_leaf, min_samples_split):\n",
    "    model = RandomForestClassifierMe(n_estimators=int(n_estimators), max_depth=int(max_depth),\n",
    "                                     min_samples_leaf=min_samples_leaf, min_samples_split=min_samples_split)\n",
    "    model.fit(X_train, y_train)\n",
    "    return model.score(X_test, y_test)\n",
    "\n",
    "# Define the search space\n",
    "pbounds_bagging = {'n_estimators': (10, 1000), 'max_depth': (1, 100)}\n",
    "pbounds_adaboost = {'n_estimators': (10, 1000), 'max_depth': (1, 100)}\n",
    "pbounds_rf = {'n_estimators': (10, 1000), 'max_depth': (1, 100),\n",
    "              'min_samples_split': (0.001,1.0),'min_samples_leaf': (0.001,1.0)}"
   ]
  },
  {
   "cell_type": "markdown",
   "metadata": {},
   "source": [
    "## baging baysien optimizer"
   ]
  },
  {
   "cell_type": "code",
   "execution_count": 32,
   "metadata": {},
   "outputs": [
    {
     "name": "stdout",
     "output_type": "stream",
     "text": [
      "|   iter    |  target   | max_depth | n_esti... |\n",
      "-------------------------------------------------\n",
      "| \u001b[0m1        \u001b[0m | \u001b[0m0.7533   \u001b[0m | \u001b[0m38.08    \u001b[0m | \u001b[0m951.2    \u001b[0m |\n",
      "| \u001b[0m2        \u001b[0m | \u001b[0m0.7525   \u001b[0m | \u001b[0m73.47    \u001b[0m | \u001b[0m602.7    \u001b[0m |\n",
      "| \u001b[95m3        \u001b[0m | \u001b[95m0.757    \u001b[0m | \u001b[95m16.45    \u001b[0m | \u001b[95m164.4    \u001b[0m |\n",
      "| \u001b[0m4        \u001b[0m | \u001b[0m0.7507   \u001b[0m | \u001b[0m6.75     \u001b[0m | \u001b[0m867.5    \u001b[0m |\n",
      "| \u001b[0m5        \u001b[0m | \u001b[0m0.7532   \u001b[0m | \u001b[0m60.51    \u001b[0m | \u001b[0m711.0    \u001b[0m |\n",
      "| \u001b[0m6        \u001b[0m | \u001b[0m0.7309   \u001b[0m | \u001b[0m3.038    \u001b[0m | \u001b[0m970.2    \u001b[0m |\n",
      "| \u001b[0m7        \u001b[0m | \u001b[0m0.7524   \u001b[0m | \u001b[0m83.41    \u001b[0m | \u001b[0m220.2    \u001b[0m |\n",
      "| \u001b[0m8        \u001b[0m | \u001b[0m0.7546   \u001b[0m | \u001b[0m19.0     \u001b[0m | \u001b[0m191.6    \u001b[0m |\n",
      "| \u001b[0m9        \u001b[0m | \u001b[0m0.7519   \u001b[0m | \u001b[0m31.12    \u001b[0m | \u001b[0m529.5    \u001b[0m |\n",
      "| \u001b[0m10       \u001b[0m | \u001b[0m0.7524   \u001b[0m | \u001b[0m43.76    \u001b[0m | \u001b[0m298.3    \u001b[0m |\n",
      "| \u001b[0m11       \u001b[0m | \u001b[0m0.6907   \u001b[0m | \u001b[0m1.024    \u001b[0m | \u001b[0m176.8    \u001b[0m |\n",
      "| \u001b[95m12       \u001b[0m | \u001b[95m0.7603   \u001b[0m | \u001b[95m15.44    \u001b[0m | \u001b[95m165.7    \u001b[0m |\n",
      "| \u001b[0m13       \u001b[0m | \u001b[0m0.7535   \u001b[0m | \u001b[0m19.86    \u001b[0m | \u001b[0m174.1    \u001b[0m |\n",
      "| \u001b[0m14       \u001b[0m | \u001b[0m0.7513   \u001b[0m | \u001b[0m28.88    \u001b[0m | \u001b[0m186.8    \u001b[0m |\n",
      "| \u001b[0m15       \u001b[0m | \u001b[0m0.7532   \u001b[0m | \u001b[0m23.77    \u001b[0m | \u001b[0m203.9    \u001b[0m |\n",
      "| \u001b[95m16       \u001b[0m | \u001b[95m0.7605   \u001b[0m | \u001b[95m10.96    \u001b[0m | \u001b[95m201.4    \u001b[0m |\n",
      "| \u001b[0m17       \u001b[0m | \u001b[0m0.7573   \u001b[0m | \u001b[0m7.979    \u001b[0m | \u001b[0m211.0    \u001b[0m |\n",
      "| \u001b[0m18       \u001b[0m | \u001b[0m0.7555   \u001b[0m | \u001b[0m20.62    \u001b[0m | \u001b[0m218.6    \u001b[0m |\n",
      "| \u001b[0m19       \u001b[0m | \u001b[0m0.7587   \u001b[0m | \u001b[0m9.661    \u001b[0m | \u001b[0m227.2    \u001b[0m |\n",
      "| \u001b[0m20       \u001b[0m | \u001b[0m0.7543   \u001b[0m | \u001b[0m20.74    \u001b[0m | \u001b[0m231.7    \u001b[0m |\n",
      "=================================================\n",
      "Best Bagging Classifier Parameters: {'target': 0.7604611233750307, 'params': {'max_depth': 10.958371095220452, 'n_estimators': 201.36007395414558}}\n",
      "best accuracy for bagging: 0.7604611233750307\n"
     ]
    }
   ],
   "source": [
    "optimizer_bagging = BayesianOptimization(f=optimize_bagging, pbounds=pbounds_bagging, random_state=42)\n",
    "optimizer_bagging.maximize(init_points=10, n_iter=10)\n",
    "best_params_bagging = optimizer_bagging.max\n",
    "print(\"Best Bagging Classifier Parameters:\", best_params_bagging)\n",
    "print(\"best accuracy for bagging:\", optimizer_bagging.max['target'])"
   ]
  },
  {
   "cell_type": "code",
   "execution_count": 33,
   "metadata": {},
   "outputs": [
    {
     "name": "stdout",
     "output_type": "stream",
     "text": [
      "|   iter    |  target   | max_depth | n_esti... |\n",
      "-------------------------------------------------\n",
      "| \u001b[0m1        \u001b[0m | \u001b[0m0.6149   \u001b[0m | \u001b[0m38.08    \u001b[0m | \u001b[0m951.2    \u001b[0m |\n",
      "| \u001b[95m2        \u001b[0m | \u001b[95m0.629    \u001b[0m | \u001b[95m73.47    \u001b[0m | \u001b[95m602.7    \u001b[0m |\n",
      "| \u001b[0m3        \u001b[0m | \u001b[0m0.5902   \u001b[0m | \u001b[0m16.45    \u001b[0m | \u001b[0m164.4    \u001b[0m |\n",
      "| \u001b[95m4        \u001b[0m | \u001b[95m0.7433   \u001b[0m | \u001b[95m6.75     \u001b[0m | \u001b[95m867.5    \u001b[0m |\n",
      "| \u001b[0m5        \u001b[0m | \u001b[0m0.6102   \u001b[0m | \u001b[0m60.51    \u001b[0m | \u001b[0m711.0    \u001b[0m |\n",
      "| \u001b[0m6        \u001b[0m | \u001b[0m0.7253   \u001b[0m | \u001b[0m3.038    \u001b[0m | \u001b[0m970.2    \u001b[0m |\n",
      "| \u001b[0m7        \u001b[0m | \u001b[0m0.629    \u001b[0m | \u001b[0m83.41    \u001b[0m | \u001b[0m220.2    \u001b[0m |\n",
      "| \u001b[0m8        \u001b[0m | \u001b[0m0.5966   \u001b[0m | \u001b[0m19.0     \u001b[0m | \u001b[0m191.6    \u001b[0m |\n",
      "| \u001b[0m9        \u001b[0m | \u001b[0m0.5916   \u001b[0m | \u001b[0m31.12    \u001b[0m | \u001b[0m529.5    \u001b[0m |\n",
      "| \u001b[0m10       \u001b[0m | \u001b[0m0.6405   \u001b[0m | \u001b[0m43.76    \u001b[0m | \u001b[0m298.3    \u001b[0m |\n",
      "| \u001b[0m11       \u001b[0m | \u001b[0m0.5761   \u001b[0m | \u001b[0m19.16    \u001b[0m | \u001b[0m856.4    \u001b[0m |\n",
      "| \u001b[0m12       \u001b[0m | \u001b[0m0.7333   \u001b[0m | \u001b[0m2.188    \u001b[0m | \u001b[0m969.4    \u001b[0m |\n",
      "| \u001b[0m13       \u001b[0m | \u001b[0m0.6907   \u001b[0m | \u001b[0m1.553    \u001b[0m | \u001b[0m869.9    \u001b[0m |\n",
      "| \u001b[0m14       \u001b[0m | \u001b[0m0.5661   \u001b[0m | \u001b[0m11.73    \u001b[0m | \u001b[0m872.1    \u001b[0m |\n",
      "| \u001b[95m15       \u001b[0m | \u001b[95m0.7441   \u001b[0m | \u001b[95m7.606    \u001b[0m | \u001b[95m863.6    \u001b[0m |\n",
      "| \u001b[0m16       \u001b[0m | \u001b[0m0.7333   \u001b[0m | \u001b[0m2.542    \u001b[0m | \u001b[0m863.5    \u001b[0m |\n",
      "| \u001b[0m17       \u001b[0m | \u001b[0m0.7387   \u001b[0m | \u001b[0m4.601    \u001b[0m | \u001b[0m963.7    \u001b[0m |\n",
      "| \u001b[0m18       \u001b[0m | \u001b[0m0.6907   \u001b[0m | \u001b[0m1.311    \u001b[0m | \u001b[0m958.7    \u001b[0m |\n",
      "| \u001b[0m19       \u001b[0m | \u001b[0m0.5631   \u001b[0m | \u001b[0m12.66    \u001b[0m | \u001b[0m963.0    \u001b[0m |\n",
      "| \u001b[0m20       \u001b[0m | \u001b[0m0.7432   \u001b[0m | \u001b[0m6.073    \u001b[0m | \u001b[0m857.0    \u001b[0m |\n",
      "=================================================\n",
      "Best AdaBoost Classifier Parameters: {'target': 0.7441255825361786, 'params': {'max_depth': 7.60634911968889, 'n_estimators': 863.6140099620168}}\n",
      "best accuracy for boosting: 0.7441255825361786\n"
     ]
    }
   ],
   "source": [
    "#adaboost\n",
    "optimizer_adaboost = BayesianOptimization(f=optimize_adaboost, pbounds=pbounds_adaboost, random_state=42)\n",
    "optimizer_adaboost.maximize(init_points=10, n_iter=10)\n",
    "best_params_adaboost = optimizer_adaboost.max\n",
    "print(\"Best AdaBoost Classifier Parameters:\", best_params_adaboost)\n",
    "print(\"best accuracy for boosting:\", optimizer_adaboost.max['target'])\n"
   ]
  },
  {
   "cell_type": "code",
   "execution_count": 41,
   "metadata": {
    "ExecuteTime": {
     "end_time": "2023-12-22T18:28:53.905438Z",
     "start_time": "2023-12-22T18:28:53.904762Z"
    }
   },
   "outputs": [
    {
     "name": "stdout",
     "output_type": "stream",
     "text": [
      "|   iter    |  target   | max_depth | min_sa... | min_sa... | n_esti... |\n",
      "-------------------------------------------------------------------------\n",
      "| \u001b[0m1        \u001b[0m | \u001b[0m0.5633   \u001b[0m | \u001b[0m38.08    \u001b[0m | \u001b[0m0.9508   \u001b[0m | \u001b[0m0.7323   \u001b[0m | \u001b[0m602.7    \u001b[0m |\n",
      "| \u001b[95m2        \u001b[0m | \u001b[95m0.7273   \u001b[0m | \u001b[95m16.45    \u001b[0m | \u001b[95m0.1568   \u001b[0m | \u001b[95m0.05903  \u001b[0m | \u001b[95m867.5    \u001b[0m |\n",
      "| \u001b[0m3        \u001b[0m | \u001b[0m0.5633   \u001b[0m | \u001b[0m60.51    \u001b[0m | \u001b[0m0.7084   \u001b[0m | \u001b[0m0.02156  \u001b[0m | \u001b[0m970.2    \u001b[0m |\n",
      "| \u001b[0m4        \u001b[0m | \u001b[0m0.72     \u001b[0m | \u001b[0m83.41    \u001b[0m | \u001b[0m0.2131   \u001b[0m | \u001b[0m0.1826   \u001b[0m | \u001b[0m191.6    \u001b[0m |\n",
      "| \u001b[0m5        \u001b[0m | \u001b[0m0.5633   \u001b[0m | \u001b[0m31.12    \u001b[0m | \u001b[0m0.5252   \u001b[0m | \u001b[0m0.4325   \u001b[0m | \u001b[0m298.3    \u001b[0m |\n",
      "| \u001b[0m6        \u001b[0m | \u001b[0m0.7212   \u001b[0m | \u001b[0m61.57    \u001b[0m | \u001b[0m0.1404   \u001b[0m | \u001b[0m0.2929   \u001b[0m | \u001b[0m372.7    \u001b[0m |\n",
      "| \u001b[0m7        \u001b[0m | \u001b[0m0.5633   \u001b[0m | \u001b[0m46.15    \u001b[0m | \u001b[0m0.7854   \u001b[0m | \u001b[0m0.2005   \u001b[0m | \u001b[0m519.1    \u001b[0m |\n",
      "| \u001b[95m8        \u001b[0m | \u001b[95m0.7321   \u001b[0m | \u001b[95m59.65    \u001b[0m | \u001b[95m0.0474   \u001b[0m | \u001b[95m0.6079   \u001b[0m | \u001b[95m178.8    \u001b[0m |\n",
      "| \u001b[0m9        \u001b[0m | \u001b[0m0.5633   \u001b[0m | \u001b[0m7.44     \u001b[0m | \u001b[0m0.9489   \u001b[0m | \u001b[0m0.9657   \u001b[0m | \u001b[0m810.3    \u001b[0m |\n",
      "| \u001b[0m10       \u001b[0m | \u001b[0m0.7199   \u001b[0m | \u001b[0m31.16    \u001b[0m | \u001b[0m0.09857  \u001b[0m | \u001b[0m0.6845   \u001b[0m | \u001b[0m445.8    \u001b[0m |\n",
      "| \u001b[0m11       \u001b[0m | \u001b[0m0.7185   \u001b[0m | \u001b[0m51.36    \u001b[0m | \u001b[0m0.3481   \u001b[0m | \u001b[0m0.3981   \u001b[0m | \u001b[0m411.0    \u001b[0m |\n",
      "| \u001b[0m12       \u001b[0m | \u001b[0m0.5633   \u001b[0m | \u001b[0m87.5     \u001b[0m | \u001b[0m0.9582   \u001b[0m | \u001b[0m0.1126   \u001b[0m | \u001b[0m136.7    \u001b[0m |\n",
      "| \u001b[0m13       \u001b[0m | \u001b[0m0.5633   \u001b[0m | \u001b[0m59.77    \u001b[0m | \u001b[0m0.9414   \u001b[0m | \u001b[0m0.04833  \u001b[0m | \u001b[0m179.4    \u001b[0m |\n",
      "| \u001b[0m14       \u001b[0m | \u001b[0m0.5633   \u001b[0m | \u001b[0m97.11    \u001b[0m | \u001b[0m0.7099   \u001b[0m | \u001b[0m0.9939   \u001b[0m | \u001b[0m380.2    \u001b[0m |\n",
      "| \u001b[0m15       \u001b[0m | \u001b[0m0.7189   \u001b[0m | \u001b[0m47.68    \u001b[0m | \u001b[0m0.1613   \u001b[0m | \u001b[0m0.8022   \u001b[0m | \u001b[0m105.5    \u001b[0m |\n",
      "| \u001b[0m16       \u001b[0m | \u001b[0m0.5633   \u001b[0m | \u001b[0m93.89    \u001b[0m | \u001b[0m0.7066   \u001b[0m | \u001b[0m0.4507   \u001b[0m | \u001b[0m998.5    \u001b[0m |\n",
      "| \u001b[0m17       \u001b[0m | \u001b[0m0.5633   \u001b[0m | \u001b[0m77.74    \u001b[0m | \u001b[0m0.8822   \u001b[0m | \u001b[0m0.2279   \u001b[0m | \u001b[0m378.7    \u001b[0m |\n",
      "| \u001b[0m18       \u001b[0m | \u001b[0m0.5633   \u001b[0m | \u001b[0m20.16    \u001b[0m | \u001b[0m0.6216   \u001b[0m | \u001b[0m0.249    \u001b[0m | \u001b[0m770.1    \u001b[0m |\n",
      "| \u001b[0m19       \u001b[0m | \u001b[0m0.7195   \u001b[0m | \u001b[0m1.624    \u001b[0m | \u001b[0m0.4598   \u001b[0m | \u001b[0m0.9767   \u001b[0m | \u001b[0m531.5    \u001b[0m |\n",
      "| \u001b[0m20       \u001b[0m | \u001b[0m0.5633   \u001b[0m | \u001b[0m74.52    \u001b[0m | \u001b[0m0.5256   \u001b[0m | \u001b[0m0.301    \u001b[0m | \u001b[0m29.48    \u001b[0m |\n",
      "=========================================================================\n",
      "Best Random Forest Classifier Parameters: {'target': 0.7320578857002699, 'params': {'max_depth': 59.64904231734221, 'min_samples_leaf': 0.047403962307277725, 'min_samples_split': 0.607937307049537, 'n_estimators': 178.8188824504186}}\n",
      "best accuracy for random forest: 0.7320578857002699\n"
     ]
    }
   ],
   "source": [
    "\n",
    "#random forest\n",
    "optimizer_rf = BayesianOptimization(f=optimize_rf, pbounds=pbounds_rf, random_state=42)\n",
    "optimizer_rf.maximize(init_points=10, n_iter=10)\n",
    "best_params_rf = optimizer_rf.max\n",
    "print(\"Best Random Forest Classifier Parameters:\", best_params_rf)\n",
    "print(\"best accuracy for random forest:\", optimizer_rf.max['target'])\n"
   ]
  },
  {
   "cell_type": "markdown",
   "metadata": {},
   "source": [
    "# sklearn ensamble methode {training and make hyperparmeter}"
   ]
  },
  {
   "cell_type": "code",
   "execution_count": 42,
   "metadata": {
    "ExecuteTime": {
     "end_time": "2023-12-22T18:28:53.905819Z",
     "start_time": "2023-12-22T18:28:53.905516Z"
    }
   },
   "outputs": [
    {
     "name": "stderr",
     "output_type": "stream",
     "text": [
      "/Library/Frameworks/Python.framework/Versions/3.11/lib/python3.11/site-packages/sklearn/ensemble/_base.py:156: FutureWarning: `base_estimator` was renamed to `estimator` in version 1.2 and will be removed in 1.4.\n",
      "  warnings.warn(\n"
     ]
    },
    {
     "name": "stdout",
     "output_type": "stream",
     "text": [
      "Bagging Accuracy: 0.7501103752759382\n"
     ]
    },
    {
     "name": "stderr",
     "output_type": "stream",
     "text": [
      "/Library/Frameworks/Python.framework/Versions/3.11/lib/python3.11/site-packages/sklearn/ensemble/_base.py:156: FutureWarning: `base_estimator` was renamed to `estimator` in version 1.2 and will be removed in 1.4.\n",
      "  warnings.warn(\n"
     ]
    },
    {
     "name": "stdout",
     "output_type": "stream",
     "text": [
      "Boosting Accuracy: 0.7565857247976453\n",
      "Random Forest Accuracy: 0.7545253863134658\n"
     ]
    }
   ],
   "source": [
    "from sklearn.ensemble import BaggingClassifier, AdaBoostClassifier, RandomForestClassifier\n",
    "from sklearn.model_selection import train_test_split\n",
    "from sklearn.metrics import accuracy_score\n",
    "from sklearn.tree import DecisionTreeClassifier\n",
    "\n",
    "# Bagging\n",
    "bagging_model = BaggingClassifier(base_estimator=DecisionTreeClassifier(), n_estimators=100, random_state=42)\n",
    "bagging_model.fit(X_train, y_train)\n",
    "bagging_predictions = bagging_model.predict(X_test)\n",
    "bagging_accuracy = accuracy_score(y_test, bagging_predictions)\n",
    "print(f\"Bagging Accuracy: {bagging_accuracy}\")\n",
    "\n",
    "# Boosting (AdaBoost)\n",
    "boosting_model = AdaBoostClassifier(base_estimator=DecisionTreeClassifier(max_depth=1), n_estimators=100,\n",
    "                                    random_state=42)\n",
    "boosting_model.fit(X_train, y_train)\n",
    "boosting_predictions = boosting_model.predict(X_test)\n",
    "boosting_accuracy = accuracy_score(y_test, boosting_predictions)\n",
    "print(f\"Boosting Accuracy: {boosting_accuracy}\")\n",
    "\n",
    "# Random Forest\n",
    "random_forest_model = RandomForestClassifier(n_estimators=100, max_depth=None, random_state=42)\n",
    "random_forest_model.fit(X_train, y_train)\n",
    "random_forest_predictions = random_forest_model.predict(X_test)\n",
    "random_forest_accuracy = accuracy_score(y_test, random_forest_predictions)\n",
    "print(f\"Random Forest Accuracy: {random_forest_accuracy}\")"
   ]
  },
  {
   "cell_type": "markdown",
   "metadata": {},
   "source": [
    "# Grid Search for sklearn ensamble methode"
   ]
  },
  {
   "cell_type": "code",
   "execution_count": 48,
   "metadata": {
    "ExecuteTime": {
     "start_time": "2023-12-22T18:28:53.906740Z"
    },
    "collapsed": false
   },
   "outputs": [
    {
     "name": "stderr",
     "output_type": "stream",
     "text": [
      "/Library/Frameworks/Python.framework/Versions/3.11/lib/python3.11/site-packages/sklearn/ensemble/_base.py:156: FutureWarning: `base_estimator` was renamed to `estimator` in version 1.2 and will be removed in 1.4.\n",
      "  warnings.warn(\n",
      "/Library/Frameworks/Python.framework/Versions/3.11/lib/python3.11/site-packages/sklearn/ensemble/_base.py:156: FutureWarning: `base_estimator` was renamed to `estimator` in version 1.2 and will be removed in 1.4.\n",
      "  warnings.warn(\n",
      "/Library/Frameworks/Python.framework/Versions/3.11/lib/python3.11/site-packages/sklearn/ensemble/_base.py:156: FutureWarning: `base_estimator` was renamed to `estimator` in version 1.2 and will be removed in 1.4.\n",
      "  warnings.warn(\n",
      "/Library/Frameworks/Python.framework/Versions/3.11/lib/python3.11/site-packages/sklearn/ensemble/_base.py:156: FutureWarning: `base_estimator` was renamed to `estimator` in version 1.2 and will be removed in 1.4.\n",
      "  warnings.warn(\n",
      "/Library/Frameworks/Python.framework/Versions/3.11/lib/python3.11/site-packages/sklearn/ensemble/_base.py:156: FutureWarning: `base_estimator` was renamed to `estimator` in version 1.2 and will be removed in 1.4.\n",
      "  warnings.warn(\n",
      "/Library/Frameworks/Python.framework/Versions/3.11/lib/python3.11/site-packages/sklearn/ensemble/_base.py:156: FutureWarning: `base_estimator` was renamed to `estimator` in version 1.2 and will be removed in 1.4.\n",
      "  warnings.warn(\n",
      "/Library/Frameworks/Python.framework/Versions/3.11/lib/python3.11/site-packages/sklearn/ensemble/_base.py:156: FutureWarning: `base_estimator` was renamed to `estimator` in version 1.2 and will be removed in 1.4.\n",
      "  warnings.warn(\n",
      "/Library/Frameworks/Python.framework/Versions/3.11/lib/python3.11/site-packages/sklearn/ensemble/_base.py:156: FutureWarning: `base_estimator` was renamed to `estimator` in version 1.2 and will be removed in 1.4.\n",
      "  warnings.warn(\n",
      "/Library/Frameworks/Python.framework/Versions/3.11/lib/python3.11/site-packages/sklearn/ensemble/_base.py:156: FutureWarning: `base_estimator` was renamed to `estimator` in version 1.2 and will be removed in 1.4.\n",
      "  warnings.warn(\n",
      "/Library/Frameworks/Python.framework/Versions/3.11/lib/python3.11/site-packages/sklearn/ensemble/_base.py:156: FutureWarning: `base_estimator` was renamed to `estimator` in version 1.2 and will be removed in 1.4.\n",
      "  warnings.warn(\n",
      "/Library/Frameworks/Python.framework/Versions/3.11/lib/python3.11/site-packages/sklearn/ensemble/_base.py:156: FutureWarning: `base_estimator` was renamed to `estimator` in version 1.2 and will be removed in 1.4.\n",
      "  warnings.warn(\n",
      "/Library/Frameworks/Python.framework/Versions/3.11/lib/python3.11/site-packages/sklearn/ensemble/_base.py:156: FutureWarning: `base_estimator` was renamed to `estimator` in version 1.2 and will be removed in 1.4.\n",
      "  warnings.warn(\n",
      "/Library/Frameworks/Python.framework/Versions/3.11/lib/python3.11/site-packages/sklearn/ensemble/_base.py:156: FutureWarning: `base_estimator` was renamed to `estimator` in version 1.2 and will be removed in 1.4.\n",
      "  warnings.warn(\n",
      "/Library/Frameworks/Python.framework/Versions/3.11/lib/python3.11/site-packages/sklearn/ensemble/_base.py:156: FutureWarning: `base_estimator` was renamed to `estimator` in version 1.2 and will be removed in 1.4.\n",
      "  warnings.warn(\n",
      "/Library/Frameworks/Python.framework/Versions/3.11/lib/python3.11/site-packages/sklearn/ensemble/_base.py:156: FutureWarning: `base_estimator` was renamed to `estimator` in version 1.2 and will be removed in 1.4.\n",
      "  warnings.warn(\n",
      "/Library/Frameworks/Python.framework/Versions/3.11/lib/python3.11/site-packages/sklearn/ensemble/_base.py:156: FutureWarning: `base_estimator` was renamed to `estimator` in version 1.2 and will be removed in 1.4.\n",
      "  warnings.warn(\n",
      "/Library/Frameworks/Python.framework/Versions/3.11/lib/python3.11/site-packages/sklearn/ensemble/_base.py:156: FutureWarning: `base_estimator` was renamed to `estimator` in version 1.2 and will be removed in 1.4.\n",
      "  warnings.warn(\n",
      "/Library/Frameworks/Python.framework/Versions/3.11/lib/python3.11/site-packages/sklearn/ensemble/_base.py:156: FutureWarning: `base_estimator` was renamed to `estimator` in version 1.2 and will be removed in 1.4.\n",
      "  warnings.warn(\n",
      "/Library/Frameworks/Python.framework/Versions/3.11/lib/python3.11/site-packages/sklearn/ensemble/_base.py:156: FutureWarning: `base_estimator` was renamed to `estimator` in version 1.2 and will be removed in 1.4.\n",
      "  warnings.warn(\n",
      "/Library/Frameworks/Python.framework/Versions/3.11/lib/python3.11/site-packages/sklearn/ensemble/_base.py:156: FutureWarning: `base_estimator` was renamed to `estimator` in version 1.2 and will be removed in 1.4.\n",
      "  warnings.warn(\n",
      "/Library/Frameworks/Python.framework/Versions/3.11/lib/python3.11/site-packages/sklearn/ensemble/_base.py:156: FutureWarning: `base_estimator` was renamed to `estimator` in version 1.2 and will be removed in 1.4.\n",
      "  warnings.warn(\n",
      "/Library/Frameworks/Python.framework/Versions/3.11/lib/python3.11/site-packages/sklearn/ensemble/_base.py:156: FutureWarning: `base_estimator` was renamed to `estimator` in version 1.2 and will be removed in 1.4.\n",
      "  warnings.warn(\n",
      "/Library/Frameworks/Python.framework/Versions/3.11/lib/python3.11/site-packages/sklearn/ensemble/_base.py:156: FutureWarning: `base_estimator` was renamed to `estimator` in version 1.2 and will be removed in 1.4.\n",
      "  warnings.warn(\n",
      "/Library/Frameworks/Python.framework/Versions/3.11/lib/python3.11/site-packages/sklearn/ensemble/_base.py:156: FutureWarning: `base_estimator` was renamed to `estimator` in version 1.2 and will be removed in 1.4.\n",
      "  warnings.warn(\n",
      "/Library/Frameworks/Python.framework/Versions/3.11/lib/python3.11/site-packages/sklearn/ensemble/_base.py:156: FutureWarning: `base_estimator` was renamed to `estimator` in version 1.2 and will be removed in 1.4.\n",
      "  warnings.warn(\n",
      "/Library/Frameworks/Python.framework/Versions/3.11/lib/python3.11/site-packages/sklearn/ensemble/_base.py:156: FutureWarning: `base_estimator` was renamed to `estimator` in version 1.2 and will be removed in 1.4.\n",
      "  warnings.warn(\n",
      "/Library/Frameworks/Python.framework/Versions/3.11/lib/python3.11/site-packages/sklearn/ensemble/_base.py:156: FutureWarning: `base_estimator` was renamed to `estimator` in version 1.2 and will be removed in 1.4.\n",
      "  warnings.warn(\n",
      "/Library/Frameworks/Python.framework/Versions/3.11/lib/python3.11/site-packages/sklearn/ensemble/_base.py:156: FutureWarning: `base_estimator` was renamed to `estimator` in version 1.2 and will be removed in 1.4.\n",
      "  warnings.warn(\n",
      "/Library/Frameworks/Python.framework/Versions/3.11/lib/python3.11/site-packages/sklearn/ensemble/_base.py:156: FutureWarning: `base_estimator` was renamed to `estimator` in version 1.2 and will be removed in 1.4.\n",
      "  warnings.warn(\n",
      "/Library/Frameworks/Python.framework/Versions/3.11/lib/python3.11/site-packages/sklearn/ensemble/_base.py:156: FutureWarning: `base_estimator` was renamed to `estimator` in version 1.2 and will be removed in 1.4.\n",
      "  warnings.warn(\n",
      "/Library/Frameworks/Python.framework/Versions/3.11/lib/python3.11/site-packages/sklearn/ensemble/_base.py:156: FutureWarning: `base_estimator` was renamed to `estimator` in version 1.2 and will be removed in 1.4.\n",
      "  warnings.warn(\n",
      "/Library/Frameworks/Python.framework/Versions/3.11/lib/python3.11/site-packages/sklearn/ensemble/_base.py:156: FutureWarning: `base_estimator` was renamed to `estimator` in version 1.2 and will be removed in 1.4.\n",
      "  warnings.warn(\n",
      "/Library/Frameworks/Python.framework/Versions/3.11/lib/python3.11/site-packages/sklearn/ensemble/_base.py:156: FutureWarning: `base_estimator` was renamed to `estimator` in version 1.2 and will be removed in 1.4.\n",
      "  warnings.warn(\n",
      "/Library/Frameworks/Python.framework/Versions/3.11/lib/python3.11/site-packages/sklearn/ensemble/_base.py:156: FutureWarning: `base_estimator` was renamed to `estimator` in version 1.2 and will be removed in 1.4.\n",
      "  warnings.warn(\n",
      "/Library/Frameworks/Python.framework/Versions/3.11/lib/python3.11/site-packages/sklearn/ensemble/_base.py:156: FutureWarning: `base_estimator` was renamed to `estimator` in version 1.2 and will be removed in 1.4.\n",
      "  warnings.warn(\n",
      "/Library/Frameworks/Python.framework/Versions/3.11/lib/python3.11/site-packages/sklearn/ensemble/_base.py:156: FutureWarning: `base_estimator` was renamed to `estimator` in version 1.2 and will be removed in 1.4.\n",
      "  warnings.warn(\n",
      "/Library/Frameworks/Python.framework/Versions/3.11/lib/python3.11/site-packages/sklearn/ensemble/_base.py:156: FutureWarning: `base_estimator` was renamed to `estimator` in version 1.2 and will be removed in 1.4.\n",
      "  warnings.warn(\n",
      "/Library/Frameworks/Python.framework/Versions/3.11/lib/python3.11/site-packages/sklearn/ensemble/_base.py:156: FutureWarning: `base_estimator` was renamed to `estimator` in version 1.2 and will be removed in 1.4.\n",
      "  warnings.warn(\n",
      "/Library/Frameworks/Python.framework/Versions/3.11/lib/python3.11/site-packages/sklearn/ensemble/_base.py:156: FutureWarning: `base_estimator` was renamed to `estimator` in version 1.2 and will be removed in 1.4.\n",
      "  warnings.warn(\n",
      "/Library/Frameworks/Python.framework/Versions/3.11/lib/python3.11/site-packages/sklearn/ensemble/_base.py:156: FutureWarning: `base_estimator` was renamed to `estimator` in version 1.2 and will be removed in 1.4.\n",
      "  warnings.warn(\n",
      "/Library/Frameworks/Python.framework/Versions/3.11/lib/python3.11/site-packages/sklearn/ensemble/_base.py:156: FutureWarning: `base_estimator` was renamed to `estimator` in version 1.2 and will be removed in 1.4.\n",
      "  warnings.warn(\n",
      "/Library/Frameworks/Python.framework/Versions/3.11/lib/python3.11/site-packages/sklearn/ensemble/_base.py:156: FutureWarning: `base_estimator` was renamed to `estimator` in version 1.2 and will be removed in 1.4.\n",
      "  warnings.warn(\n",
      "/Library/Frameworks/Python.framework/Versions/3.11/lib/python3.11/site-packages/sklearn/ensemble/_base.py:156: FutureWarning: `base_estimator` was renamed to `estimator` in version 1.2 and will be removed in 1.4.\n",
      "  warnings.warn(\n",
      "/Library/Frameworks/Python.framework/Versions/3.11/lib/python3.11/site-packages/sklearn/ensemble/_base.py:156: FutureWarning: `base_estimator` was renamed to `estimator` in version 1.2 and will be removed in 1.4.\n",
      "  warnings.warn(\n",
      "/Library/Frameworks/Python.framework/Versions/3.11/lib/python3.11/site-packages/sklearn/ensemble/_base.py:156: FutureWarning: `base_estimator` was renamed to `estimator` in version 1.2 and will be removed in 1.4.\n",
      "  warnings.warn(\n",
      "/Library/Frameworks/Python.framework/Versions/3.11/lib/python3.11/site-packages/sklearn/ensemble/_base.py:156: FutureWarning: `base_estimator` was renamed to `estimator` in version 1.2 and will be removed in 1.4.\n",
      "  warnings.warn(\n",
      "/Library/Frameworks/Python.framework/Versions/3.11/lib/python3.11/site-packages/sklearn/ensemble/_base.py:156: FutureWarning: `base_estimator` was renamed to `estimator` in version 1.2 and will be removed in 1.4.\n",
      "  warnings.warn(\n",
      "/Library/Frameworks/Python.framework/Versions/3.11/lib/python3.11/site-packages/sklearn/ensemble/_base.py:156: FutureWarning: `base_estimator` was renamed to `estimator` in version 1.2 and will be removed in 1.4.\n",
      "  warnings.warn(\n",
      "/Library/Frameworks/Python.framework/Versions/3.11/lib/python3.11/site-packages/sklearn/ensemble/_base.py:156: FutureWarning: `base_estimator` was renamed to `estimator` in version 1.2 and will be removed in 1.4.\n",
      "  warnings.warn(\n",
      "/Library/Frameworks/Python.framework/Versions/3.11/lib/python3.11/site-packages/sklearn/ensemble/_base.py:156: FutureWarning: `base_estimator` was renamed to `estimator` in version 1.2 and will be removed in 1.4.\n",
      "  warnings.warn(\n",
      "/Library/Frameworks/Python.framework/Versions/3.11/lib/python3.11/site-packages/sklearn/ensemble/_base.py:156: FutureWarning: `base_estimator` was renamed to `estimator` in version 1.2 and will be removed in 1.4.\n",
      "  warnings.warn(\n",
      "/Library/Frameworks/Python.framework/Versions/3.11/lib/python3.11/site-packages/sklearn/ensemble/_base.py:156: FutureWarning: `base_estimator` was renamed to `estimator` in version 1.2 and will be removed in 1.4.\n",
      "  warnings.warn(\n",
      "/Library/Frameworks/Python.framework/Versions/3.11/lib/python3.11/site-packages/sklearn/ensemble/_base.py:156: FutureWarning: `base_estimator` was renamed to `estimator` in version 1.2 and will be removed in 1.4.\n",
      "  warnings.warn(\n",
      "/Library/Frameworks/Python.framework/Versions/3.11/lib/python3.11/site-packages/sklearn/ensemble/_base.py:156: FutureWarning: `base_estimator` was renamed to `estimator` in version 1.2 and will be removed in 1.4.\n",
      "  warnings.warn(\n",
      "/Library/Frameworks/Python.framework/Versions/3.11/lib/python3.11/site-packages/sklearn/ensemble/_base.py:156: FutureWarning: `base_estimator` was renamed to `estimator` in version 1.2 and will be removed in 1.4.\n",
      "  warnings.warn(\n",
      "/Library/Frameworks/Python.framework/Versions/3.11/lib/python3.11/site-packages/sklearn/ensemble/_base.py:156: FutureWarning: `base_estimator` was renamed to `estimator` in version 1.2 and will be removed in 1.4.\n",
      "  warnings.warn(\n",
      "/Library/Frameworks/Python.framework/Versions/3.11/lib/python3.11/site-packages/sklearn/ensemble/_base.py:156: FutureWarning: `base_estimator` was renamed to `estimator` in version 1.2 and will be removed in 1.4.\n",
      "  warnings.warn(\n",
      "/Library/Frameworks/Python.framework/Versions/3.11/lib/python3.11/site-packages/sklearn/ensemble/_base.py:156: FutureWarning: `base_estimator` was renamed to `estimator` in version 1.2 and will be removed in 1.4.\n",
      "  warnings.warn(\n",
      "/Library/Frameworks/Python.framework/Versions/3.11/lib/python3.11/site-packages/sklearn/ensemble/_base.py:156: FutureWarning: `base_estimator` was renamed to `estimator` in version 1.2 and will be removed in 1.4.\n",
      "  warnings.warn(\n",
      "/Library/Frameworks/Python.framework/Versions/3.11/lib/python3.11/site-packages/sklearn/ensemble/_base.py:156: FutureWarning: `base_estimator` was renamed to `estimator` in version 1.2 and will be removed in 1.4.\n",
      "  warnings.warn(\n",
      "/Library/Frameworks/Python.framework/Versions/3.11/lib/python3.11/site-packages/sklearn/ensemble/_base.py:156: FutureWarning: `base_estimator` was renamed to `estimator` in version 1.2 and will be removed in 1.4.\n",
      "  warnings.warn(\n",
      "/Library/Frameworks/Python.framework/Versions/3.11/lib/python3.11/site-packages/sklearn/ensemble/_base.py:156: FutureWarning: `base_estimator` was renamed to `estimator` in version 1.2 and will be removed in 1.4.\n",
      "  warnings.warn(\n",
      "/Library/Frameworks/Python.framework/Versions/3.11/lib/python3.11/site-packages/sklearn/ensemble/_base.py:156: FutureWarning: `base_estimator` was renamed to `estimator` in version 1.2 and will be removed in 1.4.\n",
      "  warnings.warn(\n",
      "/Library/Frameworks/Python.framework/Versions/3.11/lib/python3.11/site-packages/sklearn/ensemble/_base.py:156: FutureWarning: `base_estimator` was renamed to `estimator` in version 1.2 and will be removed in 1.4.\n",
      "  warnings.warn(\n",
      "/Library/Frameworks/Python.framework/Versions/3.11/lib/python3.11/site-packages/sklearn/ensemble/_base.py:156: FutureWarning: `base_estimator` was renamed to `estimator` in version 1.2 and will be removed in 1.4.\n",
      "  warnings.warn(\n",
      "/Library/Frameworks/Python.framework/Versions/3.11/lib/python3.11/site-packages/sklearn/ensemble/_base.py:156: FutureWarning: `base_estimator` was renamed to `estimator` in version 1.2 and will be removed in 1.4.\n",
      "  warnings.warn(\n",
      "/Library/Frameworks/Python.framework/Versions/3.11/lib/python3.11/site-packages/sklearn/ensemble/_base.py:156: FutureWarning: `base_estimator` was renamed to `estimator` in version 1.2 and will be removed in 1.4.\n",
      "  warnings.warn(\n",
      "/Library/Frameworks/Python.framework/Versions/3.11/lib/python3.11/site-packages/sklearn/ensemble/_base.py:156: FutureWarning: `base_estimator` was renamed to `estimator` in version 1.2 and will be removed in 1.4.\n",
      "  warnings.warn(\n",
      "/Library/Frameworks/Python.framework/Versions/3.11/lib/python3.11/site-packages/sklearn/ensemble/_base.py:156: FutureWarning: `base_estimator` was renamed to `estimator` in version 1.2 and will be removed in 1.4.\n",
      "  warnings.warn(\n",
      "/Library/Frameworks/Python.framework/Versions/3.11/lib/python3.11/site-packages/sklearn/ensemble/_base.py:156: FutureWarning: `base_estimator` was renamed to `estimator` in version 1.2 and will be removed in 1.4.\n",
      "  warnings.warn(\n",
      "/Library/Frameworks/Python.framework/Versions/3.11/lib/python3.11/site-packages/sklearn/ensemble/_base.py:156: FutureWarning: `base_estimator` was renamed to `estimator` in version 1.2 and will be removed in 1.4.\n",
      "  warnings.warn(\n",
      "/Library/Frameworks/Python.framework/Versions/3.11/lib/python3.11/site-packages/sklearn/ensemble/_base.py:156: FutureWarning: `base_estimator` was renamed to `estimator` in version 1.2 and will be removed in 1.4.\n",
      "  warnings.warn(\n",
      "/Library/Frameworks/Python.framework/Versions/3.11/lib/python3.11/site-packages/sklearn/ensemble/_base.py:156: FutureWarning: `base_estimator` was renamed to `estimator` in version 1.2 and will be removed in 1.4.\n",
      "  warnings.warn(\n",
      "/Library/Frameworks/Python.framework/Versions/3.11/lib/python3.11/site-packages/sklearn/ensemble/_base.py:156: FutureWarning: `base_estimator` was renamed to `estimator` in version 1.2 and will be removed in 1.4.\n",
      "  warnings.warn(\n",
      "/Library/Frameworks/Python.framework/Versions/3.11/lib/python3.11/site-packages/sklearn/ensemble/_base.py:156: FutureWarning: `base_estimator` was renamed to `estimator` in version 1.2 and will be removed in 1.4.\n",
      "  warnings.warn(\n",
      "/Library/Frameworks/Python.framework/Versions/3.11/lib/python3.11/site-packages/sklearn/ensemble/_base.py:156: FutureWarning: `base_estimator` was renamed to `estimator` in version 1.2 and will be removed in 1.4.\n",
      "  warnings.warn(\n",
      "/Library/Frameworks/Python.framework/Versions/3.11/lib/python3.11/site-packages/sklearn/ensemble/_base.py:156: FutureWarning: `base_estimator` was renamed to `estimator` in version 1.2 and will be removed in 1.4.\n",
      "  warnings.warn(\n",
      "/Library/Frameworks/Python.framework/Versions/3.11/lib/python3.11/site-packages/sklearn/ensemble/_base.py:156: FutureWarning: `base_estimator` was renamed to `estimator` in version 1.2 and will be removed in 1.4.\n",
      "  warnings.warn(\n",
      "/Library/Frameworks/Python.framework/Versions/3.11/lib/python3.11/site-packages/sklearn/ensemble/_base.py:156: FutureWarning: `base_estimator` was renamed to `estimator` in version 1.2 and will be removed in 1.4.\n",
      "  warnings.warn(\n",
      "/Library/Frameworks/Python.framework/Versions/3.11/lib/python3.11/site-packages/sklearn/ensemble/_base.py:156: FutureWarning: `base_estimator` was renamed to `estimator` in version 1.2 and will be removed in 1.4.\n",
      "  warnings.warn(\n",
      "/Library/Frameworks/Python.framework/Versions/3.11/lib/python3.11/site-packages/sklearn/ensemble/_base.py:156: FutureWarning: `base_estimator` was renamed to `estimator` in version 1.2 and will be removed in 1.4.\n",
      "  warnings.warn(\n",
      "/Library/Frameworks/Python.framework/Versions/3.11/lib/python3.11/site-packages/sklearn/ensemble/_base.py:156: FutureWarning: `base_estimator` was renamed to `estimator` in version 1.2 and will be removed in 1.4.\n",
      "  warnings.warn(\n",
      "/Library/Frameworks/Python.framework/Versions/3.11/lib/python3.11/site-packages/sklearn/ensemble/_base.py:156: FutureWarning: `base_estimator` was renamed to `estimator` in version 1.2 and will be removed in 1.4.\n",
      "  warnings.warn(\n",
      "/Library/Frameworks/Python.framework/Versions/3.11/lib/python3.11/site-packages/sklearn/ensemble/_base.py:156: FutureWarning: `base_estimator` was renamed to `estimator` in version 1.2 and will be removed in 1.4.\n",
      "  warnings.warn(\n",
      "/Library/Frameworks/Python.framework/Versions/3.11/lib/python3.11/site-packages/sklearn/ensemble/_base.py:156: FutureWarning: `base_estimator` was renamed to `estimator` in version 1.2 and will be removed in 1.4.\n",
      "  warnings.warn(\n",
      "/Library/Frameworks/Python.framework/Versions/3.11/lib/python3.11/site-packages/sklearn/ensemble/_base.py:156: FutureWarning: `base_estimator` was renamed to `estimator` in version 1.2 and will be removed in 1.4.\n",
      "  warnings.warn(\n",
      "/Library/Frameworks/Python.framework/Versions/3.11/lib/python3.11/site-packages/sklearn/ensemble/_base.py:156: FutureWarning: `base_estimator` was renamed to `estimator` in version 1.2 and will be removed in 1.4.\n",
      "  warnings.warn(\n",
      "/Library/Frameworks/Python.framework/Versions/3.11/lib/python3.11/site-packages/sklearn/ensemble/_base.py:156: FutureWarning: `base_estimator` was renamed to `estimator` in version 1.2 and will be removed in 1.4.\n",
      "  warnings.warn(\n",
      "/Library/Frameworks/Python.framework/Versions/3.11/lib/python3.11/site-packages/sklearn/ensemble/_base.py:156: FutureWarning: `base_estimator` was renamed to `estimator` in version 1.2 and will be removed in 1.4.\n",
      "  warnings.warn(\n",
      "/Library/Frameworks/Python.framework/Versions/3.11/lib/python3.11/site-packages/sklearn/ensemble/_base.py:156: FutureWarning: `base_estimator` was renamed to `estimator` in version 1.2 and will be removed in 1.4.\n",
      "  warnings.warn(\n",
      "/Library/Frameworks/Python.framework/Versions/3.11/lib/python3.11/site-packages/sklearn/ensemble/_base.py:156: FutureWarning: `base_estimator` was renamed to `estimator` in version 1.2 and will be removed in 1.4.\n",
      "  warnings.warn(\n",
      "/Library/Frameworks/Python.framework/Versions/3.11/lib/python3.11/site-packages/sklearn/ensemble/_base.py:156: FutureWarning: `base_estimator` was renamed to `estimator` in version 1.2 and will be removed in 1.4.\n",
      "  warnings.warn(\n",
      "/Library/Frameworks/Python.framework/Versions/3.11/lib/python3.11/site-packages/sklearn/ensemble/_base.py:156: FutureWarning: `base_estimator` was renamed to `estimator` in version 1.2 and will be removed in 1.4.\n",
      "  warnings.warn(\n",
      "/Library/Frameworks/Python.framework/Versions/3.11/lib/python3.11/site-packages/sklearn/ensemble/_base.py:156: FutureWarning: `base_estimator` was renamed to `estimator` in version 1.2 and will be removed in 1.4.\n",
      "  warnings.warn(\n",
      "/Library/Frameworks/Python.framework/Versions/3.11/lib/python3.11/site-packages/sklearn/ensemble/_base.py:156: FutureWarning: `base_estimator` was renamed to `estimator` in version 1.2 and will be removed in 1.4.\n",
      "  warnings.warn(\n",
      "/Library/Frameworks/Python.framework/Versions/3.11/lib/python3.11/site-packages/sklearn/ensemble/_base.py:156: FutureWarning: `base_estimator` was renamed to `estimator` in version 1.2 and will be removed in 1.4.\n",
      "  warnings.warn(\n",
      "/Library/Frameworks/Python.framework/Versions/3.11/lib/python3.11/site-packages/sklearn/ensemble/_base.py:156: FutureWarning: `base_estimator` was renamed to `estimator` in version 1.2 and will be removed in 1.4.\n",
      "  warnings.warn(\n",
      "/Library/Frameworks/Python.framework/Versions/3.11/lib/python3.11/site-packages/sklearn/ensemble/_base.py:156: FutureWarning: `base_estimator` was renamed to `estimator` in version 1.2 and will be removed in 1.4.\n",
      "  warnings.warn(\n",
      "/Library/Frameworks/Python.framework/Versions/3.11/lib/python3.11/site-packages/sklearn/ensemble/_base.py:156: FutureWarning: `base_estimator` was renamed to `estimator` in version 1.2 and will be removed in 1.4.\n",
      "  warnings.warn(\n",
      "/Library/Frameworks/Python.framework/Versions/3.11/lib/python3.11/site-packages/sklearn/ensemble/_base.py:156: FutureWarning: `base_estimator` was renamed to `estimator` in version 1.2 and will be removed in 1.4.\n",
      "  warnings.warn(\n",
      "/Library/Frameworks/Python.framework/Versions/3.11/lib/python3.11/site-packages/sklearn/ensemble/_base.py:156: FutureWarning: `base_estimator` was renamed to `estimator` in version 1.2 and will be removed in 1.4.\n",
      "  warnings.warn(\n",
      "/Library/Frameworks/Python.framework/Versions/3.11/lib/python3.11/site-packages/sklearn/ensemble/_base.py:156: FutureWarning: `base_estimator` was renamed to `estimator` in version 1.2 and will be removed in 1.4.\n",
      "  warnings.warn(\n",
      "/Library/Frameworks/Python.framework/Versions/3.11/lib/python3.11/site-packages/sklearn/ensemble/_base.py:156: FutureWarning: `base_estimator` was renamed to `estimator` in version 1.2 and will be removed in 1.4.\n",
      "  warnings.warn(\n",
      "/Library/Frameworks/Python.framework/Versions/3.11/lib/python3.11/site-packages/sklearn/ensemble/_base.py:156: FutureWarning: `base_estimator` was renamed to `estimator` in version 1.2 and will be removed in 1.4.\n",
      "  warnings.warn(\n",
      "/Library/Frameworks/Python.framework/Versions/3.11/lib/python3.11/site-packages/sklearn/ensemble/_base.py:156: FutureWarning: `base_estimator` was renamed to `estimator` in version 1.2 and will be removed in 1.4.\n",
      "  warnings.warn(\n",
      "/Library/Frameworks/Python.framework/Versions/3.11/lib/python3.11/site-packages/sklearn/ensemble/_base.py:156: FutureWarning: `base_estimator` was renamed to `estimator` in version 1.2 and will be removed in 1.4.\n",
      "  warnings.warn(\n",
      "/Library/Frameworks/Python.framework/Versions/3.11/lib/python3.11/site-packages/sklearn/ensemble/_base.py:156: FutureWarning: `base_estimator` was renamed to `estimator` in version 1.2 and will be removed in 1.4.\n",
      "  warnings.warn(\n",
      "/Library/Frameworks/Python.framework/Versions/3.11/lib/python3.11/site-packages/sklearn/ensemble/_base.py:156: FutureWarning: `base_estimator` was renamed to `estimator` in version 1.2 and will be removed in 1.4.\n",
      "  warnings.warn(\n",
      "/Library/Frameworks/Python.framework/Versions/3.11/lib/python3.11/site-packages/sklearn/ensemble/_base.py:156: FutureWarning: `base_estimator` was renamed to `estimator` in version 1.2 and will be removed in 1.4.\n",
      "  warnings.warn(\n",
      "/Library/Frameworks/Python.framework/Versions/3.11/lib/python3.11/site-packages/sklearn/ensemble/_base.py:156: FutureWarning: `base_estimator` was renamed to `estimator` in version 1.2 and will be removed in 1.4.\n",
      "  warnings.warn(\n",
      "/Library/Frameworks/Python.framework/Versions/3.11/lib/python3.11/site-packages/sklearn/ensemble/_base.py:156: FutureWarning: `base_estimator` was renamed to `estimator` in version 1.2 and will be removed in 1.4.\n",
      "  warnings.warn(\n",
      "/Library/Frameworks/Python.framework/Versions/3.11/lib/python3.11/site-packages/sklearn/ensemble/_base.py:156: FutureWarning: `base_estimator` was renamed to `estimator` in version 1.2 and will be removed in 1.4.\n",
      "  warnings.warn(\n",
      "/Library/Frameworks/Python.framework/Versions/3.11/lib/python3.11/site-packages/sklearn/ensemble/_base.py:156: FutureWarning: `base_estimator` was renamed to `estimator` in version 1.2 and will be removed in 1.4.\n",
      "  warnings.warn(\n",
      "/Library/Frameworks/Python.framework/Versions/3.11/lib/python3.11/site-packages/sklearn/ensemble/_base.py:156: FutureWarning: `base_estimator` was renamed to `estimator` in version 1.2 and will be removed in 1.4.\n",
      "  warnings.warn(\n",
      "/Library/Frameworks/Python.framework/Versions/3.11/lib/python3.11/site-packages/sklearn/ensemble/_base.py:156: FutureWarning: `base_estimator` was renamed to `estimator` in version 1.2 and will be removed in 1.4.\n",
      "  warnings.warn(\n",
      "/Library/Frameworks/Python.framework/Versions/3.11/lib/python3.11/site-packages/sklearn/ensemble/_base.py:156: FutureWarning: `base_estimator` was renamed to `estimator` in version 1.2 and will be removed in 1.4.\n",
      "  warnings.warn(\n",
      "/Library/Frameworks/Python.framework/Versions/3.11/lib/python3.11/site-packages/sklearn/ensemble/_base.py:156: FutureWarning: `base_estimator` was renamed to `estimator` in version 1.2 and will be removed in 1.4.\n",
      "  warnings.warn(\n",
      "/Library/Frameworks/Python.framework/Versions/3.11/lib/python3.11/site-packages/sklearn/ensemble/_base.py:156: FutureWarning: `base_estimator` was renamed to `estimator` in version 1.2 and will be removed in 1.4.\n",
      "  warnings.warn(\n",
      "/Library/Frameworks/Python.framework/Versions/3.11/lib/python3.11/site-packages/sklearn/ensemble/_base.py:156: FutureWarning: `base_estimator` was renamed to `estimator` in version 1.2 and will be removed in 1.4.\n",
      "  warnings.warn(\n",
      "/Library/Frameworks/Python.framework/Versions/3.11/lib/python3.11/site-packages/sklearn/ensemble/_base.py:156: FutureWarning: `base_estimator` was renamed to `estimator` in version 1.2 and will be removed in 1.4.\n",
      "  warnings.warn(\n",
      "/Library/Frameworks/Python.framework/Versions/3.11/lib/python3.11/site-packages/sklearn/ensemble/_base.py:156: FutureWarning: `base_estimator` was renamed to `estimator` in version 1.2 and will be removed in 1.4.\n",
      "  warnings.warn(\n",
      "/Library/Frameworks/Python.framework/Versions/3.11/lib/python3.11/site-packages/sklearn/ensemble/_base.py:156: FutureWarning: `base_estimator` was renamed to `estimator` in version 1.2 and will be removed in 1.4.\n",
      "  warnings.warn(\n",
      "/Library/Frameworks/Python.framework/Versions/3.11/lib/python3.11/site-packages/sklearn/ensemble/_base.py:156: FutureWarning: `base_estimator` was renamed to `estimator` in version 1.2 and will be removed in 1.4.\n",
      "  warnings.warn(\n",
      "/Library/Frameworks/Python.framework/Versions/3.11/lib/python3.11/site-packages/sklearn/ensemble/_base.py:156: FutureWarning: `base_estimator` was renamed to `estimator` in version 1.2 and will be removed in 1.4.\n",
      "  warnings.warn(\n",
      "/Library/Frameworks/Python.framework/Versions/3.11/lib/python3.11/site-packages/sklearn/ensemble/_base.py:156: FutureWarning: `base_estimator` was renamed to `estimator` in version 1.2 and will be removed in 1.4.\n",
      "  warnings.warn(\n",
      "/Library/Frameworks/Python.framework/Versions/3.11/lib/python3.11/site-packages/sklearn/ensemble/_base.py:156: FutureWarning: `base_estimator` was renamed to `estimator` in version 1.2 and will be removed in 1.4.\n",
      "  warnings.warn(\n",
      "/Library/Frameworks/Python.framework/Versions/3.11/lib/python3.11/site-packages/sklearn/ensemble/_base.py:156: FutureWarning: `base_estimator` was renamed to `estimator` in version 1.2 and will be removed in 1.4.\n",
      "  warnings.warn(\n",
      "/Library/Frameworks/Python.framework/Versions/3.11/lib/python3.11/site-packages/sklearn/ensemble/_base.py:156: FutureWarning: `base_estimator` was renamed to `estimator` in version 1.2 and will be removed in 1.4.\n",
      "  warnings.warn(\n",
      "/Library/Frameworks/Python.framework/Versions/3.11/lib/python3.11/site-packages/sklearn/ensemble/_base.py:156: FutureWarning: `base_estimator` was renamed to `estimator` in version 1.2 and will be removed in 1.4.\n",
      "  warnings.warn(\n",
      "/Library/Frameworks/Python.framework/Versions/3.11/lib/python3.11/site-packages/sklearn/ensemble/_base.py:156: FutureWarning: `base_estimator` was renamed to `estimator` in version 1.2 and will be removed in 1.4.\n",
      "  warnings.warn(\n",
      "/Library/Frameworks/Python.framework/Versions/3.11/lib/python3.11/site-packages/sklearn/ensemble/_base.py:156: FutureWarning: `base_estimator` was renamed to `estimator` in version 1.2 and will be removed in 1.4.\n",
      "  warnings.warn(\n",
      "/Library/Frameworks/Python.framework/Versions/3.11/lib/python3.11/site-packages/sklearn/ensemble/_base.py:156: FutureWarning: `base_estimator` was renamed to `estimator` in version 1.2 and will be removed in 1.4.\n",
      "  warnings.warn(\n",
      "/Library/Frameworks/Python.framework/Versions/3.11/lib/python3.11/site-packages/sklearn/ensemble/_base.py:156: FutureWarning: `base_estimator` was renamed to `estimator` in version 1.2 and will be removed in 1.4.\n",
      "  warnings.warn(\n",
      "/Library/Frameworks/Python.framework/Versions/3.11/lib/python3.11/site-packages/sklearn/ensemble/_base.py:156: FutureWarning: `base_estimator` was renamed to `estimator` in version 1.2 and will be removed in 1.4.\n",
      "  warnings.warn(\n",
      "/Library/Frameworks/Python.framework/Versions/3.11/lib/python3.11/site-packages/sklearn/ensemble/_base.py:156: FutureWarning: `base_estimator` was renamed to `estimator` in version 1.2 and will be removed in 1.4.\n",
      "  warnings.warn(\n",
      "/Library/Frameworks/Python.framework/Versions/3.11/lib/python3.11/site-packages/sklearn/ensemble/_base.py:156: FutureWarning: `base_estimator` was renamed to `estimator` in version 1.2 and will be removed in 1.4.\n",
      "  warnings.warn(\n",
      "/Library/Frameworks/Python.framework/Versions/3.11/lib/python3.11/site-packages/sklearn/ensemble/_base.py:156: FutureWarning: `base_estimator` was renamed to `estimator` in version 1.2 and will be removed in 1.4.\n",
      "  warnings.warn(\n",
      "/Library/Frameworks/Python.framework/Versions/3.11/lib/python3.11/site-packages/sklearn/model_selection/_validation.py:425: FitFailedWarning: \n",
      "36 fits failed out of a total of 108.\n",
      "The score on these train-test partitions for these parameters will be set to nan.\n",
      "If these failures are not expected, you can try to debug them by setting error_score='raise'.\n",
      "\n",
      "Below are more details about the failures:\n",
      "--------------------------------------------------------------------------------\n",
      "23 fits failed with the following error:\n",
      "Traceback (most recent call last):\n",
      "  File \"/Library/Frameworks/Python.framework/Versions/3.11/lib/python3.11/site-packages/sklearn/model_selection/_validation.py\", line 729, in _fit_and_score\n",
      "    estimator.fit(X_train, y_train, **fit_params)\n",
      "  File \"/Library/Frameworks/Python.framework/Versions/3.11/lib/python3.11/site-packages/sklearn/base.py\", line 1145, in wrapper\n",
      "    estimator._validate_params()\n",
      "  File \"/Library/Frameworks/Python.framework/Versions/3.11/lib/python3.11/site-packages/sklearn/base.py\", line 638, in _validate_params\n",
      "    validate_parameter_constraints(\n",
      "  File \"/Library/Frameworks/Python.framework/Versions/3.11/lib/python3.11/site-packages/sklearn/utils/_param_validation.py\", line 96, in validate_parameter_constraints\n",
      "    raise InvalidParameterError(\n",
      "sklearn.utils._param_validation.InvalidParameterError: The 'max_features' parameter of RandomForestClassifier must be an int in the range [1, inf), a float in the range (0.0, 1.0], a str among {'log2', 'sqrt'} or None. Got 'auto' instead.\n",
      "\n",
      "--------------------------------------------------------------------------------\n",
      "13 fits failed with the following error:\n",
      "Traceback (most recent call last):\n",
      "  File \"/Library/Frameworks/Python.framework/Versions/3.11/lib/python3.11/site-packages/sklearn/model_selection/_validation.py\", line 729, in _fit_and_score\n",
      "    estimator.fit(X_train, y_train, **fit_params)\n",
      "  File \"/Library/Frameworks/Python.framework/Versions/3.11/lib/python3.11/site-packages/sklearn/base.py\", line 1145, in wrapper\n",
      "    estimator._validate_params()\n",
      "  File \"/Library/Frameworks/Python.framework/Versions/3.11/lib/python3.11/site-packages/sklearn/base.py\", line 638, in _validate_params\n",
      "    validate_parameter_constraints(\n",
      "  File \"/Library/Frameworks/Python.framework/Versions/3.11/lib/python3.11/site-packages/sklearn/utils/_param_validation.py\", line 96, in validate_parameter_constraints\n",
      "    raise InvalidParameterError(\n",
      "sklearn.utils._param_validation.InvalidParameterError: The 'max_features' parameter of RandomForestClassifier must be an int in the range [1, inf), a float in the range (0.0, 1.0], a str among {'sqrt', 'log2'} or None. Got 'auto' instead.\n",
      "\n",
      "  warnings.warn(some_fits_failed_message, FitFailedWarning)\n",
      "/Library/Frameworks/Python.framework/Versions/3.11/lib/python3.11/site-packages/sklearn/model_selection/_search.py:979: UserWarning: One or more of the test scores are non-finite: [       nan        nan        nan 0.75048445 0.75412693 0.75588072\n",
      " 0.75145333 0.754593   0.75496088        nan        nan        nan\n",
      " 0.71621812 0.69935503 0.71852384 0.71425596 0.70931369 0.70303422\n",
      "        nan        nan        nan 0.73814667 0.73873538 0.73850235\n",
      " 0.73933633 0.73879669 0.73833065        nan        nan        nan\n",
      " 0.75223826 0.75174768 0.75209109 0.75244675 0.75144109 0.75214014]\n",
      "  warnings.warn(\n"
     ]
    },
    {
     "name": "stdout",
     "output_type": "stream",
     "text": [
      "Best Parameters for Bagging: {'base_estimator__max_depth': None, 'max_samples': 0.6, 'n_estimators': 100}\n",
      "Best Parameters for Boosting: {'base_estimator__max_depth': 3, 'n_estimators': 50}\n",
      "Best Parameters for Random Forest: {'max_depth': None, 'max_features': 'sqrt', 'n_estimators': 150}\n",
      "Best accuracy for Bagging: 0.755377882365155\n",
      "Best accuracy for Boosting: 0.7583703820661941\n",
      "Best accuracy for Random Forest: 0.7558807170547123\n"
     ]
    }
   ],
   "source": [
    "from sklearn.model_selection import GridSearchCV\n",
    "from sklearn.tree import DecisionTreeClassifier\n",
    "# Define the parameter grid for the models\n",
    "param_grid_bagging = {\n",
    "    'base_estimator__max_depth': [None, 1, 3, 7],\n",
    "    'n_estimators': [50, 100, 150],\n",
    "    'max_samples': [1.0, 0.8, 0.6]\n",
    "}\n",
    "\n",
    "param_grid_boosting = {\n",
    "    'n_estimators': [50, 100, 150],\n",
    "    'base_estimator__max_depth': [1, 3, 7]\n",
    "}\n",
    "\n",
    "param_grid_random_forest = {\n",
    "    'n_estimators': [50, 100, 150],\n",
    "    'max_depth': [None, 1, 3, 7],\n",
    "    'max_features': ['auto', 'sqrt', 'log2']\n",
    "}\n",
    "\n",
    "# Grid search for Bagging\n",
    "grid_search_bagging = GridSearchCV(BaggingClassifier(base_estimator=DecisionTreeClassifier()), param_grid_bagging, cv=3,\n",
    "                                   n_jobs=n_porcess)\n",
    "grid_search_bagging.fit(X_train, y_train)\n",
    "\n",
    "# Grid search for Boosting\n",
    "grid_search_boosting = GridSearchCV(AdaBoostClassifier(base_estimator=DecisionTreeClassifier()), param_grid_boosting,\n",
    "                                    cv=3, n_jobs=n_porcess)\n",
    "grid_search_boosting.fit(X_train, y_train)\n",
    "\n",
    "# Grid search for Random Forest\n",
    "grid_search_random_forest = GridSearchCV(RandomForestClassifier(), param_grid_random_forest, cv=3, n_jobs=n_porcess)\n",
    "grid_search_random_forest.fit(X_train, y_train)\n",
    "\n",
    "# Get the best parameters\n",
    "best_params_bagging = grid_search_bagging.best_params_\n",
    "best_params_boosting = grid_search_boosting.best_params_\n",
    "best_params_random_forest = grid_search_random_forest.best_params_\n",
    "\n",
    "print(\"Best Parameters for Bagging:\", best_params_bagging)\n",
    "print(\"Best Parameters for Boosting:\", best_params_boosting)\n",
    "print(\"Best Parameters for Random Forest:\", best_params_random_forest)\n",
    "print(\"Best accuracy for Bagging:\", grid_search_bagging.best_score_)\n",
    "print(\"Best accuracy for Boosting:\", grid_search_boosting.best_score_)\n",
    "print(\"Best accuracy for Random Forest:\", grid_search_random_forest.best_score_)\n"
   ]
  },
  {
   "cell_type": "markdown",
   "metadata": {},
   "source": [
    "# Randomized Search for sklearn ensamble methode"
   ]
  },
  {
   "cell_type": "code",
   "execution_count": 49,
   "metadata": {
    "ExecuteTime": {
     "start_time": "2023-12-22T18:28:53.907350Z"
    },
    "collapsed": false
   },
   "outputs": [
    {
     "name": "stderr",
     "output_type": "stream",
     "text": [
      "/Library/Frameworks/Python.framework/Versions/3.11/lib/python3.11/site-packages/sklearn/ensemble/_base.py:156: FutureWarning: `base_estimator` was renamed to `estimator` in version 1.2 and will be removed in 1.4.\n",
      "  warnings.warn(\n",
      "/Library/Frameworks/Python.framework/Versions/3.11/lib/python3.11/site-packages/sklearn/ensemble/_base.py:156: FutureWarning: `base_estimator` was renamed to `estimator` in version 1.2 and will be removed in 1.4.\n",
      "  warnings.warn(\n",
      "/Library/Frameworks/Python.framework/Versions/3.11/lib/python3.11/site-packages/sklearn/ensemble/_base.py:156: FutureWarning: `base_estimator` was renamed to `estimator` in version 1.2 and will be removed in 1.4.\n",
      "  warnings.warn(\n",
      "/Library/Frameworks/Python.framework/Versions/3.11/lib/python3.11/site-packages/sklearn/ensemble/_base.py:156: FutureWarning: `base_estimator` was renamed to `estimator` in version 1.2 and will be removed in 1.4.\n",
      "  warnings.warn(\n",
      "/Library/Frameworks/Python.framework/Versions/3.11/lib/python3.11/site-packages/sklearn/ensemble/_base.py:156: FutureWarning: `base_estimator` was renamed to `estimator` in version 1.2 and will be removed in 1.4.\n",
      "  warnings.warn(\n",
      "/Library/Frameworks/Python.framework/Versions/3.11/lib/python3.11/site-packages/sklearn/ensemble/_base.py:156: FutureWarning: `base_estimator` was renamed to `estimator` in version 1.2 and will be removed in 1.4.\n",
      "  warnings.warn(\n",
      "/Library/Frameworks/Python.framework/Versions/3.11/lib/python3.11/site-packages/sklearn/ensemble/_base.py:156: FutureWarning: `base_estimator` was renamed to `estimator` in version 1.2 and will be removed in 1.4.\n",
      "  warnings.warn(\n",
      "/Library/Frameworks/Python.framework/Versions/3.11/lib/python3.11/site-packages/sklearn/ensemble/_base.py:156: FutureWarning: `base_estimator` was renamed to `estimator` in version 1.2 and will be removed in 1.4.\n",
      "  warnings.warn(\n",
      "/Library/Frameworks/Python.framework/Versions/3.11/lib/python3.11/site-packages/sklearn/ensemble/_base.py:156: FutureWarning: `base_estimator` was renamed to `estimator` in version 1.2 and will be removed in 1.4.\n",
      "  warnings.warn(\n",
      "/Library/Frameworks/Python.framework/Versions/3.11/lib/python3.11/site-packages/sklearn/ensemble/_base.py:156: FutureWarning: `base_estimator` was renamed to `estimator` in version 1.2 and will be removed in 1.4.\n",
      "  warnings.warn(\n",
      "/Library/Frameworks/Python.framework/Versions/3.11/lib/python3.11/site-packages/sklearn/ensemble/_base.py:156: FutureWarning: `base_estimator` was renamed to `estimator` in version 1.2 and will be removed in 1.4.\n",
      "  warnings.warn(\n",
      "/Library/Frameworks/Python.framework/Versions/3.11/lib/python3.11/site-packages/sklearn/ensemble/_base.py:156: FutureWarning: `base_estimator` was renamed to `estimator` in version 1.2 and will be removed in 1.4.\n",
      "  warnings.warn(\n",
      "/Library/Frameworks/Python.framework/Versions/3.11/lib/python3.11/site-packages/sklearn/ensemble/_base.py:156: FutureWarning: `base_estimator` was renamed to `estimator` in version 1.2 and will be removed in 1.4.\n",
      "  warnings.warn(\n",
      "/Library/Frameworks/Python.framework/Versions/3.11/lib/python3.11/site-packages/sklearn/ensemble/_base.py:156: FutureWarning: `base_estimator` was renamed to `estimator` in version 1.2 and will be removed in 1.4.\n",
      "  warnings.warn(\n",
      "/Library/Frameworks/Python.framework/Versions/3.11/lib/python3.11/site-packages/sklearn/ensemble/_base.py:156: FutureWarning: `base_estimator` was renamed to `estimator` in version 1.2 and will be removed in 1.4.\n",
      "  warnings.warn(\n",
      "/Library/Frameworks/Python.framework/Versions/3.11/lib/python3.11/site-packages/sklearn/ensemble/_base.py:156: FutureWarning: `base_estimator` was renamed to `estimator` in version 1.2 and will be removed in 1.4.\n",
      "  warnings.warn(\n",
      "/Library/Frameworks/Python.framework/Versions/3.11/lib/python3.11/site-packages/sklearn/ensemble/_base.py:156: FutureWarning: `base_estimator` was renamed to `estimator` in version 1.2 and will be removed in 1.4.\n",
      "  warnings.warn(\n",
      "/Library/Frameworks/Python.framework/Versions/3.11/lib/python3.11/site-packages/sklearn/ensemble/_base.py:156: FutureWarning: `base_estimator` was renamed to `estimator` in version 1.2 and will be removed in 1.4.\n",
      "  warnings.warn(\n",
      "/Library/Frameworks/Python.framework/Versions/3.11/lib/python3.11/site-packages/sklearn/ensemble/_base.py:156: FutureWarning: `base_estimator` was renamed to `estimator` in version 1.2 and will be removed in 1.4.\n",
      "  warnings.warn(\n",
      "/Library/Frameworks/Python.framework/Versions/3.11/lib/python3.11/site-packages/sklearn/ensemble/_base.py:156: FutureWarning: `base_estimator` was renamed to `estimator` in version 1.2 and will be removed in 1.4.\n",
      "  warnings.warn(\n",
      "/Library/Frameworks/Python.framework/Versions/3.11/lib/python3.11/site-packages/sklearn/ensemble/_base.py:156: FutureWarning: `base_estimator` was renamed to `estimator` in version 1.2 and will be removed in 1.4.\n",
      "  warnings.warn(\n",
      "/Library/Frameworks/Python.framework/Versions/3.11/lib/python3.11/site-packages/sklearn/ensemble/_base.py:156: FutureWarning: `base_estimator` was renamed to `estimator` in version 1.2 and will be removed in 1.4.\n",
      "  warnings.warn(\n",
      "/Library/Frameworks/Python.framework/Versions/3.11/lib/python3.11/site-packages/sklearn/ensemble/_base.py:156: FutureWarning: `base_estimator` was renamed to `estimator` in version 1.2 and will be removed in 1.4.\n",
      "  warnings.warn(\n",
      "/Library/Frameworks/Python.framework/Versions/3.11/lib/python3.11/site-packages/sklearn/ensemble/_base.py:156: FutureWarning: `base_estimator` was renamed to `estimator` in version 1.2 and will be removed in 1.4.\n",
      "  warnings.warn(\n",
      "/Library/Frameworks/Python.framework/Versions/3.11/lib/python3.11/site-packages/sklearn/ensemble/_base.py:156: FutureWarning: `base_estimator` was renamed to `estimator` in version 1.2 and will be removed in 1.4.\n",
      "  warnings.warn(\n",
      "/Library/Frameworks/Python.framework/Versions/3.11/lib/python3.11/site-packages/sklearn/ensemble/_base.py:156: FutureWarning: `base_estimator` was renamed to `estimator` in version 1.2 and will be removed in 1.4.\n",
      "  warnings.warn(\n",
      "/Library/Frameworks/Python.framework/Versions/3.11/lib/python3.11/site-packages/sklearn/ensemble/_base.py:156: FutureWarning: `base_estimator` was renamed to `estimator` in version 1.2 and will be removed in 1.4.\n",
      "  warnings.warn(\n",
      "/Library/Frameworks/Python.framework/Versions/3.11/lib/python3.11/site-packages/sklearn/ensemble/_base.py:156: FutureWarning: `base_estimator` was renamed to `estimator` in version 1.2 and will be removed in 1.4.\n",
      "  warnings.warn(\n",
      "/Library/Frameworks/Python.framework/Versions/3.11/lib/python3.11/site-packages/sklearn/ensemble/_base.py:156: FutureWarning: `base_estimator` was renamed to `estimator` in version 1.2 and will be removed in 1.4.\n",
      "  warnings.warn(\n",
      "/Library/Frameworks/Python.framework/Versions/3.11/lib/python3.11/site-packages/sklearn/ensemble/_base.py:156: FutureWarning: `base_estimator` was renamed to `estimator` in version 1.2 and will be removed in 1.4.\n",
      "  warnings.warn(\n",
      "/Library/Frameworks/Python.framework/Versions/3.11/lib/python3.11/site-packages/sklearn/ensemble/_base.py:156: FutureWarning: `base_estimator` was renamed to `estimator` in version 1.2 and will be removed in 1.4.\n",
      "  warnings.warn(\n",
      "/Library/Frameworks/Python.framework/Versions/3.11/lib/python3.11/site-packages/sklearn/ensemble/_base.py:156: FutureWarning: `base_estimator` was renamed to `estimator` in version 1.2 and will be removed in 1.4.\n",
      "  warnings.warn(\n",
      "/Library/Frameworks/Python.framework/Versions/3.11/lib/python3.11/site-packages/sklearn/ensemble/_base.py:156: FutureWarning: `base_estimator` was renamed to `estimator` in version 1.2 and will be removed in 1.4.\n",
      "  warnings.warn(\n",
      "/Library/Frameworks/Python.framework/Versions/3.11/lib/python3.11/site-packages/sklearn/ensemble/_base.py:156: FutureWarning: `base_estimator` was renamed to `estimator` in version 1.2 and will be removed in 1.4.\n",
      "  warnings.warn(\n",
      "/Library/Frameworks/Python.framework/Versions/3.11/lib/python3.11/site-packages/sklearn/ensemble/_base.py:156: FutureWarning: `base_estimator` was renamed to `estimator` in version 1.2 and will be removed in 1.4.\n",
      "  warnings.warn(\n",
      "/Library/Frameworks/Python.framework/Versions/3.11/lib/python3.11/site-packages/sklearn/ensemble/_base.py:156: FutureWarning: `base_estimator` was renamed to `estimator` in version 1.2 and will be removed in 1.4.\n",
      "  warnings.warn(\n",
      "/Library/Frameworks/Python.framework/Versions/3.11/lib/python3.11/site-packages/sklearn/ensemble/_base.py:156: FutureWarning: `base_estimator` was renamed to `estimator` in version 1.2 and will be removed in 1.4.\n",
      "  warnings.warn(\n",
      "/Library/Frameworks/Python.framework/Versions/3.11/lib/python3.11/site-packages/sklearn/ensemble/_base.py:156: FutureWarning: `base_estimator` was renamed to `estimator` in version 1.2 and will be removed in 1.4.\n",
      "  warnings.warn(\n",
      "/Library/Frameworks/Python.framework/Versions/3.11/lib/python3.11/site-packages/sklearn/ensemble/_base.py:156: FutureWarning: `base_estimator` was renamed to `estimator` in version 1.2 and will be removed in 1.4.\n",
      "  warnings.warn(\n",
      "/Library/Frameworks/Python.framework/Versions/3.11/lib/python3.11/site-packages/sklearn/ensemble/_base.py:156: FutureWarning: `base_estimator` was renamed to `estimator` in version 1.2 and will be removed in 1.4.\n",
      "  warnings.warn(\n",
      "/Library/Frameworks/Python.framework/Versions/3.11/lib/python3.11/site-packages/sklearn/ensemble/_base.py:156: FutureWarning: `base_estimator` was renamed to `estimator` in version 1.2 and will be removed in 1.4.\n",
      "  warnings.warn(\n",
      "/Library/Frameworks/Python.framework/Versions/3.11/lib/python3.11/site-packages/sklearn/ensemble/_base.py:156: FutureWarning: `base_estimator` was renamed to `estimator` in version 1.2 and will be removed in 1.4.\n",
      "  warnings.warn(\n",
      "/Library/Frameworks/Python.framework/Versions/3.11/lib/python3.11/site-packages/sklearn/ensemble/_base.py:156: FutureWarning: `base_estimator` was renamed to `estimator` in version 1.2 and will be removed in 1.4.\n",
      "  warnings.warn(\n",
      "/Library/Frameworks/Python.framework/Versions/3.11/lib/python3.11/site-packages/sklearn/ensemble/_base.py:156: FutureWarning: `base_estimator` was renamed to `estimator` in version 1.2 and will be removed in 1.4.\n",
      "  warnings.warn(\n",
      "/Library/Frameworks/Python.framework/Versions/3.11/lib/python3.11/site-packages/sklearn/ensemble/_base.py:156: FutureWarning: `base_estimator` was renamed to `estimator` in version 1.2 and will be removed in 1.4.\n",
      "  warnings.warn(\n",
      "/Library/Frameworks/Python.framework/Versions/3.11/lib/python3.11/site-packages/sklearn/ensemble/_base.py:156: FutureWarning: `base_estimator` was renamed to `estimator` in version 1.2 and will be removed in 1.4.\n",
      "  warnings.warn(\n",
      "/Library/Frameworks/Python.framework/Versions/3.11/lib/python3.11/site-packages/sklearn/ensemble/_base.py:156: FutureWarning: `base_estimator` was renamed to `estimator` in version 1.2 and will be removed in 1.4.\n",
      "  warnings.warn(\n",
      "/Library/Frameworks/Python.framework/Versions/3.11/lib/python3.11/site-packages/sklearn/ensemble/_base.py:156: FutureWarning: `base_estimator` was renamed to `estimator` in version 1.2 and will be removed in 1.4.\n",
      "  warnings.warn(\n",
      "/Library/Frameworks/Python.framework/Versions/3.11/lib/python3.11/site-packages/sklearn/ensemble/_base.py:156: FutureWarning: `base_estimator` was renamed to `estimator` in version 1.2 and will be removed in 1.4.\n",
      "  warnings.warn(\n",
      "/Library/Frameworks/Python.framework/Versions/3.11/lib/python3.11/site-packages/sklearn/ensemble/_base.py:156: FutureWarning: `base_estimator` was renamed to `estimator` in version 1.2 and will be removed in 1.4.\n",
      "  warnings.warn(\n",
      "/Library/Frameworks/Python.framework/Versions/3.11/lib/python3.11/site-packages/sklearn/ensemble/_base.py:156: FutureWarning: `base_estimator` was renamed to `estimator` in version 1.2 and will be removed in 1.4.\n",
      "  warnings.warn(\n",
      "/Library/Frameworks/Python.framework/Versions/3.11/lib/python3.11/site-packages/sklearn/ensemble/_base.py:156: FutureWarning: `base_estimator` was renamed to `estimator` in version 1.2 and will be removed in 1.4.\n",
      "  warnings.warn(\n",
      "/Library/Frameworks/Python.framework/Versions/3.11/lib/python3.11/site-packages/sklearn/ensemble/_base.py:156: FutureWarning: `base_estimator` was renamed to `estimator` in version 1.2 and will be removed in 1.4.\n",
      "  warnings.warn(\n",
      "/Library/Frameworks/Python.framework/Versions/3.11/lib/python3.11/site-packages/sklearn/ensemble/_base.py:156: FutureWarning: `base_estimator` was renamed to `estimator` in version 1.2 and will be removed in 1.4.\n",
      "  warnings.warn(\n",
      "/Library/Frameworks/Python.framework/Versions/3.11/lib/python3.11/site-packages/sklearn/ensemble/_base.py:156: FutureWarning: `base_estimator` was renamed to `estimator` in version 1.2 and will be removed in 1.4.\n",
      "  warnings.warn(\n",
      "/Library/Frameworks/Python.framework/Versions/3.11/lib/python3.11/site-packages/sklearn/ensemble/_base.py:156: FutureWarning: `base_estimator` was renamed to `estimator` in version 1.2 and will be removed in 1.4.\n",
      "  warnings.warn(\n",
      "/Library/Frameworks/Python.framework/Versions/3.11/lib/python3.11/site-packages/sklearn/ensemble/_base.py:156: FutureWarning: `base_estimator` was renamed to `estimator` in version 1.2 and will be removed in 1.4.\n",
      "  warnings.warn(\n",
      "/Library/Frameworks/Python.framework/Versions/3.11/lib/python3.11/site-packages/sklearn/ensemble/_base.py:156: FutureWarning: `base_estimator` was renamed to `estimator` in version 1.2 and will be removed in 1.4.\n",
      "  warnings.warn(\n",
      "/Library/Frameworks/Python.framework/Versions/3.11/lib/python3.11/site-packages/sklearn/ensemble/_base.py:156: FutureWarning: `base_estimator` was renamed to `estimator` in version 1.2 and will be removed in 1.4.\n",
      "  warnings.warn(\n",
      "/Library/Frameworks/Python.framework/Versions/3.11/lib/python3.11/site-packages/sklearn/ensemble/_base.py:156: FutureWarning: `base_estimator` was renamed to `estimator` in version 1.2 and will be removed in 1.4.\n",
      "  warnings.warn(\n",
      "/Library/Frameworks/Python.framework/Versions/3.11/lib/python3.11/site-packages/sklearn/ensemble/_base.py:156: FutureWarning: `base_estimator` was renamed to `estimator` in version 1.2 and will be removed in 1.4.\n",
      "  warnings.warn(\n",
      "/Library/Frameworks/Python.framework/Versions/3.11/lib/python3.11/site-packages/sklearn/ensemble/_base.py:156: FutureWarning: `base_estimator` was renamed to `estimator` in version 1.2 and will be removed in 1.4.\n",
      "  warnings.warn(\n",
      "/Library/Frameworks/Python.framework/Versions/3.11/lib/python3.11/site-packages/sklearn/model_selection/_validation.py:425: FitFailedWarning: \n",
      "12 fits failed out of a total of 30.\n",
      "The score on these train-test partitions for these parameters will be set to nan.\n",
      "If these failures are not expected, you can try to debug them by setting error_score='raise'.\n",
      "\n",
      "Below are more details about the failures:\n",
      "--------------------------------------------------------------------------------\n",
      "4 fits failed with the following error:\n",
      "Traceback (most recent call last):\n",
      "  File \"/Library/Frameworks/Python.framework/Versions/3.11/lib/python3.11/site-packages/sklearn/model_selection/_validation.py\", line 729, in _fit_and_score\n",
      "    estimator.fit(X_train, y_train, **fit_params)\n",
      "  File \"/Library/Frameworks/Python.framework/Versions/3.11/lib/python3.11/site-packages/sklearn/base.py\", line 1145, in wrapper\n",
      "    estimator._validate_params()\n",
      "  File \"/Library/Frameworks/Python.framework/Versions/3.11/lib/python3.11/site-packages/sklearn/base.py\", line 638, in _validate_params\n",
      "    validate_parameter_constraints(\n",
      "  File \"/Library/Frameworks/Python.framework/Versions/3.11/lib/python3.11/site-packages/sklearn/utils/_param_validation.py\", line 96, in validate_parameter_constraints\n",
      "    raise InvalidParameterError(\n",
      "sklearn.utils._param_validation.InvalidParameterError: The 'max_features' parameter of RandomForestClassifier must be an int in the range [1, inf), a float in the range (0.0, 1.0], a str among {'sqrt', 'log2'} or None. Got 'auto' instead.\n",
      "\n",
      "--------------------------------------------------------------------------------\n",
      "8 fits failed with the following error:\n",
      "Traceback (most recent call last):\n",
      "  File \"/Library/Frameworks/Python.framework/Versions/3.11/lib/python3.11/site-packages/sklearn/model_selection/_validation.py\", line 729, in _fit_and_score\n",
      "    estimator.fit(X_train, y_train, **fit_params)\n",
      "  File \"/Library/Frameworks/Python.framework/Versions/3.11/lib/python3.11/site-packages/sklearn/base.py\", line 1145, in wrapper\n",
      "    estimator._validate_params()\n",
      "  File \"/Library/Frameworks/Python.framework/Versions/3.11/lib/python3.11/site-packages/sklearn/base.py\", line 638, in _validate_params\n",
      "    validate_parameter_constraints(\n",
      "  File \"/Library/Frameworks/Python.framework/Versions/3.11/lib/python3.11/site-packages/sklearn/utils/_param_validation.py\", line 96, in validate_parameter_constraints\n",
      "    raise InvalidParameterError(\n",
      "sklearn.utils._param_validation.InvalidParameterError: The 'max_features' parameter of RandomForestClassifier must be an int in the range [1, inf), a float in the range (0.0, 1.0], a str among {'log2', 'sqrt'} or None. Got 'auto' instead.\n",
      "\n",
      "  warnings.warn(some_fits_failed_message, FitFailedWarning)\n",
      "/Library/Frameworks/Python.framework/Versions/3.11/lib/python3.11/site-packages/sklearn/model_selection/_search.py:979: UserWarning: One or more of the test scores are non-finite: [       nan        nan 0.73943443 0.73945896        nan 0.74567692\n",
      " 0.75551279 0.74538257        nan 0.74626561]\n",
      "  warnings.warn(\n"
     ]
    },
    {
     "name": "stdout",
     "output_type": "stream",
     "text": [
      "Best Parameters for Bagging (Randomized Search): {'base_estimator__max_depth': None, 'max_samples': 0.9879639408647978, 'n_estimators': 79}\n",
      "Best Parameters for Boosting (Randomized Search): {'base_estimator__max_depth': 1, 'n_estimators': 149}\n",
      "Best Parameters for Random Forest (Randomized Search): {'max_depth': None, 'max_features': 'sqrt', 'n_estimators': 137}\n",
      "best accuracy for bagging: 0.7527901244976222\n",
      "best accuracy for boosting: 0.7578430073543899\n",
      "best accuracy for random forest: 0.7555127908949238\n"
     ]
    }
   ],
   "source": [
    "from sklearn.model_selection import RandomizedSearchCV\n",
    "from scipy.stats import randint, uniform\n",
    "from sklearn.tree import DecisionTreeClassifier\n",
    "from sklearn.ensemble import BaggingClassifier, AdaBoostClassifier, RandomForestClassifier\n",
    "\n",
    "# Define the parameter distributions for the models\n",
    "param_dist_bagging = {\n",
    "    'base_estimator__max_depth': [None, 1, 3, 5],\n",
    "    'n_estimators': randint(50, 150),\n",
    "    'max_samples': uniform(0.6, 0.4)  \n",
    "}\n",
    "\n",
    "param_dist_boosting = {\n",
    "    'n_estimators': randint(50, 150),\n",
    "    'base_estimator__max_depth': [1, 3, 5]\n",
    "}\n",
    "\n",
    "param_dist_random_forest = {\n",
    "    'n_estimators': randint(50, 150),\n",
    "    'max_depth': [None, 1, 3, 5],\n",
    "    'max_features': ['auto', 'sqrt', 'log2']\n",
    "}\n",
    "\n",
    "# Randomized search for Bagging\n",
    "random_search_bagging = RandomizedSearchCV(BaggingClassifier(base_estimator=DecisionTreeClassifier()),\n",
    "                                           param_dist_bagging, n_iter=10, cv=3, random_state=42,n_jobs=n_porcess)\n",
    "random_search_bagging.fit(X_train, y_train)\n",
    "\n",
    "# Randomized search for Boosting\n",
    "random_search_boosting = RandomizedSearchCV(AdaBoostClassifier(base_estimator=DecisionTreeClassifier()),\n",
    "                                            param_dist_boosting, n_iter=10, cv=3, random_state=42,n_jobs=n_porcess)\n",
    "random_search_boosting.fit(X_train, y_train)\n",
    "\n",
    "# Randomized search for Random Forest\n",
    "random_search_random_forest = RandomizedSearchCV(RandomForestClassifier(), param_dist_random_forest, n_iter=10, cv=3,\n",
    "                                                 random_state=42,n_jobs=n_porcess)\n",
    "random_search_random_forest.fit(X_train, y_train)\n",
    "\n",
    "# Get the best parameters\n",
    "best_params_random_search_bagging = random_search_bagging.best_params_\n",
    "best_params_random_search_boosting = random_search_boosting.best_params_\n",
    "best_params_random_search_random_forest = random_search_random_forest.best_params_\n",
    "\n",
    "print(\"Best Parameters for Bagging (Randomized Search):\", best_params_random_search_bagging)\n",
    "print(\"Best Parameters for Boosting (Randomized Search):\", best_params_random_search_boosting)\n",
    "print(\"Best Parameters for Random Forest (Randomized Search):\", best_params_random_search_random_forest)\n",
    "print(\"best accuracy for bagging:\", random_search_bagging.best_score_)\n",
    "print(\"best accuracy for boosting:\", random_search_boosting.best_score_)\n",
    "print(\"best accuracy for random forest:\", random_search_random_forest.best_score_)"
   ]
  },
  {
   "cell_type": "markdown",
   "metadata": {},
   "source": [
    "# Bayesian method for sklearn ensamble"
   ]
  },
  {
   "cell_type": "code",
   "execution_count": 50,
   "metadata": {
    "ExecuteTime": {
     "start_time": "2023-12-22T18:28:53.907960Z"
    },
    "collapsed": false
   },
   "outputs": [
    {
     "name": "stdout",
     "output_type": "stream",
     "text": [
      "|   iter    |  target   | max_sa... | n_esti... |\n",
      "-------------------------------------------------\n",
      "| \u001b[0m1        \u001b[0m | \u001b[0m0.7587   \u001b[0m | \u001b[0m0.4371   \u001b[0m | \u001b[0m951.2    \u001b[0m |\n",
      "| \u001b[0m2        \u001b[0m | \u001b[0m0.7535   \u001b[0m | \u001b[0m0.7588   \u001b[0m | \u001b[0m602.7    \u001b[0m |\n",
      "| \u001b[95m3        \u001b[0m | \u001b[95m0.7597   \u001b[0m | \u001b[95m0.2404   \u001b[0m | \u001b[95m164.4    \u001b[0m |\n",
      "| \u001b[95m4        \u001b[0m | \u001b[95m0.7622   \u001b[0m | \u001b[95m0.1523   \u001b[0m | \u001b[95m867.5    \u001b[0m |\n",
      "| \u001b[0m5        \u001b[0m | \u001b[0m0.7557   \u001b[0m | \u001b[0m0.641    \u001b[0m | \u001b[0m711.0    \u001b[0m |\n",
      "| \u001b[0m6        \u001b[0m | \u001b[0m0.7619   \u001b[0m | \u001b[0m0.1185   \u001b[0m | \u001b[0m970.2    \u001b[0m |\n",
      "| \u001b[0m7        \u001b[0m | \u001b[0m0.754    \u001b[0m | \u001b[0m0.8492   \u001b[0m | \u001b[0m220.2    \u001b[0m |\n",
      "| \u001b[0m8        \u001b[0m | \u001b[0m0.7577   \u001b[0m | \u001b[0m0.2636   \u001b[0m | \u001b[0m191.6    \u001b[0m |\n",
      "| \u001b[0m9        \u001b[0m | \u001b[0m0.759    \u001b[0m | \u001b[0m0.3738   \u001b[0m | \u001b[0m529.5    \u001b[0m |\n",
      "| \u001b[0m10       \u001b[0m | \u001b[0m0.7542   \u001b[0m | \u001b[0m0.4888   \u001b[0m | \u001b[0m298.3    \u001b[0m |\n",
      "| \u001b[0m11       \u001b[0m | \u001b[0m0.7549   \u001b[0m | \u001b[0m0.7136   \u001b[0m | \u001b[0m993.6    \u001b[0m |\n",
      "| \u001b[0m12       \u001b[0m | \u001b[0m0.7568   \u001b[0m | \u001b[0m0.5318   \u001b[0m | \u001b[0m868.4    \u001b[0m |\n",
      "| \u001b[0m13       \u001b[0m | \u001b[0m0.7617   \u001b[0m | \u001b[0m0.1912   \u001b[0m | \u001b[0m526.5    \u001b[0m |\n",
      "| \u001b[0m14       \u001b[0m | \u001b[0m0.762    \u001b[0m | \u001b[0m0.1051   \u001b[0m | \u001b[0m469.1    \u001b[0m |\n",
      "| \u001b[0m15       \u001b[0m | \u001b[0m0.7549   \u001b[0m | \u001b[0m0.7008   \u001b[0m | \u001b[0m645.8    \u001b[0m |\n",
      "| \u001b[0m16       \u001b[0m | \u001b[0m0.7572   \u001b[0m | \u001b[0m0.3052   \u001b[0m | \u001b[0m164.4    \u001b[0m |\n",
      "| \u001b[0m17       \u001b[0m | \u001b[0m0.7568   \u001b[0m | \u001b[0m0.4976   \u001b[0m | \u001b[0m826.1    \u001b[0m |\n",
      "| \u001b[0m18       \u001b[0m | \u001b[0m0.7615   \u001b[0m | \u001b[0m0.1168   \u001b[0m | \u001b[0m443.9    \u001b[0m |\n",
      "| \u001b[0m19       \u001b[0m | \u001b[0m0.7564   \u001b[0m | \u001b[0m0.4556   \u001b[0m | \u001b[0m492.5    \u001b[0m |\n",
      "| \u001b[0m20       \u001b[0m | \u001b[0m0.7532   \u001b[0m | \u001b[0m0.7212   \u001b[0m | \u001b[0m131.2    \u001b[0m |\n",
      "| \u001b[0m21       \u001b[0m | \u001b[0m0.7533   \u001b[0m | \u001b[0m0.6437   \u001b[0m | \u001b[0m160.2    \u001b[0m |\n",
      "| \u001b[0m22       \u001b[0m | \u001b[0m0.7543   \u001b[0m | \u001b[0m0.8135   \u001b[0m | \u001b[0m885.1    \u001b[0m |\n",
      "| \u001b[0m23       \u001b[0m | \u001b[0m0.7606   \u001b[0m | \u001b[0m0.2393   \u001b[0m | \u001b[0m526.5    \u001b[0m |\n",
      "| \u001b[0m24       \u001b[0m | \u001b[0m0.761    \u001b[0m | \u001b[0m0.1913   \u001b[0m | \u001b[0m970.1    \u001b[0m |\n",
      "| \u001b[0m25       \u001b[0m | \u001b[0m0.7541   \u001b[0m | \u001b[0m0.9599   \u001b[0m | \u001b[0m268.8    \u001b[0m |\n",
      "=================================================\n",
      "|   iter    |  target   | learni... | n_esti... |\n",
      "-------------------------------------------------\n",
      "| \u001b[0m1        \u001b[0m | \u001b[0m0.7601   \u001b[0m | \u001b[0m0.3808   \u001b[0m | \u001b[0m951.2    \u001b[0m |\n",
      "| \u001b[95m2        \u001b[0m | \u001b[95m0.7618   \u001b[0m | \u001b[95m0.7347   \u001b[0m | \u001b[95m602.7    \u001b[0m |\n",
      "| \u001b[0m3        \u001b[0m | \u001b[0m0.7532   \u001b[0m | \u001b[0m0.1645   \u001b[0m | \u001b[0m164.4    \u001b[0m |\n",
      "| \u001b[0m4        \u001b[0m | \u001b[0m0.7564   \u001b[0m | \u001b[0m0.0675   \u001b[0m | \u001b[0m867.5    \u001b[0m |\n",
      "| \u001b[95m5        \u001b[0m | \u001b[95m0.7618   \u001b[0m | \u001b[95m0.6051   \u001b[0m | \u001b[95m711.0    \u001b[0m |\n",
      "| \u001b[0m6        \u001b[0m | \u001b[0m0.7541   \u001b[0m | \u001b[0m0.03038  \u001b[0m | \u001b[0m970.2    \u001b[0m |\n",
      "| \u001b[0m7        \u001b[0m | \u001b[0m0.757    \u001b[0m | \u001b[0m0.8341   \u001b[0m | \u001b[0m220.2    \u001b[0m |\n",
      "| \u001b[0m8        \u001b[0m | \u001b[0m0.7537   \u001b[0m | \u001b[0m0.19     \u001b[0m | \u001b[0m191.6    \u001b[0m |\n",
      "| \u001b[0m9        \u001b[0m | \u001b[0m0.7588   \u001b[0m | \u001b[0m0.3112   \u001b[0m | \u001b[0m529.5    \u001b[0m |\n",
      "| \u001b[0m10       \u001b[0m | \u001b[0m0.7558   \u001b[0m | \u001b[0m0.4376   \u001b[0m | \u001b[0m298.3    \u001b[0m |\n",
      "| \u001b[0m11       \u001b[0m | \u001b[0m0.7583   \u001b[0m | \u001b[0m0.2382   \u001b[0m | \u001b[0m712.0    \u001b[0m |\n",
      "| \u001b[0m12       \u001b[0m | \u001b[0m0.7586   \u001b[0m | \u001b[0m0.2333   \u001b[0m | \u001b[0m602.1    \u001b[0m |\n",
      "| \u001b[0m13       \u001b[0m | \u001b[0m0.76     \u001b[0m | \u001b[0m0.4928   \u001b[0m | \u001b[0m603.3    \u001b[0m |\n",
      "| \u001b[95m14       \u001b[0m | \u001b[95m0.7625   \u001b[0m | \u001b[95m0.7259   \u001b[0m | \u001b[95m710.2    \u001b[0m |\n",
      "| \u001b[0m15       \u001b[0m | \u001b[0m0.7573   \u001b[0m | \u001b[0m0.1065   \u001b[0m | \u001b[0m709.3    \u001b[0m |\n",
      "| \u001b[0m16       \u001b[0m | \u001b[0m0.7572   \u001b[0m | \u001b[0m0.08661  \u001b[0m | \u001b[0m710.6    \u001b[0m |\n",
      "| \u001b[95m17       \u001b[0m | \u001b[95m0.7626   \u001b[0m | \u001b[95m0.9836   \u001b[0m | \u001b[95m709.9    \u001b[0m |\n",
      "| \u001b[0m18       \u001b[0m | \u001b[0m0.7625   \u001b[0m | \u001b[0m0.9988   \u001b[0m | \u001b[0m710.4    \u001b[0m |\n",
      "| \u001b[95m19       \u001b[0m | \u001b[95m0.7637   \u001b[0m | \u001b[95m0.9552   \u001b[0m | \u001b[95m950.1    \u001b[0m |\n",
      "| \u001b[0m20       \u001b[0m | \u001b[0m0.7614   \u001b[0m | \u001b[0m0.492    \u001b[0m | \u001b[0m949.4    \u001b[0m |\n",
      "| \u001b[0m21       \u001b[0m | \u001b[0m0.7595   \u001b[0m | \u001b[0m0.2196   \u001b[0m | \u001b[0m950.3    \u001b[0m |\n",
      "| \u001b[95m22       \u001b[0m | \u001b[95m0.7643   \u001b[0m | \u001b[95m0.979    \u001b[0m | \u001b[95m948.7    \u001b[0m |\n",
      "| \u001b[0m23       \u001b[0m | \u001b[0m0.763    \u001b[0m | \u001b[0m0.6757   \u001b[0m | \u001b[0m947.9    \u001b[0m |\n",
      "| \u001b[95m24       \u001b[0m | \u001b[95m0.7648   \u001b[0m | \u001b[95m0.9891   \u001b[0m | \u001b[95m946.6    \u001b[0m |\n",
      "| \u001b[0m25       \u001b[0m | \u001b[0m0.7595   \u001b[0m | \u001b[0m0.2096   \u001b[0m | \u001b[0m946.1    \u001b[0m |\n",
      "=================================================\n",
      "|   iter    |  target   | max_depth | n_esti... |\n",
      "-------------------------------------------------\n",
      "| \u001b[0m1        \u001b[0m | \u001b[0m0.7563   \u001b[0m | \u001b[0m38.08    \u001b[0m | \u001b[0m951.2    \u001b[0m |\n",
      "| \u001b[0m2        \u001b[0m | \u001b[0m0.756    \u001b[0m | \u001b[0m73.47    \u001b[0m | \u001b[0m602.7    \u001b[0m |\n",
      "| \u001b[95m3        \u001b[0m | \u001b[95m0.7598   \u001b[0m | \u001b[95m16.45    \u001b[0m | \u001b[95m164.4    \u001b[0m |\n",
      "| \u001b[0m4        \u001b[0m | \u001b[0m0.7497   \u001b[0m | \u001b[0m6.75     \u001b[0m | \u001b[0m867.5    \u001b[0m |\n",
      "| \u001b[0m5        \u001b[0m | \u001b[0m0.7562   \u001b[0m | \u001b[0m60.51    \u001b[0m | \u001b[0m711.0    \u001b[0m |\n",
      "| \u001b[0m6        \u001b[0m | \u001b[0m0.741    \u001b[0m | \u001b[0m3.038    \u001b[0m | \u001b[0m970.2    \u001b[0m |\n",
      "| \u001b[0m7        \u001b[0m | \u001b[0m0.7538   \u001b[0m | \u001b[0m83.41    \u001b[0m | \u001b[0m220.2    \u001b[0m |\n",
      "| \u001b[0m8        \u001b[0m | \u001b[0m0.7583   \u001b[0m | \u001b[0m19.0     \u001b[0m | \u001b[0m191.6    \u001b[0m |\n",
      "| \u001b[0m9        \u001b[0m | \u001b[0m0.7569   \u001b[0m | \u001b[0m31.12    \u001b[0m | \u001b[0m529.5    \u001b[0m |\n",
      "| \u001b[0m10       \u001b[0m | \u001b[0m0.7572   \u001b[0m | \u001b[0m43.76    \u001b[0m | \u001b[0m298.3    \u001b[0m |\n",
      "| \u001b[0m11       \u001b[0m | \u001b[0m0.7577   \u001b[0m | \u001b[0m35.56    \u001b[0m | \u001b[0m171.0    \u001b[0m |\n",
      "| \u001b[0m12       \u001b[0m | \u001b[0m0.7598   \u001b[0m | \u001b[0m15.44    \u001b[0m | \u001b[0m165.7    \u001b[0m |\n",
      "| \u001b[0m13       \u001b[0m | \u001b[0m0.7457   \u001b[0m | \u001b[0m4.656    \u001b[0m | \u001b[0m121.6    \u001b[0m |\n",
      "| \u001b[0m14       \u001b[0m | \u001b[0m0.7574   \u001b[0m | \u001b[0m72.32    \u001b[0m | \u001b[0m938.1    \u001b[0m |\n",
      "| \u001b[0m15       \u001b[0m | \u001b[0m0.7563   \u001b[0m | \u001b[0m77.28    \u001b[0m | \u001b[0m976.8    \u001b[0m |\n",
      "| \u001b[0m16       \u001b[0m | \u001b[0m0.7567   \u001b[0m | \u001b[0m22.77    \u001b[0m | \u001b[0m253.4    \u001b[0m |\n",
      "| \u001b[0m17       \u001b[0m | \u001b[0m0.7363   \u001b[0m | \u001b[0m2.047    \u001b[0m | \u001b[0m299.6    \u001b[0m |\n",
      "| \u001b[0m18       \u001b[0m | \u001b[0m0.7556   \u001b[0m | \u001b[0m66.01    \u001b[0m | \u001b[0m274.1    \u001b[0m |\n",
      "| \u001b[0m19       \u001b[0m | \u001b[0m0.756    \u001b[0m | \u001b[0m72.53    \u001b[0m | \u001b[0m316.4    \u001b[0m |\n",
      "| \u001b[0m20       \u001b[0m | \u001b[0m0.7403   \u001b[0m | \u001b[0m3.048    \u001b[0m | \u001b[0m222.1    \u001b[0m |\n",
      "| \u001b[0m21       \u001b[0m | \u001b[0m0.7562   \u001b[0m | \u001b[0m46.64    \u001b[0m | \u001b[0m922.2    \u001b[0m |\n",
      "| \u001b[0m22       \u001b[0m | \u001b[0m0.7563   \u001b[0m | \u001b[0m98.99    \u001b[0m | \u001b[0m955.8    \u001b[0m |\n",
      "| \u001b[0m23       \u001b[0m | \u001b[0m0.7568   \u001b[0m | \u001b[0m51.92    \u001b[0m | \u001b[0m558.6    \u001b[0m |\n",
      "| \u001b[0m24       \u001b[0m | \u001b[0m0.7582   \u001b[0m | \u001b[0m17.1     \u001b[0m | \u001b[0m560.5    \u001b[0m |\n",
      "| \u001b[0m25       \u001b[0m | \u001b[0m0.757    \u001b[0m | \u001b[0m32.11    \u001b[0m | \u001b[0m587.6    \u001b[0m |\n",
      "=================================================\n",
      "Best Bagging Classifier Parameters: {'target': 0.7622271277900416, 'params': {'max_samples': 0.15227525095137953, 'n_estimators': 867.5143843171858}}\n",
      "Best AdaBoost Classifier Parameters: {'target': 0.7648270787343635, 'params': {'learning_rate': 0.9890838093020888, 'n_estimators': 946.6334675487306}}\n",
      "Best Random Forest Classifier Parameters: {'target': 0.7598233995584989, 'params': {'max_depth': 16.445845403801215, 'n_estimators': 164.43457513284062}}\n",
      "best accuracy for bagging: 0.7622271277900416\n",
      "best accuracy for boosting: 0.7648270787343635\n",
      "best accuracy for random forest: 0.7598233995584989\n"
     ]
    }
   ],
   "source": [
    "from sklearn.datasets import make_classification\n",
    "from sklearn.model_selection import train_test_split\n",
    "from sklearn.ensemble import BaggingClassifier, AdaBoostClassifier, RandomForestClassifier\n",
    "from bayes_opt import BayesianOptimization\n",
    "\n",
    "# Define the function to optimize\n",
    "def optimize_bagging(n_estimators, max_samples):\n",
    "    model = BaggingClassifier(n_estimators=int(n_estimators), max_samples=max_samples,n_jobs=n_porcess)\n",
    "    model.fit(X_train, y_train)\n",
    "    return model.score(X_test, y_test)\n",
    "\n",
    "\n",
    "def optimize_adaboost(n_estimators, learning_rate):\n",
    "    model = AdaBoostClassifier(n_estimators=int(n_estimators), learning_rate=learning_rate)\n",
    "    model.fit(X_train, y_train)\n",
    "    return model.score(X_test, y_test)\n",
    "\n",
    "\n",
    "def optimize_rf(n_estimators, max_depth):\n",
    "    model = RandomForestClassifier(n_estimators=int(n_estimators), max_depth=int(max_depth),n_jobs=n_porcess)\n",
    "    model.fit(X_train, y_train)\n",
    "    return model.score(X_test, y_test)\n",
    "\n",
    "\n",
    "# Define the search space\n",
    "pbounds_bagging = {'n_estimators': (10, 1000), 'max_samples': (0.1, 1.0)}\n",
    "pbounds_adaboost = {'n_estimators': (10, 1000), 'learning_rate': (0.01, 1.0)}\n",
    "pbounds_rf = {'n_estimators': (10, 1000), 'max_depth': (1, 100)}\n",
    "\n",
    "# Perform optimization\n",
    "optimizer_bagging = BayesianOptimization(f=optimize_bagging, pbounds=pbounds_bagging, random_state=42)\n",
    "optimizer_adaboost = BayesianOptimization(f=optimize_adaboost, pbounds=pbounds_adaboost, random_state=42)\n",
    "optimizer_rf = BayesianOptimization(f=optimize_rf, pbounds=pbounds_rf, random_state=42)\n",
    "\n",
    "optimizer_bagging.maximize(init_points=10, n_iter=15)\n",
    "optimizer_adaboost.maximize(init_points=10, n_iter=15)\n",
    "optimizer_rf.maximize(init_points=10, n_iter=15)\n",
    "\n",
    "# Get the best hyperparameters\n",
    "best_params_bagging = optimizer_bagging.max\n",
    "best_params_adaboost = optimizer_adaboost.max\n",
    "best_params_rf = optimizer_rf.max\n",
    "\n",
    "print(\"Best Bagging Classifier Parameters:\", best_params_bagging)\n",
    "print(\"Best AdaBoost Classifier Parameters:\", best_params_adaboost)\n",
    "print(\"Best Random Forest Classifier Parameters:\", best_params_rf)\n",
    "print(\"best accuracy for bagging:\", optimizer_bagging.max['target'])\n",
    "print(\"best accuracy for boosting:\", optimizer_adaboost.max['target'])\n",
    "print(\"best accuracy for random forest:\", optimizer_rf.max['target'])\n"
   ]
  }
 ],
 "metadata": {
  "kernelspec": {
   "display_name": "Python 3",
   "language": "python",
   "name": "python3"
  },
  "language_info": {
   "codemirror_mode": {
    "name": "ipython",
    "version": 3
   },
   "file_extension": ".py",
   "mimetype": "text/x-python",
   "name": "python",
   "nbconvert_exporter": "python",
   "pygments_lexer": "ipython3",
   "version": "3.11.4"
  }
 },
 "nbformat": 4,
 "nbformat_minor": 2
}
