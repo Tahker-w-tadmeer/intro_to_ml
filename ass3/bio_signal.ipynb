{
 "cells": [
  {
   "cell_type": "code",
   "execution_count": 24,
   "outputs": [],
   "source": [
    "import pandas as pd\n",
    "import numpy as np\n",
    "import matplotlib.pyplot as plt\n",
    "import seaborn as sns\n",
    "import random\n"
   ],
   "metadata": {
    "collapsed": false,
    "ExecuteTime": {
     "end_time": "2023-12-08T00:27:32.191714Z",
     "start_time": "2023-12-08T00:27:32.190349Z"
    }
   },
   "id": "98fd83664f1f693"
  },
  {
   "cell_type": "code",
   "execution_count": 25,
   "outputs": [],
   "source": [
    "id_1 = 7406 \n",
    "id_2 = 7433 \n",
    "id_3 = 7577"
   ],
   "metadata": {
    "collapsed": false,
    "ExecuteTime": {
     "end_time": "2023-12-08T00:27:32.203867Z",
     "start_time": "2023-12-08T00:27:32.197127Z"
    }
   },
   "id": "20213f9737d97e41"
  },
  {
   "cell_type": "code",
   "execution_count": 26,
   "outputs": [],
   "source": [
    "random_seed = id_1+id_2+id_3\n",
    "random.seed(random_seed)\n",
    "data_path=\"Data.csv\"\n",
    "output_path=\"my_data.csv\""
   ],
   "metadata": {
    "collapsed": false,
    "ExecuteTime": {
     "end_time": "2023-12-08T00:27:32.208566Z",
     "start_time": "2023-12-08T00:27:32.197393Z"
    }
   },
   "id": "a777b411d4d6e255"
  },
  {
   "cell_type": "code",
   "execution_count": 27,
   "outputs": [],
   "source": [
    "all_data=pd.read_csv(data_path) \n",
    "all_columns = all_data.columns.tolist()"
   ],
   "metadata": {
    "collapsed": false,
    "ExecuteTime": {
     "end_time": "2023-12-08T00:27:32.346852Z",
     "start_time": "2023-12-08T00:27:32.201235Z"
    }
   },
   "id": "dc061838c34df769"
  },
  {
   "cell_type": "code",
   "execution_count": 28,
   "outputs": [],
   "source": [
    "target_column = 'smoking'\n",
    "all_columns.remove(target_column)"
   ],
   "metadata": {
    "collapsed": false,
    "ExecuteTime": {
     "end_time": "2023-12-08T00:27:32.349846Z",
     "start_time": "2023-12-08T00:27:32.347904Z"
    }
   },
   "id": "5ddf64be69192ef1"
  },
  {
   "cell_type": "code",
   "execution_count": 29,
   "outputs": [
    {
     "name": "stdout",
     "output_type": "stream",
     "text": [
      "[]\n"
     ]
    }
   ],
   "source": [
    "features_numbers = random.sample(range(23), 10)\n",
    "selected_columns = np.random.choice(all_columns, features_numbers, replace=False)\n",
    "print(selected_columns) \n",
    "selected_columns = np.append(selected_columns, target_column)\n",
    "sample_df = all_data[selected_columns].copy()\n",
    "sample_df.to_csv(output_path)"
   ],
   "metadata": {
    "collapsed": false,
    "ExecuteTime": {
     "end_time": "2023-12-08T00:27:32.418199Z",
     "start_time": "2023-12-08T00:27:32.352146Z"
    }
   },
   "id": "e79724356fe8448b"
  },
  {
   "cell_type": "code",
   "execution_count": 29,
   "outputs": [],
   "source": [],
   "metadata": {
    "collapsed": false,
    "ExecuteTime": {
     "end_time": "2023-12-08T00:27:32.418537Z",
     "start_time": "2023-12-08T00:27:32.417067Z"
    }
   },
   "id": "f2b6e424736f7cec"
  }
 ],
 "metadata": {
  "kernelspec": {
   "display_name": "Python 3",
   "language": "python",
   "name": "python3"
  },
  "language_info": {
   "codemirror_mode": {
    "name": "ipython",
    "version": 2
   },
   "file_extension": ".py",
   "mimetype": "text/x-python",
   "name": "python",
   "nbconvert_exporter": "python",
   "pygments_lexer": "ipython2",
   "version": "2.7.6"
  }
 },
 "nbformat": 4,
 "nbformat_minor": 5
}
