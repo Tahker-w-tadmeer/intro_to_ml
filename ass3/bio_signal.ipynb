{
 "cells": [
  {
   "cell_type": "code",
   "execution_count": 1,
   "id": "98fd83664f1f693",
   "metadata": {
    "ExecuteTime": {
     "end_time": "2023-12-08T00:27:32.191714Z",
     "start_time": "2023-12-08T00:27:32.190349Z"
    },
    "collapsed": false
   },
   "outputs": [],
   "source": [
    "import pandas as pd\n",
    "import numpy as np\n",
    "import matplotlib.pyplot as plt\n",
    "import seaborn as sns\n",
    "import random\n"
   ]
  },
  {
   "cell_type": "code",
   "execution_count": 2,
   "id": "20213f9737d97e41",
   "metadata": {
    "ExecuteTime": {
     "end_time": "2023-12-08T00:27:32.203867Z",
     "start_time": "2023-12-08T00:27:32.197127Z"
    },
    "collapsed": false
   },
   "outputs": [],
   "source": [
    "id_1 = 7406 \n",
    "id_2 = 7433 \n",
    "id_3 = 7577"
   ]
  },
  {
   "cell_type": "code",
   "execution_count": 3,
   "id": "a777b411d4d6e255",
   "metadata": {
    "ExecuteTime": {
     "end_time": "2023-12-08T00:27:32.208566Z",
     "start_time": "2023-12-08T00:27:32.197393Z"
    },
    "collapsed": false
   },
   "outputs": [],
   "source": [
    "random_seed = id_1+id_2+id_3\n",
    "random.seed(random_seed)\n",
    "data_path=\"Data.csv\"\n",
    "output_path=\"my_data.csv\""
   ]
  },
  {
   "cell_type": "code",
   "execution_count": 4,
   "id": "dc061838c34df769",
   "metadata": {
    "ExecuteTime": {
     "end_time": "2023-12-08T00:27:32.346852Z",
     "start_time": "2023-12-08T00:27:32.201235Z"
    },
    "collapsed": false
   },
   "outputs": [],
   "source": [
    "all_data=pd.read_csv(data_path) \n",
    "all_columns = all_data.columns.tolist()"
   ]
  },
  {
   "cell_type": "code",
   "execution_count": 5,
   "id": "5ddf64be69192ef1",
   "metadata": {
    "ExecuteTime": {
     "end_time": "2023-12-08T00:27:32.349846Z",
     "start_time": "2023-12-08T00:27:32.347904Z"
    },
    "collapsed": false
   },
   "outputs": [],
   "source": [
    "target_column = 'smoking'\n",
    "all_columns.remove(target_column)"
   ]
  },
  {
   "cell_type": "code",
   "execution_count": 6,
   "id": "e79724356fe8448b",
   "metadata": {
    "ExecuteTime": {
     "end_time": "2023-12-08T00:27:32.418199Z",
     "start_time": "2023-12-08T00:27:32.352146Z"
    },
    "collapsed": false
   },
   "outputs": [
    {
     "name": "stdout",
     "output_type": "stream",
     "text": [
      "['LDL', 'Urine protein', 'hearing(left)', 'systolic', 'height(cm)', 'eyesight(right)', 'triglyceride', 'id', 'hearing(right)', 'HDL']\n"
     ]
    }
   ],
   "source": [
    "selected_columns = random.sample(all_columns, 10)\n",
    "\n",
    "print(selected_columns) #MUST BE PRINTED\n",
    "selected_columns = np.append(selected_columns, target_column)\n",
    "sample_df = all_data[selected_columns].copy()\n",
    "sample_df.to_csv(output_path)   #From HERE YOU CAN SPLIT FOR TRAIN ,VALID AND TEST\n"
   ]
  },
  {
   "cell_type": "code",
   "execution_count": null,
   "id": "f2b6e424736f7cec",
   "metadata": {
    "ExecuteTime": {
     "end_time": "2023-12-08T00:27:32.418537Z",
     "start_time": "2023-12-08T00:27:32.417067Z"
    },
    "collapsed": false
   },
   "outputs": [],
   "source": []
  }
 ],
 "metadata": {
  "kernelspec": {
   "display_name": "Python 3",
   "language": "python",
   "name": "python3"
  },
  "language_info": {
   "codemirror_mode": {
    "name": "ipython",
    "version": 3
   },
   "file_extension": ".py",
   "mimetype": "text/x-python",
   "name": "python",
   "nbconvert_exporter": "python",
   "pygments_lexer": "ipython3",
   "version": "3.11.4"
  }
 },
 "nbformat": 4,
 "nbformat_minor": 5
}
