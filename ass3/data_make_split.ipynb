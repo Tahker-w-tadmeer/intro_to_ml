{
 "cells": [
  {
   "cell_type": "code",
   "execution_count": 1,
   "id": "98fd83664f1f693",
   "metadata": {
    "ExecuteTime": {
     "end_time": "2023-12-08T00:27:32.191714Z",
     "start_time": "2023-12-08T00:27:32.190349Z"
    },
    "collapsed": false
   },
   "outputs": [],
   "source": [
    "import random \n",
    "import numpy as np\n",
    "import pandas as pd"
   ]
  },
  {
   "cell_type": "code",
   "execution_count": 2,
   "id": "20213f9737d97e41",
   "metadata": {
    "ExecuteTime": {
     "end_time": "2023-12-08T00:27:32.203867Z",
     "start_time": "2023-12-08T00:27:32.197127Z"
    },
    "collapsed": false
   },
   "outputs": [],
   "source": [
    "id_1 = 7406 \n",
    "id_2 = 7433 \n",
    "id_3 = 7574"
   ]
  },
  {
   "cell_type": "code",
   "execution_count": 3,
   "id": "a777b411d4d6e255",
   "metadata": {
    "ExecuteTime": {
     "end_time": "2023-12-08T00:27:32.208566Z",
     "start_time": "2023-12-08T00:27:32.197393Z"
    },
    "collapsed": false
   },
   "outputs": [],
   "source": [
    "random_seed = id_1+id_2+id_3\n",
    "random.seed(random_seed)\n",
    "data_path=\"Data.csv\"\n",
    "output_path=\"my_data.csv\""
   ]
  },
  {
   "cell_type": "code",
   "execution_count": 4,
   "id": "dc061838c34df769",
   "metadata": {
    "ExecuteTime": {
     "end_time": "2023-12-08T00:27:32.346852Z",
     "start_time": "2023-12-08T00:27:32.201235Z"
    },
    "collapsed": false
   },
   "outputs": [],
   "source": [
    "all_data=pd.read_csv(data_path) \n",
    "all_data.drop(columns='id',inplace=True)\n",
    "all_columns = all_data.columns.tolist()"
   ]
  },
  {
   "cell_type": "code",
   "execution_count": 5,
   "id": "5ddf64be69192ef1",
   "metadata": {
    "ExecuteTime": {
     "end_time": "2023-12-08T00:27:32.349846Z",
     "start_time": "2023-12-08T00:27:32.347904Z"
    },
    "collapsed": false
   },
   "outputs": [],
   "source": [
    "target_column = 'smoking'\n",
    "all_columns.remove(target_column)"
   ]
  },
  {
   "cell_type": "code",
   "execution_count": 6,
   "id": "e79724356fe8448b",
   "metadata": {
    "ExecuteTime": {
     "end_time": "2023-12-08T00:27:32.418199Z",
     "start_time": "2023-12-08T00:27:32.352146Z"
    },
    "collapsed": false
   },
   "outputs": [
    {
     "name": "stdout",
     "output_type": "stream",
     "text": [
      "['age', 'relaxation', 'Gtp', 'triglyceride', 'eyesight(left)', 'ALT', 'height(cm)', 'weight(kg)', 'waist(cm)', 'hearing(left)']\n",
      "Train set:\n",
      "        age  relaxation  Gtp  triglyceride  eyesight(left)  ALT  height(cm)  \\\n",
      "33723    40          64   10            40             1.2   10         160   \n",
      "67473    60          86  111           160             0.6   55         160   \n",
      "95462    40          84   28           163             1.0   16         175   \n",
      "13284    40          89   12            53             1.2   17         175   \n",
      "107102   55          80   34            53             0.6   24         170   \n",
      "\n",
      "        weight(kg)  waist(cm)  hearing(left)  smoking  \n",
      "33723           50       68.0              1        0  \n",
      "67473           65       88.0              1        0  \n",
      "95462           75       88.0              1        1  \n",
      "13284           60       73.0              1        1  \n",
      "107102          70       87.1              1        1  \n",
      "Validation set:\n",
      "        age  relaxation  Gtp  triglyceride  eyesight(left)  ALT  height(cm)  \\\n",
      "45924    60          70   26            82             0.4   32         160   \n",
      "75758    60          73   20           134             0.8   24         165   \n",
      "16419    25          80   53           256             0.9   45         175   \n",
      "151112   60          88   41            95             0.8   23         150   \n",
      "123074   60          80   25           201             0.5   13         165   \n",
      "\n",
      "        weight(kg)  waist(cm)  hearing(left)  smoking  \n",
      "45924           65       84.6              1        0  \n",
      "75758           70       83.0              1        1  \n",
      "16419           80       89.0              1        1  \n",
      "151112          55       82.0              1        0  \n",
      "123074          80       98.0              1        0  \n",
      "Test set:\n",
      "        age  relaxation  Gtp  triglyceride  eyesight(left)  ALT  height(cm)  \\\n",
      "111332   30          70   40            89             0.9   19         165   \n",
      "88520    40          61   24            68             0.9   15         175   \n",
      "150719   55          80   34           206             0.9   21         155   \n",
      "114939   25          76   16           115             1.2   18         170   \n",
      "141357   25          82   29           199             1.5   47         165   \n",
      "\n",
      "        weight(kg)  waist(cm)  hearing(left)  smoking  \n",
      "111332          75       79.0              1        0  \n",
      "88520           65       80.0              1        1  \n",
      "150719          75       99.0              1        0  \n",
      "114939          75       82.0              1        0  \n",
      "141357          75       87.6              1        1  \n"
     ]
    }
   ],
   "source": [
    "from sklearn.model_selection import train_test_split\n",
    "selected_columns = random.sample(all_columns, 10)\n",
    "\n",
    "print(selected_columns) #MUST BE PRINTED\n",
    "selected_columns = np.append(selected_columns, target_column)\n",
    "sample_df = all_data[selected_columns].copy()\n",
    "sample_df.to_csv(output_path) \n",
    "\n",
    "train_df, test_df = train_test_split(sample_df, test_size=0.2, random_state=random_seed)\n",
    "train_df, valid_df = train_test_split(train_df, test_size=0.2, random_state=random_seed)\n",
    "train_df.to_csv('train_set.csv', index=False)\n",
    "valid_df.to_csv('validation_set.csv', index=False)\n",
    "test_df.to_csv('test_set.csv', index=False)\n",
    "print(\"Train set:\")\n",
    "print(train_df.head())\n",
    "\n",
    "print(\"Validation set:\")\n",
    "print(valid_df.head())\n",
    "\n",
    "print(\"Test set:\")\n",
    "print(test_df.head())\n"
   ]
  },
  {
   "cell_type": "code",
   "execution_count": null,
   "id": "f2b6e424736f7cec",
   "metadata": {
    "ExecuteTime": {
     "end_time": "2023-12-08T00:27:32.418537Z",
     "start_time": "2023-12-08T00:27:32.417067Z"
    },
    "collapsed": false
   },
   "outputs": [],
   "source": []
  }
 ],
 "metadata": {
  "kernelspec": {
   "display_name": "Python 3",
   "language": "python",
   "name": "python3"
  },
  "language_info": {
   "codemirror_mode": {
    "name": "ipython",
    "version": 3
   },
   "file_extension": ".py",
   "mimetype": "text/x-python",
   "name": "python",
   "nbconvert_exporter": "python",
   "pygments_lexer": "ipython3",
   "version": "3.11.4"
  }
 },
 "nbformat": 4,
 "nbformat_minor": 5
}
