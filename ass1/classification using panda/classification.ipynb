{
 "cells": [
  {
   "cell_type": "code",
   "execution_count": 1,
   "id": "initial_id",
   "metadata": {
    "ExecuteTime": {
     "end_time": "2023-11-04T00:29:29.492878Z",
     "start_time": "2023-11-04T00:29:27.589282Z"
    },
    "collapsed": true,
    "jupyter": {
     "outputs_hidden": true
    }
   },
   "outputs": [],
   "source": [
    "import pandas as pd\n",
    "import matplotlib.pyplot as plt\n"
   ]
  },
  {
   "cell_type": "markdown",
   "id": "c20b22febf4e1d7a",
   "metadata": {
    "collapsed": false
   },
   "source": [
    "# Importing the dataset"
   ]
  },
  {
   "cell_type": "code",
   "execution_count": 2,
   "id": "444a7ec63163a107",
   "metadata": {
    "ExecuteTime": {
     "end_time": "2023-11-04T00:29:29.525159Z",
     "start_time": "2023-11-04T00:29:29.493754Z"
    },
    "collapsed": false
   },
   "outputs": [
    {
     "data": {
      "text/html": [
       "<div>\n",
       "<style scoped>\n",
       "    .dataframe tbody tr th:only-of-type {\n",
       "        vertical-align: middle;\n",
       "    }\n",
       "\n",
       "    .dataframe tbody tr th {\n",
       "        vertical-align: top;\n",
       "    }\n",
       "\n",
       "    .dataframe thead th {\n",
       "        text-align: right;\n",
       "    }\n",
       "</style>\n",
       "<table border=\"1\" class=\"dataframe\">\n",
       "  <thead>\n",
       "    <tr style=\"text-align: right;\">\n",
       "      <th></th>\n",
       "      <th>fLength</th>\n",
       "      <th>fWidth</th>\n",
       "      <th>fSize</th>\n",
       "      <th>fConc</th>\n",
       "      <th>fConc1</th>\n",
       "      <th>fAsym</th>\n",
       "      <th>fM3Long</th>\n",
       "      <th>fM3Trans</th>\n",
       "      <th>fAlpha</th>\n",
       "      <th>fDist</th>\n",
       "      <th>class</th>\n",
       "    </tr>\n",
       "  </thead>\n",
       "  <tbody>\n",
       "    <tr>\n",
       "      <th>0</th>\n",
       "      <td>28.7967</td>\n",
       "      <td>16.0021</td>\n",
       "      <td>2.6449</td>\n",
       "      <td>0.3918</td>\n",
       "      <td>0.1982</td>\n",
       "      <td>27.7004</td>\n",
       "      <td>22.0110</td>\n",
       "      <td>-8.2027</td>\n",
       "      <td>40.0920</td>\n",
       "      <td>81.8828</td>\n",
       "      <td>g</td>\n",
       "    </tr>\n",
       "    <tr>\n",
       "      <th>1</th>\n",
       "      <td>31.6036</td>\n",
       "      <td>11.7235</td>\n",
       "      <td>2.5185</td>\n",
       "      <td>0.5303</td>\n",
       "      <td>0.3773</td>\n",
       "      <td>26.2722</td>\n",
       "      <td>23.8238</td>\n",
       "      <td>-9.9574</td>\n",
       "      <td>6.3609</td>\n",
       "      <td>205.2610</td>\n",
       "      <td>g</td>\n",
       "    </tr>\n",
       "    <tr>\n",
       "      <th>2</th>\n",
       "      <td>162.0520</td>\n",
       "      <td>136.0310</td>\n",
       "      <td>4.0612</td>\n",
       "      <td>0.0374</td>\n",
       "      <td>0.0187</td>\n",
       "      <td>116.7410</td>\n",
       "      <td>-64.8580</td>\n",
       "      <td>-45.2160</td>\n",
       "      <td>76.9600</td>\n",
       "      <td>256.7880</td>\n",
       "      <td>g</td>\n",
       "    </tr>\n",
       "    <tr>\n",
       "      <th>3</th>\n",
       "      <td>23.8172</td>\n",
       "      <td>9.5728</td>\n",
       "      <td>2.3385</td>\n",
       "      <td>0.6147</td>\n",
       "      <td>0.3922</td>\n",
       "      <td>27.2107</td>\n",
       "      <td>-6.4633</td>\n",
       "      <td>-7.1513</td>\n",
       "      <td>10.4490</td>\n",
       "      <td>116.7370</td>\n",
       "      <td>g</td>\n",
       "    </tr>\n",
       "    <tr>\n",
       "      <th>4</th>\n",
       "      <td>75.1362</td>\n",
       "      <td>30.9205</td>\n",
       "      <td>3.1611</td>\n",
       "      <td>0.3168</td>\n",
       "      <td>0.1832</td>\n",
       "      <td>-5.5277</td>\n",
       "      <td>28.5525</td>\n",
       "      <td>21.8393</td>\n",
       "      <td>4.6480</td>\n",
       "      <td>356.4620</td>\n",
       "      <td>g</td>\n",
       "    </tr>\n",
       "    <tr>\n",
       "      <th>...</th>\n",
       "      <td>...</td>\n",
       "      <td>...</td>\n",
       "      <td>...</td>\n",
       "      <td>...</td>\n",
       "      <td>...</td>\n",
       "      <td>...</td>\n",
       "      <td>...</td>\n",
       "      <td>...</td>\n",
       "      <td>...</td>\n",
       "      <td>...</td>\n",
       "      <td>...</td>\n",
       "    </tr>\n",
       "    <tr>\n",
       "      <th>19015</th>\n",
       "      <td>21.3846</td>\n",
       "      <td>10.9170</td>\n",
       "      <td>2.6161</td>\n",
       "      <td>0.5857</td>\n",
       "      <td>0.3934</td>\n",
       "      <td>15.2618</td>\n",
       "      <td>11.5245</td>\n",
       "      <td>2.8766</td>\n",
       "      <td>2.4229</td>\n",
       "      <td>106.8258</td>\n",
       "      <td>h</td>\n",
       "    </tr>\n",
       "    <tr>\n",
       "      <th>19016</th>\n",
       "      <td>28.9452</td>\n",
       "      <td>6.7020</td>\n",
       "      <td>2.2672</td>\n",
       "      <td>0.5351</td>\n",
       "      <td>0.2784</td>\n",
       "      <td>37.0816</td>\n",
       "      <td>13.1853</td>\n",
       "      <td>-2.9632</td>\n",
       "      <td>86.7975</td>\n",
       "      <td>247.4560</td>\n",
       "      <td>h</td>\n",
       "    </tr>\n",
       "    <tr>\n",
       "      <th>19017</th>\n",
       "      <td>75.4455</td>\n",
       "      <td>47.5305</td>\n",
       "      <td>3.4483</td>\n",
       "      <td>0.1417</td>\n",
       "      <td>0.0549</td>\n",
       "      <td>-9.3561</td>\n",
       "      <td>41.0562</td>\n",
       "      <td>-9.4662</td>\n",
       "      <td>30.2987</td>\n",
       "      <td>256.5166</td>\n",
       "      <td>h</td>\n",
       "    </tr>\n",
       "    <tr>\n",
       "      <th>19018</th>\n",
       "      <td>120.5135</td>\n",
       "      <td>76.9018</td>\n",
       "      <td>3.9939</td>\n",
       "      <td>0.0944</td>\n",
       "      <td>0.0683</td>\n",
       "      <td>5.8043</td>\n",
       "      <td>-93.5224</td>\n",
       "      <td>-63.8389</td>\n",
       "      <td>84.6874</td>\n",
       "      <td>408.3166</td>\n",
       "      <td>h</td>\n",
       "    </tr>\n",
       "    <tr>\n",
       "      <th>19019</th>\n",
       "      <td>187.1814</td>\n",
       "      <td>53.0014</td>\n",
       "      <td>3.2093</td>\n",
       "      <td>0.2876</td>\n",
       "      <td>0.1539</td>\n",
       "      <td>-167.3125</td>\n",
       "      <td>-168.4558</td>\n",
       "      <td>31.4755</td>\n",
       "      <td>52.7310</td>\n",
       "      <td>272.3174</td>\n",
       "      <td>h</td>\n",
       "    </tr>\n",
       "  </tbody>\n",
       "</table>\n",
       "<p>19020 rows × 11 columns</p>\n",
       "</div>"
      ],
      "text/plain": [
       "        fLength    fWidth   fSize   fConc  fConc1     fAsym   fM3Long  \\\n",
       "0       28.7967   16.0021  2.6449  0.3918  0.1982   27.7004   22.0110   \n",
       "1       31.6036   11.7235  2.5185  0.5303  0.3773   26.2722   23.8238   \n",
       "2      162.0520  136.0310  4.0612  0.0374  0.0187  116.7410  -64.8580   \n",
       "3       23.8172    9.5728  2.3385  0.6147  0.3922   27.2107   -6.4633   \n",
       "4       75.1362   30.9205  3.1611  0.3168  0.1832   -5.5277   28.5525   \n",
       "...         ...       ...     ...     ...     ...       ...       ...   \n",
       "19015   21.3846   10.9170  2.6161  0.5857  0.3934   15.2618   11.5245   \n",
       "19016   28.9452    6.7020  2.2672  0.5351  0.2784   37.0816   13.1853   \n",
       "19017   75.4455   47.5305  3.4483  0.1417  0.0549   -9.3561   41.0562   \n",
       "19018  120.5135   76.9018  3.9939  0.0944  0.0683    5.8043  -93.5224   \n",
       "19019  187.1814   53.0014  3.2093  0.2876  0.1539 -167.3125 -168.4558   \n",
       "\n",
       "       fM3Trans   fAlpha     fDist class  \n",
       "0       -8.2027  40.0920   81.8828     g  \n",
       "1       -9.9574   6.3609  205.2610     g  \n",
       "2      -45.2160  76.9600  256.7880     g  \n",
       "3       -7.1513  10.4490  116.7370     g  \n",
       "4       21.8393   4.6480  356.4620     g  \n",
       "...         ...      ...       ...   ...  \n",
       "19015    2.8766   2.4229  106.8258     h  \n",
       "19016   -2.9632  86.7975  247.4560     h  \n",
       "19017   -9.4662  30.2987  256.5166     h  \n",
       "19018  -63.8389  84.6874  408.3166     h  \n",
       "19019   31.4755  52.7310  272.3174     h  \n",
       "\n",
       "[19020 rows x 11 columns]"
      ]
     },
     "execution_count": 2,
     "metadata": {},
     "output_type": "execute_result"
    }
   ],
   "source": [
    "column_name = ['fLength', 'fWidth', 'fSize', 'fConc', 'fConc1', 'fAsym', 'fM3Long', 'fM3Trans', 'fAlpha', 'fDist',\n",
    "               'class']\n",
    "dataset = pd.read_csv('magic04.data', names=column_name)\n",
    "dataset"
   ]
  },
  {
   "cell_type": "markdown",
   "id": "248e40b12092fb65",
   "metadata": {
    "collapsed": false
   },
   "source": [
    "# Exploratory Data Analysis"
   ]
  },
  {
   "cell_type": "code",
   "execution_count": 3,
   "id": "6c81e1651fc37c2f",
   "metadata": {
    "ExecuteTime": {
     "end_time": "2023-11-04T00:29:29.526518Z",
     "start_time": "2023-11-04T00:29:29.522898Z"
    },
    "collapsed": false
   },
   "outputs": [
    {
     "data": {
      "text/plain": [
       "class\n",
       "g    12332\n",
       "h     6688\n",
       "Name: count, dtype: int64"
      ]
     },
     "execution_count": 3,
     "metadata": {},
     "output_type": "execute_result"
    }
   ],
   "source": [
    "dataset['class'].value_counts()"
   ]
  },
  {
   "cell_type": "markdown",
   "id": "4880afb98331a0e6",
   "metadata": {
    "collapsed": false
   },
   "source": [
    "# balancing the dataset"
   ]
  },
  {
   "cell_type": "code",
   "execution_count": 4,
   "id": "70087533be96da3d",
   "metadata": {
    "ExecuteTime": {
     "end_time": "2023-11-04T00:29:29.547114Z",
     "start_time": "2023-11-04T00:29:29.529389Z"
    },
    "collapsed": false
   },
   "outputs": [
    {
     "data": {
      "text/html": [
       "<div>\n",
       "<style scoped>\n",
       "    .dataframe tbody tr th:only-of-type {\n",
       "        vertical-align: middle;\n",
       "    }\n",
       "\n",
       "    .dataframe tbody tr th {\n",
       "        vertical-align: top;\n",
       "    }\n",
       "\n",
       "    .dataframe thead th {\n",
       "        text-align: right;\n",
       "    }\n",
       "</style>\n",
       "<table border=\"1\" class=\"dataframe\">\n",
       "  <thead>\n",
       "    <tr style=\"text-align: right;\">\n",
       "      <th></th>\n",
       "      <th></th>\n",
       "      <th>fLength</th>\n",
       "      <th>fWidth</th>\n",
       "      <th>fSize</th>\n",
       "      <th>fConc</th>\n",
       "      <th>fConc1</th>\n",
       "      <th>fAsym</th>\n",
       "      <th>fM3Long</th>\n",
       "      <th>fM3Trans</th>\n",
       "      <th>fAlpha</th>\n",
       "      <th>fDist</th>\n",
       "      <th>class</th>\n",
       "    </tr>\n",
       "    <tr>\n",
       "      <th>class</th>\n",
       "      <th></th>\n",
       "      <th></th>\n",
       "      <th></th>\n",
       "      <th></th>\n",
       "      <th></th>\n",
       "      <th></th>\n",
       "      <th></th>\n",
       "      <th></th>\n",
       "      <th></th>\n",
       "      <th></th>\n",
       "      <th></th>\n",
       "      <th></th>\n",
       "    </tr>\n",
       "  </thead>\n",
       "  <tbody>\n",
       "    <tr>\n",
       "      <th rowspan=\"5\" valign=\"top\">g</th>\n",
       "      <th>0</th>\n",
       "      <td>27.4926</td>\n",
       "      <td>8.2153</td>\n",
       "      <td>2.1931</td>\n",
       "      <td>0.5962</td>\n",
       "      <td>0.3365</td>\n",
       "      <td>-13.9212</td>\n",
       "      <td>-18.9347</td>\n",
       "      <td>-4.5283</td>\n",
       "      <td>58.4118</td>\n",
       "      <td>143.1980</td>\n",
       "      <td>g</td>\n",
       "    </tr>\n",
       "    <tr>\n",
       "      <th>1</th>\n",
       "      <td>51.5363</td>\n",
       "      <td>14.1394</td>\n",
       "      <td>2.8072</td>\n",
       "      <td>0.3507</td>\n",
       "      <td>0.2159</td>\n",
       "      <td>-52.3117</td>\n",
       "      <td>42.3068</td>\n",
       "      <td>-9.3238</td>\n",
       "      <td>11.3990</td>\n",
       "      <td>277.0050</td>\n",
       "      <td>g</td>\n",
       "    </tr>\n",
       "    <tr>\n",
       "      <th>2</th>\n",
       "      <td>19.4525</td>\n",
       "      <td>12.8362</td>\n",
       "      <td>2.3589</td>\n",
       "      <td>0.5252</td>\n",
       "      <td>0.3129</td>\n",
       "      <td>14.7674</td>\n",
       "      <td>13.7077</td>\n",
       "      <td>-3.0850</td>\n",
       "      <td>4.6487</td>\n",
       "      <td>182.3650</td>\n",
       "      <td>g</td>\n",
       "    </tr>\n",
       "    <tr>\n",
       "      <th>3</th>\n",
       "      <td>30.2518</td>\n",
       "      <td>22.7652</td>\n",
       "      <td>3.0443</td>\n",
       "      <td>0.2790</td>\n",
       "      <td>0.1621</td>\n",
       "      <td>6.8535</td>\n",
       "      <td>-9.0837</td>\n",
       "      <td>13.4530</td>\n",
       "      <td>10.0830</td>\n",
       "      <td>218.1590</td>\n",
       "      <td>g</td>\n",
       "    </tr>\n",
       "    <tr>\n",
       "      <th>4</th>\n",
       "      <td>13.5940</td>\n",
       "      <td>9.9525</td>\n",
       "      <td>2.2730</td>\n",
       "      <td>0.8213</td>\n",
       "      <td>0.4133</td>\n",
       "      <td>-14.9401</td>\n",
       "      <td>-2.4751</td>\n",
       "      <td>-11.8255</td>\n",
       "      <td>54.2130</td>\n",
       "      <td>102.1260</td>\n",
       "      <td>g</td>\n",
       "    </tr>\n",
       "    <tr>\n",
       "      <th>...</th>\n",
       "      <th>...</th>\n",
       "      <td>...</td>\n",
       "      <td>...</td>\n",
       "      <td>...</td>\n",
       "      <td>...</td>\n",
       "      <td>...</td>\n",
       "      <td>...</td>\n",
       "      <td>...</td>\n",
       "      <td>...</td>\n",
       "      <td>...</td>\n",
       "      <td>...</td>\n",
       "      <td>...</td>\n",
       "    </tr>\n",
       "    <tr>\n",
       "      <th rowspan=\"5\" valign=\"top\">h</th>\n",
       "      <th>6683</th>\n",
       "      <td>149.5970</td>\n",
       "      <td>39.7260</td>\n",
       "      <td>3.1188</td>\n",
       "      <td>0.2784</td>\n",
       "      <td>0.1639</td>\n",
       "      <td>-123.4090</td>\n",
       "      <td>-109.5100</td>\n",
       "      <td>32.5458</td>\n",
       "      <td>58.2243</td>\n",
       "      <td>300.1000</td>\n",
       "      <td>h</td>\n",
       "    </tr>\n",
       "    <tr>\n",
       "      <th>6684</th>\n",
       "      <td>29.6989</td>\n",
       "      <td>10.8918</td>\n",
       "      <td>2.2122</td>\n",
       "      <td>0.5565</td>\n",
       "      <td>0.2925</td>\n",
       "      <td>-0.5062</td>\n",
       "      <td>14.8697</td>\n",
       "      <td>-5.8006</td>\n",
       "      <td>88.1524</td>\n",
       "      <td>225.8803</td>\n",
       "      <td>h</td>\n",
       "    </tr>\n",
       "    <tr>\n",
       "      <th>6685</th>\n",
       "      <td>44.5526</td>\n",
       "      <td>10.1376</td>\n",
       "      <td>2.7368</td>\n",
       "      <td>0.3593</td>\n",
       "      <td>0.1897</td>\n",
       "      <td>-0.8568</td>\n",
       "      <td>32.8751</td>\n",
       "      <td>4.0030</td>\n",
       "      <td>3.0770</td>\n",
       "      <td>78.6061</td>\n",
       "      <td>h</td>\n",
       "    </tr>\n",
       "    <tr>\n",
       "      <th>6686</th>\n",
       "      <td>34.4045</td>\n",
       "      <td>8.3875</td>\n",
       "      <td>2.7819</td>\n",
       "      <td>0.4116</td>\n",
       "      <td>0.2221</td>\n",
       "      <td>13.9775</td>\n",
       "      <td>50.6389</td>\n",
       "      <td>-7.9092</td>\n",
       "      <td>7.1369</td>\n",
       "      <td>271.5166</td>\n",
       "      <td>h</td>\n",
       "    </tr>\n",
       "    <tr>\n",
       "      <th>6687</th>\n",
       "      <td>150.7730</td>\n",
       "      <td>14.7692</td>\n",
       "      <td>2.6547</td>\n",
       "      <td>0.4142</td>\n",
       "      <td>0.2514</td>\n",
       "      <td>-67.1040</td>\n",
       "      <td>-157.1010</td>\n",
       "      <td>10.3759</td>\n",
       "      <td>25.6371</td>\n",
       "      <td>162.9250</td>\n",
       "      <td>h</td>\n",
       "    </tr>\n",
       "  </tbody>\n",
       "</table>\n",
       "<p>13376 rows × 11 columns</p>\n",
       "</div>"
      ],
      "text/plain": [
       "             fLength   fWidth   fSize   fConc  fConc1     fAsym   fM3Long  \\\n",
       "class                                                                       \n",
       "g     0      27.4926   8.2153  2.1931  0.5962  0.3365  -13.9212  -18.9347   \n",
       "      1      51.5363  14.1394  2.8072  0.3507  0.2159  -52.3117   42.3068   \n",
       "      2      19.4525  12.8362  2.3589  0.5252  0.3129   14.7674   13.7077   \n",
       "      3      30.2518  22.7652  3.0443  0.2790  0.1621    6.8535   -9.0837   \n",
       "      4      13.5940   9.9525  2.2730  0.8213  0.4133  -14.9401   -2.4751   \n",
       "...              ...      ...     ...     ...     ...       ...       ...   \n",
       "h     6683  149.5970  39.7260  3.1188  0.2784  0.1639 -123.4090 -109.5100   \n",
       "      6684   29.6989  10.8918  2.2122  0.5565  0.2925   -0.5062   14.8697   \n",
       "      6685   44.5526  10.1376  2.7368  0.3593  0.1897   -0.8568   32.8751   \n",
       "      6686   34.4045   8.3875  2.7819  0.4116  0.2221   13.9775   50.6389   \n",
       "      6687  150.7730  14.7692  2.6547  0.4142  0.2514  -67.1040 -157.1010   \n",
       "\n",
       "            fM3Trans   fAlpha     fDist class  \n",
       "class                                          \n",
       "g     0      -4.5283  58.4118  143.1980     g  \n",
       "      1      -9.3238  11.3990  277.0050     g  \n",
       "      2      -3.0850   4.6487  182.3650     g  \n",
       "      3      13.4530  10.0830  218.1590     g  \n",
       "      4     -11.8255  54.2130  102.1260     g  \n",
       "...              ...      ...       ...   ...  \n",
       "h     6683   32.5458  58.2243  300.1000     h  \n",
       "      6684   -5.8006  88.1524  225.8803     h  \n",
       "      6685    4.0030   3.0770   78.6061     h  \n",
       "      6686   -7.9092   7.1369  271.5166     h  \n",
       "      6687   10.3759  25.6371  162.9250     h  \n",
       "\n",
       "[13376 rows x 11 columns]"
      ]
     },
     "execution_count": 4,
     "metadata": {},
     "output_type": "execute_result"
    }
   ],
   "source": [
    "g = dataset.groupby('class')\n",
    "g = g.apply(lambda x: x.sample(g.size().min()).reset_index(drop=True))\n",
    "g"
   ]
  },
  {
   "cell_type": "markdown",
   "id": "47b15ef46cc9cb43",
   "metadata": {
    "collapsed": false
   },
   "source": [
    "#splitting the dataset into y and x"
   ]
  },
  {
   "cell_type": "code",
   "execution_count": 5,
   "id": "f7598c248dca952a",
   "metadata": {
    "ExecuteTime": {
     "end_time": "2023-11-04T00:29:29.554438Z",
     "start_time": "2023-11-04T00:29:29.548471Z"
    },
    "collapsed": false
   },
   "outputs": [],
   "source": [
    "X = g.iloc[:, :-1].values\n",
    "y = g.iloc[:, -1].values"
   ]
  },
  {
   "cell_type": "code",
   "execution_count": 6,
   "id": "35d8cea9608523ae",
   "metadata": {
    "ExecuteTime": {
     "end_time": "2023-11-04T00:29:29.585271Z",
     "start_time": "2023-11-04T00:29:29.551804Z"
    },
    "collapsed": false
   },
   "outputs": [
    {
     "data": {
      "text/plain": [
       "array([[ 27.4926,   8.2153,   2.1931, ...,  -4.5283,  58.4118, 143.198 ],\n",
       "       [ 51.5363,  14.1394,   2.8072, ...,  -9.3238,  11.399 , 277.005 ],\n",
       "       [ 19.4525,  12.8362,   2.3589, ...,  -3.085 ,   4.6487, 182.365 ],\n",
       "       ...,\n",
       "       [ 44.5526,  10.1376,   2.7368, ...,   4.003 ,   3.077 ,  78.6061],\n",
       "       [ 34.4045,   8.3875,   2.7819, ...,  -7.9092,   7.1369, 271.5166],\n",
       "       [150.773 ,  14.7692,   2.6547, ...,  10.3759,  25.6371, 162.925 ]])"
      ]
     },
     "execution_count": 6,
     "metadata": {},
     "output_type": "execute_result"
    }
   ],
   "source": [
    "X"
   ]
  },
  {
   "cell_type": "code",
   "execution_count": 7,
   "id": "59d7885ba7f12455",
   "metadata": {
    "ExecuteTime": {
     "end_time": "2023-11-04T00:29:29.586313Z",
     "start_time": "2023-11-04T00:29:29.556627Z"
    },
    "collapsed": false
   },
   "outputs": [
    {
     "data": {
      "text/plain": [
       "array(['g', 'g', 'g', ..., 'h', 'h', 'h'], dtype=object)"
      ]
     },
     "execution_count": 7,
     "metadata": {},
     "output_type": "execute_result"
    }
   ],
   "source": [
    "y"
   ]
  },
  {
   "cell_type": "markdown",
   "id": "94f42784d017ba5d",
   "metadata": {
    "collapsed": false
   },
   "source": [
    "# Encoding categorical data"
   ]
  },
  {
   "cell_type": "code",
   "execution_count": 8,
   "id": "b5cc2fceffe40a9c",
   "metadata": {
    "ExecuteTime": {
     "end_time": "2023-11-04T00:29:31.157356Z",
     "start_time": "2023-11-04T00:29:29.560531Z"
    },
    "collapsed": false
   },
   "outputs": [
    {
     "data": {
      "text/plain": [
       "array([0, 0, 0, ..., 1, 1, 1])"
      ]
     },
     "execution_count": 8,
     "metadata": {},
     "output_type": "execute_result"
    }
   ],
   "source": [
    "from sklearn.preprocessing import LabelEncoder\n",
    "e = LabelEncoder()\n",
    "y = e.fit_transform(y)\n",
    "y"
   ]
  },
  {
   "cell_type": "markdown",
   "id": "769f3bfce654a479",
   "metadata": {
    "collapsed": false
   },
   "source": [
    "#normalizing the dataset"
   ]
  },
  {
   "cell_type": "code",
   "execution_count": 9,
   "id": "cd960b65d44bd728",
   "metadata": {
    "ExecuteTime": {
     "end_time": "2023-11-04T00:29:31.165082Z",
     "start_time": "2023-11-04T00:29:31.159234Z"
    },
    "collapsed": false
   },
   "outputs": [
    {
     "data": {
      "text/plain": [
       "array([[-0.63095642, -0.73940571, -1.3721836 , ..., -0.20804723,\n",
       "         1.0061989 , -0.67066734],\n",
       "       [-0.11917557, -0.45565345, -0.07322263, ..., -0.41451202,\n",
       "        -0.74156361,  1.07846765],\n",
       "       [-0.80209353, -0.51807406, -1.02147894, ..., -0.14590759,\n",
       "        -0.99251487, -0.15867342],\n",
       "       ...,\n",
       "       [-0.26782673, -0.64733147, -0.22213462, ...,  0.15925817,\n",
       "        -1.05094488, -1.51501743],\n",
       "       [-0.48383355, -0.73115768, -0.12673787, ..., -0.35360802,\n",
       "        -0.90001277,  1.00672288],\n",
       "       [ 1.99312174, -0.42548732, -0.39579476, ...,  0.43363612,\n",
       "        -0.21224357, -0.41279453]])"
      ]
     },
     "execution_count": 9,
     "metadata": {},
     "output_type": "execute_result"
    }
   ],
   "source": [
    "from sklearn.preprocessing import StandardScaler\n",
    "sc=StandardScaler()\n",
    "X=sc.fit_transform(X)\n",
    "X"
   ]
  },
  {
   "cell_type": "markdown",
   "id": "fadc2cba4b01c28a",
   "metadata": {
    "collapsed": false
   },
   "source": [
    "#splitting the dataset into training, validation and testing"
   ]
  },
  {
   "cell_type": "code",
   "execution_count": 10,
   "id": "d675039636eb5929",
   "metadata": {
    "ExecuteTime": {
     "end_time": "2023-11-04T00:29:31.384961Z",
     "start_time": "2023-11-04T00:29:31.165231Z"
    },
    "collapsed": false
   },
   "outputs": [],
   "source": [
    "from sklearn.model_selection import train_test_split\n",
    "\n",
    "X_train, X_test, y_train, y_test = train_test_split(X, y, test_size=0.30, train_size=0.70, random_state=True)\n",
    "X_validation, X_test, y_validation, y_test = train_test_split(X_test, y_test, test_size=0.50, train_size=0.50,\n",
    "                                                              random_state=True)"
   ]
  },
  {
   "cell_type": "markdown",
   "id": "cde719fc49a5951c",
   "metadata": {
    "collapsed": false
   },
   "source": [
    "#fitting the model"
   ]
  },
  {
   "cell_type": "code",
   "execution_count": 11,
   "id": "ff86a085b784f9a1",
   "metadata": {
    "ExecuteTime": {
     "end_time": "2023-11-04T00:29:31.965858Z",
     "start_time": "2023-11-04T00:29:31.385848Z"
    },
    "collapsed": false
   },
   "outputs": [
    {
     "name": "stdout",
     "output_type": "stream",
     "text": [
      "0.7892376681614349\n"
     ]
    }
   ],
   "source": [
    "from sklearn.neighbors import KNeighborsClassifier\n",
    "classifier = KNeighborsClassifier(n_neighbors=1)\n",
    "classifier.fit(X_train, y_train)\n",
    "ypred = classifier.predict(X_test)\n",
    "accuracy = classifier.score(X_test, y_test)\n",
    "print(accuracy)"
   ]
  },
  {
   "cell_type": "code",
   "execution_count": 12,
   "id": "2a0b1f549d5bfde4",
   "metadata": {
    "ExecuteTime": {
     "end_time": "2023-11-04T00:29:32.089051Z",
     "start_time": "2023-11-04T00:29:31.965515Z"
    },
    "collapsed": false
   },
   "outputs": [
    {
     "name": "stdout",
     "output_type": "stream",
     "text": [
      "0.7851445663010967\n"
     ]
    }
   ],
   "source": [
    "from sklearn.neighbors import KNeighborsClassifier\n",
    "classifier = KNeighborsClassifier(n_neighbors=1)\n",
    "classifier.fit(X_train, y_train)\n",
    "accuracy_validation= classifier.score(X_validation, y_validation)\n",
    "print(accuracy_validation)"
   ]
  },
  {
   "cell_type": "markdown",
   "id": "e8a36134840628d6",
   "metadata": {
    "collapsed": false
   },
   "source": [
    "#apply different values of k and choose the best one using cross validation"
   ]
  },
  {
   "cell_type": "code",
   "execution_count": null,
   "id": "ed63208d44323999",
   "metadata": {
    "ExecuteTime": {
     "start_time": "2023-11-04T00:29:32.086014Z"
    },
    "collapsed": false
   },
   "outputs": [],
   "source": [
    "from sklearn.model_selection import GridSearchCV\n",
    "KN = KNeighborsClassifier()\n",
    "k_range = list(range(1, 26,2))\n",
    "param_grid = dict(n_neighbors=k_range)\n",
    "grid=GridSearchCV(KN,param_grid,cv=10,scoring='accuracy',return_train_score=True)\n",
    "g=grid.fit(X_train,y_train)"
   ]
  },
  {
   "cell_type": "markdown",
   "id": "fe3f8a83b9a89da0",
   "metadata": {
    "collapsed": false
   },
   "source": [
    "#get the best value of k"
   ]
  },
  {
   "cell_type": "code",
   "execution_count": null,
   "id": "9187b719f847c32b",
   "metadata": {
    "collapsed": false
   },
   "outputs": [],
   "source": [
    "print(grid.best_params_)\n",
    "accuracy=grid.best_score_*100\n",
    "print(\"Accuracy for our training dataset with tuning is : {:.2f}%\".format(accuracy) )\n"
   ]
  },
  {
   "cell_type": "markdown",
   "id": "20f4709d37b668e1",
   "metadata": {
    "collapsed": false
   },
   "source": [
    "# apply the best value of k on the test dataset"
   ]
  },
  {
   "cell_type": "code",
   "execution_count": null,
   "id": "800b06f7ffbd0ea3",
   "metadata": {
    "collapsed": false
   },
   "outputs": [],
   "source": [
    "knn=KNeighborsClassifier(n_neighbors=grid.best_params_['n_neighbors'])\n",
    "knn.fit(X_train,y_train)\n",
    "y_test_pred=knn.predict(X_test)\n",
    "test_accuracy=knn.score(X_test,y_test)\n",
    "print(test_accuracy)"
   ]
  },
  {
   "cell_type": "markdown",
   "id": "6b04754ca07f19e2",
   "metadata": {
    "collapsed": false
   },
   "source": [
    "# apply the best value of k on the validation dataset"
   ]
  },
  {
   "cell_type": "code",
   "execution_count": null,
   "id": "deb0f9b5a37c56a5",
   "metadata": {
    "collapsed": false
   },
   "outputs": [],
   "source": [
    "knn=KNeighborsClassifier(n_neighbors=grid.best_params_['n_neighbors'])\n",
    "knn.fit(X_train,y_train)\n",
    "y_validation_pred=knn.predict(X_validation)\n",
    "test_accuracy=knn.score(X_validation,y_validation)\n",
    "print(test_accuracy)"
   ]
  },
  {
   "cell_type": "markdown",
   "id": "d745fafb87134287",
   "metadata": {
    "collapsed": false
   },
   "source": [
    "#plotting the confusion matrix and classification report"
   ]
  },
  {
   "cell_type": "code",
   "execution_count": null,
   "id": "5ac07f03498cc45c",
   "metadata": {
    "collapsed": false
   },
   "outputs": [],
   "source": [
    "from sklearn.metrics import confusion_matrix,classification_report\n",
    "from sklearn.metrics import ConfusionMatrixDisplay\n",
    "cm=confusion_matrix(y_test,y_test_pred)\n",
    "print(cm)\n",
    "print(classification_report(y_test,y_test_pred))\n",
    "disp = ConfusionMatrixDisplay(confusion_matrix=cm,display_labels=['g','h'])\n",
    "disp = disp.plot(cmap=plt.cm.Blues)"
   ]
  },
  {
   "cell_type": "markdown",
   "id": "9e4d42ededefb413",
   "metadata": {
    "collapsed": false
   },
   "source": [
    "#comparing the results of the model with and without tuning"
   ]
  },
  {
   "cell_type": "code",
   "execution_count": null,
   "id": "81d0489ddb9654ae",
   "metadata": {
    "collapsed": false
   },
   "outputs": [],
   "source": [
    "results = pd.DataFrame(g.cv_results_)\n",
    "needed_results=results[['param_n_neighbors','mean_train_score','mean_test_score']]\n",
    "needed_results"
   ]
  }
 ],
 "metadata": {
  "kernelspec": {
   "display_name": "Python 3 (ipykernel)",
   "language": "python",
   "name": "python3"
  },
  "language_info": {
   "codemirror_mode": {
    "name": "ipython",
    "version": 3
   },
   "file_extension": ".py",
   "mimetype": "text/x-python",
   "name": "python",
   "nbconvert_exporter": "python",
   "pygments_lexer": "ipython3",
   "version": "3.11.4"
  }
 },
 "nbformat": 4,
 "nbformat_minor": 5
}
