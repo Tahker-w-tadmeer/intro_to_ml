{
 "cells": [
  {
   "cell_type": "code",
   "execution_count": 1,
   "id": "initial_id",
   "metadata": {
    "collapsed": true,
    "jupyter": {
     "outputs_hidden": true
    },
    "ExecuteTime": {
     "end_time": "2023-11-13T09:44:55.720498Z",
     "start_time": "2023-11-13T09:44:55.102678Z"
    }
   },
   "outputs": [],
   "source": [
    "import pandas as pd\n",
    "import matplotlib.pyplot as plt\n"
   ]
  },
  {
   "cell_type": "markdown",
   "id": "c20b22febf4e1d7a",
   "metadata": {
    "collapsed": false
   },
   "source": [
    "# Importing the dataset"
   ]
  },
  {
   "cell_type": "code",
   "execution_count": 2,
   "id": "444a7ec63163a107",
   "metadata": {
    "collapsed": false,
    "ExecuteTime": {
     "end_time": "2023-11-13T09:44:55.743525Z",
     "start_time": "2023-11-13T09:44:55.721458Z"
    }
   },
   "outputs": [
    {
     "data": {
      "text/plain": "        fLength    fWidth   fSize   fConc  fConc1     fAsym   fM3Long  \\\n0       28.7967   16.0021  2.6449  0.3918  0.1982   27.7004   22.0110   \n1       31.6036   11.7235  2.5185  0.5303  0.3773   26.2722   23.8238   \n2      162.0520  136.0310  4.0612  0.0374  0.0187  116.7410  -64.8580   \n3       23.8172    9.5728  2.3385  0.6147  0.3922   27.2107   -6.4633   \n4       75.1362   30.9205  3.1611  0.3168  0.1832   -5.5277   28.5525   \n...         ...       ...     ...     ...     ...       ...       ...   \n19015   21.3846   10.9170  2.6161  0.5857  0.3934   15.2618   11.5245   \n19016   28.9452    6.7020  2.2672  0.5351  0.2784   37.0816   13.1853   \n19017   75.4455   47.5305  3.4483  0.1417  0.0549   -9.3561   41.0562   \n19018  120.5135   76.9018  3.9939  0.0944  0.0683    5.8043  -93.5224   \n19019  187.1814   53.0014  3.2093  0.2876  0.1539 -167.3125 -168.4558   \n\n       fM3Trans   fAlpha     fDist class  \n0       -8.2027  40.0920   81.8828     g  \n1       -9.9574   6.3609  205.2610     g  \n2      -45.2160  76.9600  256.7880     g  \n3       -7.1513  10.4490  116.7370     g  \n4       21.8393   4.6480  356.4620     g  \n...         ...      ...       ...   ...  \n19015    2.8766   2.4229  106.8258     h  \n19016   -2.9632  86.7975  247.4560     h  \n19017   -9.4662  30.2987  256.5166     h  \n19018  -63.8389  84.6874  408.3166     h  \n19019   31.4755  52.7310  272.3174     h  \n\n[19020 rows x 11 columns]",
      "text/html": "<div>\n<style scoped>\n    .dataframe tbody tr th:only-of-type {\n        vertical-align: middle;\n    }\n\n    .dataframe tbody tr th {\n        vertical-align: top;\n    }\n\n    .dataframe thead th {\n        text-align: right;\n    }\n</style>\n<table border=\"1\" class=\"dataframe\">\n  <thead>\n    <tr style=\"text-align: right;\">\n      <th></th>\n      <th>fLength</th>\n      <th>fWidth</th>\n      <th>fSize</th>\n      <th>fConc</th>\n      <th>fConc1</th>\n      <th>fAsym</th>\n      <th>fM3Long</th>\n      <th>fM3Trans</th>\n      <th>fAlpha</th>\n      <th>fDist</th>\n      <th>class</th>\n    </tr>\n  </thead>\n  <tbody>\n    <tr>\n      <th>0</th>\n      <td>28.7967</td>\n      <td>16.0021</td>\n      <td>2.6449</td>\n      <td>0.3918</td>\n      <td>0.1982</td>\n      <td>27.7004</td>\n      <td>22.0110</td>\n      <td>-8.2027</td>\n      <td>40.0920</td>\n      <td>81.8828</td>\n      <td>g</td>\n    </tr>\n    <tr>\n      <th>1</th>\n      <td>31.6036</td>\n      <td>11.7235</td>\n      <td>2.5185</td>\n      <td>0.5303</td>\n      <td>0.3773</td>\n      <td>26.2722</td>\n      <td>23.8238</td>\n      <td>-9.9574</td>\n      <td>6.3609</td>\n      <td>205.2610</td>\n      <td>g</td>\n    </tr>\n    <tr>\n      <th>2</th>\n      <td>162.0520</td>\n      <td>136.0310</td>\n      <td>4.0612</td>\n      <td>0.0374</td>\n      <td>0.0187</td>\n      <td>116.7410</td>\n      <td>-64.8580</td>\n      <td>-45.2160</td>\n      <td>76.9600</td>\n      <td>256.7880</td>\n      <td>g</td>\n    </tr>\n    <tr>\n      <th>3</th>\n      <td>23.8172</td>\n      <td>9.5728</td>\n      <td>2.3385</td>\n      <td>0.6147</td>\n      <td>0.3922</td>\n      <td>27.2107</td>\n      <td>-6.4633</td>\n      <td>-7.1513</td>\n      <td>10.4490</td>\n      <td>116.7370</td>\n      <td>g</td>\n    </tr>\n    <tr>\n      <th>4</th>\n      <td>75.1362</td>\n      <td>30.9205</td>\n      <td>3.1611</td>\n      <td>0.3168</td>\n      <td>0.1832</td>\n      <td>-5.5277</td>\n      <td>28.5525</td>\n      <td>21.8393</td>\n      <td>4.6480</td>\n      <td>356.4620</td>\n      <td>g</td>\n    </tr>\n    <tr>\n      <th>...</th>\n      <td>...</td>\n      <td>...</td>\n      <td>...</td>\n      <td>...</td>\n      <td>...</td>\n      <td>...</td>\n      <td>...</td>\n      <td>...</td>\n      <td>...</td>\n      <td>...</td>\n      <td>...</td>\n    </tr>\n    <tr>\n      <th>19015</th>\n      <td>21.3846</td>\n      <td>10.9170</td>\n      <td>2.6161</td>\n      <td>0.5857</td>\n      <td>0.3934</td>\n      <td>15.2618</td>\n      <td>11.5245</td>\n      <td>2.8766</td>\n      <td>2.4229</td>\n      <td>106.8258</td>\n      <td>h</td>\n    </tr>\n    <tr>\n      <th>19016</th>\n      <td>28.9452</td>\n      <td>6.7020</td>\n      <td>2.2672</td>\n      <td>0.5351</td>\n      <td>0.2784</td>\n      <td>37.0816</td>\n      <td>13.1853</td>\n      <td>-2.9632</td>\n      <td>86.7975</td>\n      <td>247.4560</td>\n      <td>h</td>\n    </tr>\n    <tr>\n      <th>19017</th>\n      <td>75.4455</td>\n      <td>47.5305</td>\n      <td>3.4483</td>\n      <td>0.1417</td>\n      <td>0.0549</td>\n      <td>-9.3561</td>\n      <td>41.0562</td>\n      <td>-9.4662</td>\n      <td>30.2987</td>\n      <td>256.5166</td>\n      <td>h</td>\n    </tr>\n    <tr>\n      <th>19018</th>\n      <td>120.5135</td>\n      <td>76.9018</td>\n      <td>3.9939</td>\n      <td>0.0944</td>\n      <td>0.0683</td>\n      <td>5.8043</td>\n      <td>-93.5224</td>\n      <td>-63.8389</td>\n      <td>84.6874</td>\n      <td>408.3166</td>\n      <td>h</td>\n    </tr>\n    <tr>\n      <th>19019</th>\n      <td>187.1814</td>\n      <td>53.0014</td>\n      <td>3.2093</td>\n      <td>0.2876</td>\n      <td>0.1539</td>\n      <td>-167.3125</td>\n      <td>-168.4558</td>\n      <td>31.4755</td>\n      <td>52.7310</td>\n      <td>272.3174</td>\n      <td>h</td>\n    </tr>\n  </tbody>\n</table>\n<p>19020 rows × 11 columns</p>\n</div>"
     },
     "execution_count": 2,
     "metadata": {},
     "output_type": "execute_result"
    }
   ],
   "source": [
    "column_name = ['fLength', 'fWidth', 'fSize', 'fConc', 'fConc1', 'fAsym', 'fM3Long', 'fM3Trans', 'fAlpha', 'fDist',\n",
    "               'class']\n",
    "dataset = pd.read_csv('magic04.data', names=column_name)\n",
    "dataset"
   ]
  },
  {
   "cell_type": "markdown",
   "id": "248e40b12092fb65",
   "metadata": {
    "collapsed": false
   },
   "source": [
    "# Exploratory Data Analysis"
   ]
  },
  {
   "cell_type": "code",
   "execution_count": 3,
   "id": "6c81e1651fc37c2f",
   "metadata": {
    "collapsed": false,
    "ExecuteTime": {
     "end_time": "2023-11-13T09:44:55.748395Z",
     "start_time": "2023-11-13T09:44:55.744224Z"
    }
   },
   "outputs": [
    {
     "data": {
      "text/plain": "class\ng    12332\nh     6688\nName: count, dtype: int64"
     },
     "execution_count": 3,
     "metadata": {},
     "output_type": "execute_result"
    }
   ],
   "source": [
    "dataset['class'].value_counts()"
   ]
  },
  {
   "cell_type": "markdown",
   "id": "4880afb98331a0e6",
   "metadata": {
    "collapsed": false
   },
   "source": [
    "# balancing the dataset"
   ]
  },
  {
   "cell_type": "code",
   "execution_count": 4,
   "id": "70087533be96da3d",
   "metadata": {
    "collapsed": false,
    "ExecuteTime": {
     "end_time": "2023-11-13T09:44:55.759841Z",
     "start_time": "2023-11-13T09:44:55.746790Z"
    }
   },
   "outputs": [
    {
     "data": {
      "text/plain": "             fLength   fWidth   fSize   fConc  fConc1     fAsym   fM3Long  \\\nclass                                                                       \ng     0      30.7580  18.8554  2.7600  0.3162  0.1590  -44.0666  -20.7419   \n      1      39.0881  27.0886  2.9393  0.2944  0.1639   18.6492  -26.6065   \n      2      91.2979  51.3509  3.9785  0.1350  0.0760  -89.8026   39.1916   \n      3      55.4407  23.4394  2.8106  0.2939  0.1601   59.6760   51.0740   \n      4      71.4461  19.1675  3.0430  0.2255  0.1164   59.4336   63.4758   \n...              ...      ...     ...     ...     ...       ...       ...   \nh     6683  240.9400  54.7317  3.5379  0.0977  0.0500 -174.7560 -252.5760   \n      6684   29.6989  10.8918  2.2122  0.5565  0.2925   -0.5062   14.8697   \n      6685  110.0000  28.8437  3.2674  0.2431  0.1510  -79.1003   36.8558   \n      6686  126.4423  67.4753  3.9310  0.0884  0.0557   14.1680   61.4354   \n      6687   17.3544   7.4476  2.1629  0.7904  0.5533   -0.8759   -2.5983   \n\n            fM3Trans   fAlpha     fDist class  \nclass                                          \ng     0     -17.1130   0.5636  110.6370     g  \n      1      23.9323  43.0747   76.7265     g  \n      2      26.0257   2.0070  391.2630     g  \n      3       8.5967   5.0350  256.8960     g  \n      4       9.6581   6.2520  197.9280     g  \n...              ...      ...       ...   ...  \nh     6683  -42.4076   1.0760  210.0680     h  \n      6684   -5.8006  88.1524  225.8803     h  \n      6685  -18.6221   7.3746  322.9150     h  \n      6686   40.3912  67.0214  318.6719     h  \n      6687    4.5218  42.2314  170.7840     h  \n\n[13376 rows x 11 columns]",
      "text/html": "<div>\n<style scoped>\n    .dataframe tbody tr th:only-of-type {\n        vertical-align: middle;\n    }\n\n    .dataframe tbody tr th {\n        vertical-align: top;\n    }\n\n    .dataframe thead th {\n        text-align: right;\n    }\n</style>\n<table border=\"1\" class=\"dataframe\">\n  <thead>\n    <tr style=\"text-align: right;\">\n      <th></th>\n      <th></th>\n      <th>fLength</th>\n      <th>fWidth</th>\n      <th>fSize</th>\n      <th>fConc</th>\n      <th>fConc1</th>\n      <th>fAsym</th>\n      <th>fM3Long</th>\n      <th>fM3Trans</th>\n      <th>fAlpha</th>\n      <th>fDist</th>\n      <th>class</th>\n    </tr>\n    <tr>\n      <th>class</th>\n      <th></th>\n      <th></th>\n      <th></th>\n      <th></th>\n      <th></th>\n      <th></th>\n      <th></th>\n      <th></th>\n      <th></th>\n      <th></th>\n      <th></th>\n      <th></th>\n    </tr>\n  </thead>\n  <tbody>\n    <tr>\n      <th rowspan=\"5\" valign=\"top\">g</th>\n      <th>0</th>\n      <td>30.7580</td>\n      <td>18.8554</td>\n      <td>2.7600</td>\n      <td>0.3162</td>\n      <td>0.1590</td>\n      <td>-44.0666</td>\n      <td>-20.7419</td>\n      <td>-17.1130</td>\n      <td>0.5636</td>\n      <td>110.6370</td>\n      <td>g</td>\n    </tr>\n    <tr>\n      <th>1</th>\n      <td>39.0881</td>\n      <td>27.0886</td>\n      <td>2.9393</td>\n      <td>0.2944</td>\n      <td>0.1639</td>\n      <td>18.6492</td>\n      <td>-26.6065</td>\n      <td>23.9323</td>\n      <td>43.0747</td>\n      <td>76.7265</td>\n      <td>g</td>\n    </tr>\n    <tr>\n      <th>2</th>\n      <td>91.2979</td>\n      <td>51.3509</td>\n      <td>3.9785</td>\n      <td>0.1350</td>\n      <td>0.0760</td>\n      <td>-89.8026</td>\n      <td>39.1916</td>\n      <td>26.0257</td>\n      <td>2.0070</td>\n      <td>391.2630</td>\n      <td>g</td>\n    </tr>\n    <tr>\n      <th>3</th>\n      <td>55.4407</td>\n      <td>23.4394</td>\n      <td>2.8106</td>\n      <td>0.2939</td>\n      <td>0.1601</td>\n      <td>59.6760</td>\n      <td>51.0740</td>\n      <td>8.5967</td>\n      <td>5.0350</td>\n      <td>256.8960</td>\n      <td>g</td>\n    </tr>\n    <tr>\n      <th>4</th>\n      <td>71.4461</td>\n      <td>19.1675</td>\n      <td>3.0430</td>\n      <td>0.2255</td>\n      <td>0.1164</td>\n      <td>59.4336</td>\n      <td>63.4758</td>\n      <td>9.6581</td>\n      <td>6.2520</td>\n      <td>197.9280</td>\n      <td>g</td>\n    </tr>\n    <tr>\n      <th>...</th>\n      <th>...</th>\n      <td>...</td>\n      <td>...</td>\n      <td>...</td>\n      <td>...</td>\n      <td>...</td>\n      <td>...</td>\n      <td>...</td>\n      <td>...</td>\n      <td>...</td>\n      <td>...</td>\n      <td>...</td>\n    </tr>\n    <tr>\n      <th rowspan=\"5\" valign=\"top\">h</th>\n      <th>6683</th>\n      <td>240.9400</td>\n      <td>54.7317</td>\n      <td>3.5379</td>\n      <td>0.0977</td>\n      <td>0.0500</td>\n      <td>-174.7560</td>\n      <td>-252.5760</td>\n      <td>-42.4076</td>\n      <td>1.0760</td>\n      <td>210.0680</td>\n      <td>h</td>\n    </tr>\n    <tr>\n      <th>6684</th>\n      <td>29.6989</td>\n      <td>10.8918</td>\n      <td>2.2122</td>\n      <td>0.5565</td>\n      <td>0.2925</td>\n      <td>-0.5062</td>\n      <td>14.8697</td>\n      <td>-5.8006</td>\n      <td>88.1524</td>\n      <td>225.8803</td>\n      <td>h</td>\n    </tr>\n    <tr>\n      <th>6685</th>\n      <td>110.0000</td>\n      <td>28.8437</td>\n      <td>3.2674</td>\n      <td>0.2431</td>\n      <td>0.1510</td>\n      <td>-79.1003</td>\n      <td>36.8558</td>\n      <td>-18.6221</td>\n      <td>7.3746</td>\n      <td>322.9150</td>\n      <td>h</td>\n    </tr>\n    <tr>\n      <th>6686</th>\n      <td>126.4423</td>\n      <td>67.4753</td>\n      <td>3.9310</td>\n      <td>0.0884</td>\n      <td>0.0557</td>\n      <td>14.1680</td>\n      <td>61.4354</td>\n      <td>40.3912</td>\n      <td>67.0214</td>\n      <td>318.6719</td>\n      <td>h</td>\n    </tr>\n    <tr>\n      <th>6687</th>\n      <td>17.3544</td>\n      <td>7.4476</td>\n      <td>2.1629</td>\n      <td>0.7904</td>\n      <td>0.5533</td>\n      <td>-0.8759</td>\n      <td>-2.5983</td>\n      <td>4.5218</td>\n      <td>42.2314</td>\n      <td>170.7840</td>\n      <td>h</td>\n    </tr>\n  </tbody>\n</table>\n<p>13376 rows × 11 columns</p>\n</div>"
     },
     "execution_count": 4,
     "metadata": {},
     "output_type": "execute_result"
    }
   ],
   "source": [
    "g = dataset.groupby('class')\n",
    "g = g.apply(lambda x: x.sample(g.size().min()).reset_index(drop=True))\n",
    "g"
   ]
  },
  {
   "cell_type": "markdown",
   "id": "47b15ef46cc9cb43",
   "metadata": {
    "collapsed": false
   },
   "source": [
    "# splitting the dataset into y and x"
   ]
  },
  {
   "cell_type": "code",
   "execution_count": 5,
   "id": "f7598c248dca952a",
   "metadata": {
    "collapsed": false,
    "ExecuteTime": {
     "end_time": "2023-11-13T09:44:55.760485Z",
     "start_time": "2023-11-13T09:44:55.758868Z"
    }
   },
   "outputs": [],
   "source": [
    "X = g.iloc[:, :-1].values\n",
    "y = g.iloc[:, -1].values"
   ]
  },
  {
   "cell_type": "code",
   "execution_count": 6,
   "id": "35d8cea9608523ae",
   "metadata": {
    "collapsed": false,
    "ExecuteTime": {
     "end_time": "2023-11-13T09:44:55.763894Z",
     "start_time": "2023-11-13T09:44:55.761268Z"
    }
   },
   "outputs": [
    {
     "data": {
      "text/plain": "array([[ 30.758 ,  18.8554,   2.76  , ..., -17.113 ,   0.5636, 110.637 ],\n       [ 39.0881,  27.0886,   2.9393, ...,  23.9323,  43.0747,  76.7265],\n       [ 91.2979,  51.3509,   3.9785, ...,  26.0257,   2.007 , 391.263 ],\n       ...,\n       [110.    ,  28.8437,   3.2674, ..., -18.6221,   7.3746, 322.915 ],\n       [126.4423,  67.4753,   3.931 , ...,  40.3912,  67.0214, 318.6719],\n       [ 17.3544,   7.4476,   2.1629, ...,   4.5218,  42.2314, 170.784 ]])"
     },
     "execution_count": 6,
     "metadata": {},
     "output_type": "execute_result"
    }
   ],
   "source": [
    "X"
   ]
  },
  {
   "cell_type": "code",
   "execution_count": 7,
   "id": "59d7885ba7f12455",
   "metadata": {
    "collapsed": false,
    "ExecuteTime": {
     "end_time": "2023-11-13T09:44:55.775454Z",
     "start_time": "2023-11-13T09:44:55.763965Z"
    }
   },
   "outputs": [
    {
     "data": {
      "text/plain": "array(['g', 'g', 'g', ..., 'h', 'h', 'h'], dtype=object)"
     },
     "execution_count": 7,
     "metadata": {},
     "output_type": "execute_result"
    }
   ],
   "source": [
    "y"
   ]
  },
  {
   "cell_type": "markdown",
   "id": "94f42784d017ba5d",
   "metadata": {
    "collapsed": false
   },
   "source": [
    "# Encoding categorical data"
   ]
  },
  {
   "cell_type": "code",
   "execution_count": 8,
   "id": "b5cc2fceffe40a9c",
   "metadata": {
    "collapsed": false,
    "ExecuteTime": {
     "end_time": "2023-11-13T09:44:56.147148Z",
     "start_time": "2023-11-13T09:44:55.766220Z"
    }
   },
   "outputs": [
    {
     "data": {
      "text/plain": "array([0, 0, 0, ..., 1, 1, 1])"
     },
     "execution_count": 8,
     "metadata": {},
     "output_type": "execute_result"
    }
   ],
   "source": [
    "from sklearn.preprocessing import LabelEncoder\n",
    "e = LabelEncoder()\n",
    "y = e.fit_transform(y)\n",
    "y"
   ]
  },
  {
   "cell_type": "markdown",
   "id": "769f3bfce654a479",
   "metadata": {
    "collapsed": false
   },
   "source": [
    "# normalizing the dataset"
   ]
  },
  {
   "cell_type": "code",
   "execution_count": 9,
   "id": "cd960b65d44bd728",
   "metadata": {
    "collapsed": false,
    "ExecuteTime": {
     "end_time": "2023-11-13T09:44:56.148343Z",
     "start_time": "2023-11-13T09:44:56.145457Z"
    }
   },
   "outputs": [
    {
     "data": {
      "text/plain": "array([[-0.56583109, -0.23071073, -0.17157511, ..., -0.74674031,\n        -1.14389452, -1.10254146],\n       [-0.38872381,  0.16392272,  0.20537847, ...,  1.02414029,\n         0.42906076, -1.54402142],\n       [ 0.72131516,  1.3268624 ,  2.3901535 , ...,  1.11445908,\n        -1.0904872 ,  2.55092141],\n       ...,\n       [ 1.11894281,  0.24804811,  0.89516359, ..., -0.81184974,\n        -0.89188037,  1.66110051],\n       [ 1.46852457,  2.09973656,  2.29029129, ...,  1.73425197,\n         1.31511377,  1.6058597 ],\n       [-0.85080668, -0.77750898, -1.42689571, ...,  0.18668319,\n         0.39785778, -0.31948917]])"
     },
     "execution_count": 9,
     "metadata": {},
     "output_type": "execute_result"
    }
   ],
   "source": [
    "from sklearn.preprocessing import StandardScaler\n",
    "sc=StandardScaler()\n",
    "X=sc.fit_transform(X)\n",
    "X"
   ]
  },
  {
   "cell_type": "markdown",
   "id": "fadc2cba4b01c28a",
   "metadata": {
    "collapsed": false
   },
   "source": [
    "# splitting the dataset into training, validation and testing"
   ]
  },
  {
   "cell_type": "code",
   "execution_count": 10,
   "id": "d675039636eb5929",
   "metadata": {
    "collapsed": false,
    "ExecuteTime": {
     "end_time": "2023-11-13T09:44:56.184912Z",
     "start_time": "2023-11-13T09:44:56.149198Z"
    }
   },
   "outputs": [],
   "source": [
    "from sklearn.model_selection import train_test_split\n",
    "\n",
    "X_train, X_test, y_train, y_test = train_test_split(X, y, test_size=0.30, train_size=0.70, random_state=True)\n",
    "X_validation, X_test, y_validation, y_test = train_test_split(X_test, y_test, test_size=0.50, train_size=0.50,\n",
    "                                                              random_state=True)"
   ]
  },
  {
   "cell_type": "markdown",
   "id": "cde719fc49a5951c",
   "metadata": {
    "collapsed": false
   },
   "source": [
    "# fitting the model"
   ]
  },
  {
   "cell_type": "code",
   "execution_count": 11,
   "id": "ff86a085b784f9a1",
   "metadata": {
    "collapsed": false,
    "ExecuteTime": {
     "end_time": "2023-11-13T09:44:56.425292Z",
     "start_time": "2023-11-13T09:44:56.185881Z"
    }
   },
   "outputs": [
    {
     "name": "stdout",
     "output_type": "stream",
     "text": [
      "0.7972097658196313\n"
     ]
    }
   ],
   "source": [
    "from sklearn.neighbors import KNeighborsClassifier\n",
    "classifier = KNeighborsClassifier(n_neighbors=1)\n",
    "classifier.fit(X_train, y_train)\n",
    "ypred = classifier.predict(X_test)\n",
    "accuracy = classifier.score(X_test, y_test)\n",
    "print(accuracy)"
   ]
  },
  {
   "cell_type": "code",
   "execution_count": 12,
   "id": "2a0b1f549d5bfde4",
   "metadata": {
    "collapsed": false,
    "ExecuteTime": {
     "end_time": "2023-11-13T09:44:56.473893Z",
     "start_time": "2023-11-13T09:44:56.422929Z"
    }
   },
   "outputs": [
    {
     "name": "stdout",
     "output_type": "stream",
     "text": [
      "0.7801595214356929\n"
     ]
    }
   ],
   "source": [
    "from sklearn.neighbors import KNeighborsClassifier\n",
    "classifier = KNeighborsClassifier(n_neighbors=1)\n",
    "classifier.fit(X_train, y_train)\n",
    "accuracy_validation= classifier.score(X_test, y_test)\n",
    "print(accuracy_validation)"
   ]
  },
  {
   "cell_type": "markdown",
   "id": "e8a36134840628d6",
   "metadata": {
    "collapsed": false
   },
   "source": [
    "# apply different values of k and choose the best one using cross validation"
   ]
  },
  {
   "cell_type": "code",
   "execution_count": 13,
   "id": "ed63208d44323999",
   "metadata": {
    "collapsed": false,
    "ExecuteTime": {
     "end_time": "2023-11-13T09:45:34.127188Z",
     "start_time": "2023-11-13T09:44:56.474033Z"
    }
   },
   "outputs": [],
   "source": [
    "from sklearn.model_selection import GridSearchCV\n",
    "KN = KNeighborsClassifier()\n",
    "k_range = list(range(1, 26,2))\n",
    "param_grid = dict(n_neighbors=k_range)\n",
    "grid=GridSearchCV(KN,param_grid,cv=10,scoring='accuracy',return_train_score=True)\n",
    "g=grid.fit(X_train,y_train)"
   ]
  },
  {
   "cell_type": "markdown",
   "id": "fe3f8a83b9a89da0",
   "metadata": {
    "collapsed": false
   },
   "source": [
    "#get the best value of k"
   ]
  },
  {
   "cell_type": "code",
   "execution_count": 14,
   "id": "9187b719f847c32b",
   "metadata": {
    "collapsed": false,
    "ExecuteTime": {
     "end_time": "2023-11-13T09:45:34.133241Z",
     "start_time": "2023-11-13T09:45:34.129364Z"
    }
   },
   "outputs": [
    {
     "name": "stdout",
     "output_type": "stream",
     "text": [
      "{'n_neighbors': 13}\n",
      "Accuracy for our training dataset with tuning is : 80.80%\n"
     ]
    }
   ],
   "source": [
    "print(grid.best_params_)\n",
    "accuracy=grid.best_score_*100\n",
    "print(\"Accuracy for our training dataset with tuning is : {:.2f}%\".format(accuracy) )\n"
   ]
  },
  {
   "cell_type": "markdown",
   "id": "20f4709d37b668e1",
   "metadata": {
    "collapsed": false
   },
   "source": [
    "# apply the best value of k on the test dataset"
   ]
  },
  {
   "cell_type": "code",
   "execution_count": 15,
   "id": "800b06f7ffbd0ea3",
   "metadata": {
    "collapsed": false,
    "ExecuteTime": {
     "end_time": "2023-11-13T09:45:34.277515Z",
     "start_time": "2023-11-13T09:45:34.131413Z"
    }
   },
   "outputs": [
    {
     "name": "stdout",
     "output_type": "stream",
     "text": [
      "0.8126557050323866\n"
     ]
    }
   ],
   "source": [
    "knn=KNeighborsClassifier(n_neighbors=grid.best_params_['n_neighbors'])\n",
    "knn.fit(X_train,y_train)\n",
    "y_test_pred=knn.predict(X_test)\n",
    "test_accuracy=knn.score(X_test,y_test)\n",
    "print(test_accuracy)"
   ]
  },
  {
   "cell_type": "markdown",
   "id": "6b04754ca07f19e2",
   "metadata": {
    "collapsed": false
   },
   "source": [
    "# apply the best value of k on the validation dataset"
   ]
  },
  {
   "cell_type": "code",
   "execution_count": 16,
   "id": "deb0f9b5a37c56a5",
   "metadata": {
    "collapsed": false,
    "ExecuteTime": {
     "end_time": "2023-11-13T09:45:34.420459Z",
     "start_time": "2023-11-13T09:45:34.276651Z"
    }
   },
   "outputs": [
    {
     "name": "stdout",
     "output_type": "stream",
     "text": [
      "0.8060817547357926\n"
     ]
    }
   ],
   "source": [
    "knn=KNeighborsClassifier(n_neighbors=grid.best_params_['n_neighbors'])\n",
    "knn.fit(X_train,y_train)\n",
    "y_validation_pred=knn.predict(X_validation)\n",
    "test_accuracy=knn.score(X_validation,y_validation)\n",
    "print(test_accuracy)"
   ]
  },
  {
   "cell_type": "markdown",
   "id": "d745fafb87134287",
   "metadata": {
    "collapsed": false
   },
   "source": [
    "# plotting the confusion matrix and classification report"
   ]
  },
  {
   "cell_type": "code",
   "execution_count": 17,
   "id": "5ac07f03498cc45c",
   "metadata": {
    "collapsed": false,
    "ExecuteTime": {
     "end_time": "2023-11-13T09:45:34.590360Z",
     "start_time": "2023-11-13T09:45:34.420107Z"
    }
   },
   "outputs": [
    {
     "name": "stdout",
     "output_type": "stream",
     "text": [
      "[[855 121]\n",
      " [255 776]]\n",
      "              precision    recall  f1-score   support\n",
      "\n",
      "           0       0.77      0.88      0.82       976\n",
      "           1       0.87      0.75      0.80      1031\n",
      "\n",
      "    accuracy                           0.81      2007\n",
      "   macro avg       0.82      0.81      0.81      2007\n",
      "weighted avg       0.82      0.81      0.81      2007\n"
     ]
    },
    {
     "data": {
      "text/plain": "<Figure size 640x480 with 2 Axes>",
      "image/png": "[encoded data removed]"
     },
     "metadata": {},
     "output_type": "display_data"
    }
   ],
   "source": [
    "from sklearn.metrics import confusion_matrix,classification_report\n",
    "from sklearn.metrics import ConfusionMatrixDisplay\n",
    "cm=confusion_matrix(y_test,y_test_pred)\n",
    "print(cm)\n",
    "print(classification_report(y_test,y_test_pred))\n",
    "disp = ConfusionMatrixDisplay(confusion_matrix=cm,display_labels=['g','h'])\n",
    "disp = disp.plot(cmap=plt.cm.Blues)"
   ]
  },
  {
   "cell_type": "markdown",
   "id": "9e4d42ededefb413",
   "metadata": {
    "collapsed": false
   },
   "source": [
    "# comparing the results of the model with and without tuning"
   ]
  },
  {
   "cell_type": "code",
   "execution_count": 18,
   "id": "81d0489ddb9654ae",
   "metadata": {
    "collapsed": false,
    "ExecuteTime": {
     "end_time": "2023-11-13T09:45:34.601078Z",
     "start_time": "2023-11-13T09:45:34.596164Z"
    }
   },
   "outputs": [
    {
     "data": {
      "text/plain": "   param_n_neighbors  mean_train_score  mean_test_score\n0                  1          1.000000         0.781587\n1                  3          0.890527         0.796861\n2                  5          0.862034         0.804123\n3                  7          0.851270         0.806686\n4                  9          0.843497         0.806793\n5                 11          0.836626         0.806261\n6                 13          0.832722         0.807968\n7                 15          0.829281         0.805833\n8                 17          0.826777         0.805832\n9                 19          0.825210         0.805404\n10                21          0.823098         0.803696\n11                23          0.821294         0.803375\n12                25          0.819550         0.801987",
      "text/html": "<div>\n<style scoped>\n    .dataframe tbody tr th:only-of-type {\n        vertical-align: middle;\n    }\n\n    .dataframe tbody tr th {\n        vertical-align: top;\n    }\n\n    .dataframe thead th {\n        text-align: right;\n    }\n</style>\n<table border=\"1\" class=\"dataframe\">\n  <thead>\n    <tr style=\"text-align: right;\">\n      <th></th>\n      <th>param_n_neighbors</th>\n      <th>mean_train_score</th>\n      <th>mean_test_score</th>\n    </tr>\n  </thead>\n  <tbody>\n    <tr>\n      <th>0</th>\n      <td>1</td>\n      <td>1.000000</td>\n      <td>0.781587</td>\n    </tr>\n    <tr>\n      <th>1</th>\n      <td>3</td>\n      <td>0.890527</td>\n      <td>0.796861</td>\n    </tr>\n    <tr>\n      <th>2</th>\n      <td>5</td>\n      <td>0.862034</td>\n      <td>0.804123</td>\n    </tr>\n    <tr>\n      <th>3</th>\n      <td>7</td>\n      <td>0.851270</td>\n      <td>0.806686</td>\n    </tr>\n    <tr>\n      <th>4</th>\n      <td>9</td>\n      <td>0.843497</td>\n      <td>0.806793</td>\n    </tr>\n    <tr>\n      <th>5</th>\n      <td>11</td>\n      <td>0.836626</td>\n      <td>0.806261</td>\n    </tr>\n    <tr>\n      <th>6</th>\n      <td>13</td>\n      <td>0.832722</td>\n      <td>0.807968</td>\n    </tr>\n    <tr>\n      <th>7</th>\n      <td>15</td>\n      <td>0.829281</td>\n      <td>0.805833</td>\n    </tr>\n    <tr>\n      <th>8</th>\n      <td>17</td>\n      <td>0.826777</td>\n      <td>0.805832</td>\n    </tr>\n    <tr>\n      <th>9</th>\n      <td>19</td>\n      <td>0.825210</td>\n      <td>0.805404</td>\n    </tr>\n    <tr>\n      <th>10</th>\n      <td>21</td>\n      <td>0.823098</td>\n      <td>0.803696</td>\n    </tr>\n    <tr>\n      <th>11</th>\n      <td>23</td>\n      <td>0.821294</td>\n      <td>0.803375</td>\n    </tr>\n    <tr>\n      <th>12</th>\n      <td>25</td>\n      <td>0.819550</td>\n      <td>0.801987</td>\n    </tr>\n  </tbody>\n</table>\n</div>"
     },
     "execution_count": 18,
     "metadata": {},
     "output_type": "execute_result"
    }
   ],
   "source": [
    "results = pd.DataFrame(g.cv_results_)\n",
    "needed_results=results[['param_n_neighbors','mean_train_score','mean_test_score']]\n",
    "needed_results"
   ]
  }
 ],
 "metadata": {
  "kernelspec": {
   "display_name": "Python 3 (ipykernel)",
   "language": "python",
   "name": "python3"
  },
  "language_info": {
   "codemirror_mode": {
    "name": "ipython",
    "version": 3
   },
   "file_extension": ".py",
   "mimetype": "text/x-python",
   "name": "python",
   "nbconvert_exporter": "python",
   "pygments_lexer": "ipython3",
   "version": "3.11.4"
  }
 },
 "nbformat": 4,
 "nbformat_minor": 5
}
