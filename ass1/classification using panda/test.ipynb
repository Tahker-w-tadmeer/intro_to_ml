{
 "cells": [
  {
   "cell_type": "code",
   "execution_count": 196,
   "id": "initial_id",
   "metadata": {
    "collapsed": true,
    "ExecuteTime": {
     "end_time": "2023-11-02T00:29:02.410347Z",
     "start_time": "2023-11-02T00:29:02.364903Z"
    }
   },
   "outputs": [],
   "source": [
    "import pandas as pd\n",
    "import matplotlib.pyplot as plt"
   ]
  },
  {
   "cell_type": "code",
   "execution_count": 197,
   "outputs": [
    {
     "data": {
      "text/plain": "       Median_House_Value  Median_Income  Median_Age  Tot_Rooms  Tot_Bedrooms  \\\n0                452600.0         8.3252          41        880           129   \n1                358500.0         8.3014          21       7099          1106   \n2                352100.0         7.2574          52       1467           190   \n3                341300.0         5.6431          52       1274           235   \n4                342200.0         3.8462          52       1627           280   \n...                   ...            ...         ...        ...           ...   \n20635             78100.0         1.5603          25       1665           374   \n20636             77100.0         2.5568          18        697           150   \n20637             92300.0         1.7000          17       2254           485   \n20638             84700.0         1.8672          18       1860           409   \n20639             89400.0         2.3886          16       2785           616   \n\n       Population  Households  Latitude  Longitude  Distance_to_coast  \\\n0             322         126     37.88    -122.23        9263.040773   \n1            2401        1138     37.86    -122.22       10225.733072   \n2             496         177     37.85    -122.24        8259.085109   \n3             558         219     37.85    -122.25        7768.086571   \n4             565         259     37.85    -122.25        7768.086571   \n...           ...         ...       ...        ...                ...   \n20635         845         330     39.48    -121.09      162031.481121   \n20636         356         114     39.49    -121.21      160445.433537   \n20637        1007         433     39.43    -121.22      153754.341182   \n20638         741         349     39.43    -121.32      152005.022239   \n20639        1387         530     39.37    -121.24      146866.196892   \n\n       Distance_to_LA  Distance_to_SanDiego  Distance_to_SanJose  \\\n0       556529.158342         735501.806984         67432.517001   \n1       554279.850069         733236.884360         65049.908574   \n2       554610.717069         733525.682937         64867.289833   \n3       555194.266086         734095.290744         65287.138412   \n4       555194.266086         734095.290744         65287.138412   \n...               ...                   ...                  ...   \n20635   654530.186299         830631.543047        248510.058162   \n20636   659747.068444         836245.915229        246849.888948   \n20637   654042.214020         830699.573163        240172.220489   \n20638   657698.007703         834672.461887        238193.865909   \n20639   648723.337126         825569.179028        233282.769063   \n\n       Distance_to_SanFrancisco  \n0                  21250.213767  \n1                  20880.600400  \n2                  18811.487450  \n3                  18031.047568  \n4                  18031.047568  \n...                         ...  \n20635             222619.890417  \n20636             218314.424634  \n20637             212097.936232  \n20638             207923.199166  \n20639             205473.376575  \n\n[20640 rows x 14 columns]",
      "text/html": "<div>\n<style scoped>\n    .dataframe tbody tr th:only-of-type {\n        vertical-align: middle;\n    }\n\n    .dataframe tbody tr th {\n        vertical-align: top;\n    }\n\n    .dataframe thead th {\n        text-align: right;\n    }\n</style>\n<table border=\"1\" class=\"dataframe\">\n  <thead>\n    <tr style=\"text-align: right;\">\n      <th></th>\n      <th>Median_House_Value</th>\n      <th>Median_Income</th>\n      <th>Median_Age</th>\n      <th>Tot_Rooms</th>\n      <th>Tot_Bedrooms</th>\n      <th>Population</th>\n      <th>Households</th>\n      <th>Latitude</th>\n      <th>Longitude</th>\n      <th>Distance_to_coast</th>\n      <th>Distance_to_LA</th>\n      <th>Distance_to_SanDiego</th>\n      <th>Distance_to_SanJose</th>\n      <th>Distance_to_SanFrancisco</th>\n    </tr>\n  </thead>\n  <tbody>\n    <tr>\n      <th>0</th>\n      <td>452600.0</td>\n      <td>8.3252</td>\n      <td>41</td>\n      <td>880</td>\n      <td>129</td>\n      <td>322</td>\n      <td>126</td>\n      <td>37.88</td>\n      <td>-122.23</td>\n      <td>9263.040773</td>\n      <td>556529.158342</td>\n      <td>735501.806984</td>\n      <td>67432.517001</td>\n      <td>21250.213767</td>\n    </tr>\n    <tr>\n      <th>1</th>\n      <td>358500.0</td>\n      <td>8.3014</td>\n      <td>21</td>\n      <td>7099</td>\n      <td>1106</td>\n      <td>2401</td>\n      <td>1138</td>\n      <td>37.86</td>\n      <td>-122.22</td>\n      <td>10225.733072</td>\n      <td>554279.850069</td>\n      <td>733236.884360</td>\n      <td>65049.908574</td>\n      <td>20880.600400</td>\n    </tr>\n    <tr>\n      <th>2</th>\n      <td>352100.0</td>\n      <td>7.2574</td>\n      <td>52</td>\n      <td>1467</td>\n      <td>190</td>\n      <td>496</td>\n      <td>177</td>\n      <td>37.85</td>\n      <td>-122.24</td>\n      <td>8259.085109</td>\n      <td>554610.717069</td>\n      <td>733525.682937</td>\n      <td>64867.289833</td>\n      <td>18811.487450</td>\n    </tr>\n    <tr>\n      <th>3</th>\n      <td>341300.0</td>\n      <td>5.6431</td>\n      <td>52</td>\n      <td>1274</td>\n      <td>235</td>\n      <td>558</td>\n      <td>219</td>\n      <td>37.85</td>\n      <td>-122.25</td>\n      <td>7768.086571</td>\n      <td>555194.266086</td>\n      <td>734095.290744</td>\n      <td>65287.138412</td>\n      <td>18031.047568</td>\n    </tr>\n    <tr>\n      <th>4</th>\n      <td>342200.0</td>\n      <td>3.8462</td>\n      <td>52</td>\n      <td>1627</td>\n      <td>280</td>\n      <td>565</td>\n      <td>259</td>\n      <td>37.85</td>\n      <td>-122.25</td>\n      <td>7768.086571</td>\n      <td>555194.266086</td>\n      <td>734095.290744</td>\n      <td>65287.138412</td>\n      <td>18031.047568</td>\n    </tr>\n    <tr>\n      <th>...</th>\n      <td>...</td>\n      <td>...</td>\n      <td>...</td>\n      <td>...</td>\n      <td>...</td>\n      <td>...</td>\n      <td>...</td>\n      <td>...</td>\n      <td>...</td>\n      <td>...</td>\n      <td>...</td>\n      <td>...</td>\n      <td>...</td>\n      <td>...</td>\n    </tr>\n    <tr>\n      <th>20635</th>\n      <td>78100.0</td>\n      <td>1.5603</td>\n      <td>25</td>\n      <td>1665</td>\n      <td>374</td>\n      <td>845</td>\n      <td>330</td>\n      <td>39.48</td>\n      <td>-121.09</td>\n      <td>162031.481121</td>\n      <td>654530.186299</td>\n      <td>830631.543047</td>\n      <td>248510.058162</td>\n      <td>222619.890417</td>\n    </tr>\n    <tr>\n      <th>20636</th>\n      <td>77100.0</td>\n      <td>2.5568</td>\n      <td>18</td>\n      <td>697</td>\n      <td>150</td>\n      <td>356</td>\n      <td>114</td>\n      <td>39.49</td>\n      <td>-121.21</td>\n      <td>160445.433537</td>\n      <td>659747.068444</td>\n      <td>836245.915229</td>\n      <td>246849.888948</td>\n      <td>218314.424634</td>\n    </tr>\n    <tr>\n      <th>20637</th>\n      <td>92300.0</td>\n      <td>1.7000</td>\n      <td>17</td>\n      <td>2254</td>\n      <td>485</td>\n      <td>1007</td>\n      <td>433</td>\n      <td>39.43</td>\n      <td>-121.22</td>\n      <td>153754.341182</td>\n      <td>654042.214020</td>\n      <td>830699.573163</td>\n      <td>240172.220489</td>\n      <td>212097.936232</td>\n    </tr>\n    <tr>\n      <th>20638</th>\n      <td>84700.0</td>\n      <td>1.8672</td>\n      <td>18</td>\n      <td>1860</td>\n      <td>409</td>\n      <td>741</td>\n      <td>349</td>\n      <td>39.43</td>\n      <td>-121.32</td>\n      <td>152005.022239</td>\n      <td>657698.007703</td>\n      <td>834672.461887</td>\n      <td>238193.865909</td>\n      <td>207923.199166</td>\n    </tr>\n    <tr>\n      <th>20639</th>\n      <td>89400.0</td>\n      <td>2.3886</td>\n      <td>16</td>\n      <td>2785</td>\n      <td>616</td>\n      <td>1387</td>\n      <td>530</td>\n      <td>39.37</td>\n      <td>-121.24</td>\n      <td>146866.196892</td>\n      <td>648723.337126</td>\n      <td>825569.179028</td>\n      <td>233282.769063</td>\n      <td>205473.376575</td>\n    </tr>\n  </tbody>\n</table>\n<p>20640 rows × 14 columns</p>\n</div>"
     },
     "execution_count": 197,
     "metadata": {},
     "output_type": "execute_result"
    }
   ],
   "source": [
    "dataset = pd.read_csv('California_Houses.csv')\n",
    "dataset"
   ],
   "metadata": {
    "collapsed": false,
    "ExecuteTime": {
     "end_time": "2023-11-02T00:29:02.431037Z",
     "start_time": "2023-11-02T00:29:02.370322Z"
    }
   },
   "id": "6d2ac61ab664bbcb"
  },
  {
   "cell_type": "code",
   "execution_count": 198,
   "outputs": [],
   "source": [
    "X = dataset.loc[:, 'Median_Income':].values\n",
    "y = dataset.loc[:, 'Median_House_Value'].values"
   ],
   "metadata": {
    "collapsed": false,
    "ExecuteTime": {
     "end_time": "2023-11-02T00:29:02.431196Z",
     "start_time": "2023-11-02T00:29:02.412915Z"
    }
   },
   "id": "194912cdb142a062"
  },
  {
   "cell_type": "code",
   "execution_count": 199,
   "outputs": [
    {
     "data": {
      "text/plain": "array([[8.32520000e+00, 4.10000000e+01, 8.80000000e+02, ...,\n        7.35501807e+05, 6.74325170e+04, 2.12502138e+04],\n       [8.30140000e+00, 2.10000000e+01, 7.09900000e+03, ...,\n        7.33236884e+05, 6.50499086e+04, 2.08806004e+04],\n       [7.25740000e+00, 5.20000000e+01, 1.46700000e+03, ...,\n        7.33525683e+05, 6.48672898e+04, 1.88114874e+04],\n       ...,\n       [1.70000000e+00, 1.70000000e+01, 2.25400000e+03, ...,\n        8.30699573e+05, 2.40172220e+05, 2.12097936e+05],\n       [1.86720000e+00, 1.80000000e+01, 1.86000000e+03, ...,\n        8.34672462e+05, 2.38193866e+05, 2.07923199e+05],\n       [2.38860000e+00, 1.60000000e+01, 2.78500000e+03, ...,\n        8.25569179e+05, 2.33282769e+05, 2.05473377e+05]])"
     },
     "execution_count": 199,
     "metadata": {},
     "output_type": "execute_result"
    }
   ],
   "source": [
    "X"
   ],
   "metadata": {
    "collapsed": false,
    "ExecuteTime": {
     "end_time": "2023-11-02T00:29:02.431479Z",
     "start_time": "2023-11-02T00:29:02.423983Z"
    }
   },
   "id": "be10c65b372be86f"
  },
  {
   "cell_type": "code",
   "execution_count": 200,
   "outputs": [
    {
     "data": {
      "text/plain": "array([452600., 358500., 352100., ...,  92300.,  84700.,  89400.])"
     },
     "execution_count": 200,
     "metadata": {},
     "output_type": "execute_result"
    }
   ],
   "source": [
    "y"
   ],
   "metadata": {
    "collapsed": false,
    "ExecuteTime": {
     "end_time": "2023-11-02T00:29:02.451405Z",
     "start_time": "2023-11-02T00:29:02.432430Z"
    }
   },
   "id": "f9ac473d7c7a3030"
  },
  {
   "cell_type": "code",
   "execution_count": 201,
   "outputs": [],
   "source": [
    "from sklearn.preprocessing import MinMaxScaler\n",
    "sc = MinMaxScaler()\n",
    "sc.fit(X)\n",
    "X = sc.transform(X)\n",
    "sc.fit(y.reshape(-1,1))\n",
    "y = sc.transform(y.reshape(-1,1))"
   ],
   "metadata": {
    "collapsed": false,
    "ExecuteTime": {
     "end_time": "2023-11-02T00:29:02.451511Z",
     "start_time": "2023-11-02T00:29:02.436626Z"
    }
   },
   "id": "8167c8c5129de39f"
  },
  {
   "cell_type": "code",
   "execution_count": 202,
   "outputs": [
    {
     "data": {
      "text/plain": "array([[8.32520000e+00, 4.10000000e+01, 8.80000000e+02, ...,\n        7.35501807e+05, 6.74325170e+04, 2.12502138e+04],\n       [8.30140000e+00, 2.10000000e+01, 7.09900000e+03, ...,\n        7.33236884e+05, 6.50499086e+04, 2.08806004e+04],\n       [7.25740000e+00, 5.20000000e+01, 1.46700000e+03, ...,\n        7.33525683e+05, 6.48672898e+04, 1.88114874e+04],\n       ...,\n       [1.70000000e+00, 1.70000000e+01, 2.25400000e+03, ...,\n        8.30699573e+05, 2.40172220e+05, 2.12097936e+05],\n       [1.86720000e+00, 1.80000000e+01, 1.86000000e+03, ...,\n        8.34672462e+05, 2.38193866e+05, 2.07923199e+05],\n       [2.38860000e+00, 1.60000000e+01, 2.78500000e+03, ...,\n        8.25569179e+05, 2.33282769e+05, 2.05473377e+05]])"
     },
     "execution_count": 202,
     "metadata": {},
     "output_type": "execute_result"
    }
   ],
   "source": [
    "X"
   ],
   "metadata": {
    "collapsed": false,
    "ExecuteTime": {
     "end_time": "2023-11-02T00:29:02.452207Z",
     "start_time": "2023-11-02T00:29:02.439280Z"
    }
   },
   "id": "4b2c7fe77d1d1d31"
  },
  {
   "cell_type": "code",
   "execution_count": 203,
   "outputs": [
    {
     "data": {
      "text/plain": "((14448, 13), (3096, 13), (3096, 13))"
     },
     "execution_count": 203,
     "metadata": {},
     "output_type": "execute_result"
    }
   ],
   "source": [
    "from sklearn.model_selection import train_test_split\n",
    "X_train, X_test, y_train, y_test = train_test_split(X, y,  test_size=0.3,random_state=True)\n",
    "X_test,X_val,y_test,y_val = train_test_split(X_test,y_test,test_size=0.5,random_state=True)\n",
    "X_train.shape, X_test.shape, X_val.shape"
   ],
   "metadata": {
    "collapsed": false,
    "ExecuteTime": {
     "end_time": "2023-11-02T00:29:02.618884Z",
     "start_time": "2023-11-02T00:29:02.443791Z"
    }
   },
   "id": "a316b8b32055b539"
  },
  {
   "cell_type": "code",
   "execution_count": 204,
   "outputs": [
    {
     "data": {
      "text/plain": "LinearRegression()",
      "text/html": "<style>#sk-container-id-37 {color: black;}#sk-container-id-37 pre{padding: 0;}#sk-container-id-37 div.sk-toggleable {background-color: white;}#sk-container-id-37 label.sk-toggleable__label {cursor: pointer;display: block;width: 100%;margin-bottom: 0;padding: 0.3em;box-sizing: border-box;text-align: center;}#sk-container-id-37 label.sk-toggleable__label-arrow:before {content: \"▸\";float: left;margin-right: 0.25em;color: #696969;}#sk-container-id-37 label.sk-toggleable__label-arrow:hover:before {color: black;}#sk-container-id-37 div.sk-estimator:hover label.sk-toggleable__label-arrow:before {color: black;}#sk-container-id-37 div.sk-toggleable__content {max-height: 0;max-width: 0;overflow: hidden;text-align: left;background-color: #f0f8ff;}#sk-container-id-37 div.sk-toggleable__content pre {margin: 0.2em;color: black;border-radius: 0.25em;background-color: #f0f8ff;}#sk-container-id-37 input.sk-toggleable__control:checked~div.sk-toggleable__content {max-height: 200px;max-width: 100%;overflow: auto;}#sk-container-id-37 input.sk-toggleable__control:checked~label.sk-toggleable__label-arrow:before {content: \"▾\";}#sk-container-id-37 div.sk-estimator input.sk-toggleable__control:checked~label.sk-toggleable__label {background-color: #d4ebff;}#sk-container-id-37 div.sk-label input.sk-toggleable__control:checked~label.sk-toggleable__label {background-color: #d4ebff;}#sk-container-id-37 input.sk-hidden--visually {border: 0;clip: rect(1px 1px 1px 1px);clip: rect(1px, 1px, 1px, 1px);height: 1px;margin: -1px;overflow: hidden;padding: 0;position: absolute;width: 1px;}#sk-container-id-37 div.sk-estimator {font-family: monospace;background-color: #f0f8ff;border: 1px dotted black;border-radius: 0.25em;box-sizing: border-box;margin-bottom: 0.5em;}#sk-container-id-37 div.sk-estimator:hover {background-color: #d4ebff;}#sk-container-id-37 div.sk-parallel-item::after {content: \"\";width: 100%;border-bottom: 1px solid gray;flex-grow: 1;}#sk-container-id-37 div.sk-label:hover label.sk-toggleable__label {background-color: #d4ebff;}#sk-container-id-37 div.sk-serial::before {content: \"\";position: absolute;border-left: 1px solid gray;box-sizing: border-box;top: 0;bottom: 0;left: 50%;z-index: 0;}#sk-container-id-37 div.sk-serial {display: flex;flex-direction: column;align-items: center;background-color: white;padding-right: 0.2em;padding-left: 0.2em;position: relative;}#sk-container-id-37 div.sk-item {position: relative;z-index: 1;}#sk-container-id-37 div.sk-parallel {display: flex;align-items: stretch;justify-content: center;background-color: white;position: relative;}#sk-container-id-37 div.sk-item::before, #sk-container-id-37 div.sk-parallel-item::before {content: \"\";position: absolute;border-left: 1px solid gray;box-sizing: border-box;top: 0;bottom: 0;left: 50%;z-index: -1;}#sk-container-id-37 div.sk-parallel-item {display: flex;flex-direction: column;z-index: 1;position: relative;background-color: white;}#sk-container-id-37 div.sk-parallel-item:first-child::after {align-self: flex-end;width: 50%;}#sk-container-id-37 div.sk-parallel-item:last-child::after {align-self: flex-start;width: 50%;}#sk-container-id-37 div.sk-parallel-item:only-child::after {width: 0;}#sk-container-id-37 div.sk-dashed-wrapped {border: 1px dashed gray;margin: 0 0.4em 0.5em 0.4em;box-sizing: border-box;padding-bottom: 0.4em;background-color: white;}#sk-container-id-37 div.sk-label label {font-family: monospace;font-weight: bold;display: inline-block;line-height: 1.2em;}#sk-container-id-37 div.sk-label-container {text-align: center;}#sk-container-id-37 div.sk-container {/* jupyter's `normalize.less` sets `[hidden] { display: none; }` but bootstrap.min.css set `[hidden] { display: none !important; }` so we also need the `!important` here to be able to override the default hidden behavior on the sphinx rendered scikit-learn.org. See: https://github.com/scikit-learn/scikit-learn/issues/21755 */display: inline-block !important;position: relative;}#sk-container-id-37 div.sk-text-repr-fallback {display: none;}</style><div id=\"sk-container-id-37\" class=\"sk-top-container\"><div class=\"sk-text-repr-fallback\"><pre>LinearRegression()</pre><b>In a Jupyter environment, please rerun this cell to show the HTML representation or trust the notebook. <br />On GitHub, the HTML representation is unable to render, please try loading this page with nbviewer.org.</b></div><div class=\"sk-container\" hidden><div class=\"sk-item\"><div class=\"sk-estimator sk-toggleable\"><input class=\"sk-toggleable__control sk-hidden--visually\" id=\"sk-estimator-id-37\" type=\"checkbox\" checked><label for=\"sk-estimator-id-37\" class=\"sk-toggleable__label sk-toggleable__label-arrow\">LinearRegression</label><div class=\"sk-toggleable__content\"><pre>LinearRegression()</pre></div></div></div></div></div>"
     },
     "execution_count": 204,
     "metadata": {},
     "output_type": "execute_result"
    }
   ],
   "source": [
    "from sklearn.linear_model import LinearRegression\n",
    "from sklearn.metrics import mean_squared_error,mean_absolute_error\n",
    "regressor = LinearRegression()\n",
    "regressor.fit(X_train, y_train)"
   ],
   "metadata": {
    "collapsed": false,
    "ExecuteTime": {
     "end_time": "2023-11-02T00:29:02.623447Z",
     "start_time": "2023-11-02T00:29:02.449706Z"
    }
   },
   "id": "c65f373ccfae7174"
  },
  {
   "cell_type": "code",
   "execution_count": 205,
   "outputs": [
    {
     "name": "stdout",
     "output_type": "stream",
     "text": [
      "Mean Absolute Error: 4825653861.388197\n",
      "Mean Squared Error: 50353.189505790106\n",
      "accuracy using test: 0.6346950500393116\n",
      "accuracy using train: 0.6493563065187331\n",
      "accuracy using val: 0.6430792710669417\n"
     ]
    }
   ],
   "source": [
    "y_pred = regressor.predict(X_test)\n",
    "mse_linear = mean_squared_error(y_test, y_pred)\n",
    "mae_linear = mean_absolute_error(y_test, y_pred)\n",
    "print('Mean Absolute Error:', mse_linear)\n",
    "print('Mean Squared Error:', mae_linear)\n",
    "print('accuracy using test:',regressor.score(X_test,y_test))\n",
    "print('accuracy using train:',regressor.score(X_train,y_train))\n",
    "print('accuracy using val:',regressor.score(X_val,y_val))"
   ],
   "metadata": {
    "collapsed": false,
    "ExecuteTime": {
     "end_time": "2023-11-02T00:29:02.716468Z",
     "start_time": "2023-11-02T00:29:02.542484Z"
    }
   },
   "id": "f944e0094312060e"
  },
  {
   "cell_type": "code",
   "execution_count": 206,
   "outputs": [
    {
     "data": {
      "text/plain": "Lasso(alpha=1, max_iter=100000)",
      "text/html": "<style>#sk-container-id-38 {color: black;}#sk-container-id-38 pre{padding: 0;}#sk-container-id-38 div.sk-toggleable {background-color: white;}#sk-container-id-38 label.sk-toggleable__label {cursor: pointer;display: block;width: 100%;margin-bottom: 0;padding: 0.3em;box-sizing: border-box;text-align: center;}#sk-container-id-38 label.sk-toggleable__label-arrow:before {content: \"▸\";float: left;margin-right: 0.25em;color: #696969;}#sk-container-id-38 label.sk-toggleable__label-arrow:hover:before {color: black;}#sk-container-id-38 div.sk-estimator:hover label.sk-toggleable__label-arrow:before {color: black;}#sk-container-id-38 div.sk-toggleable__content {max-height: 0;max-width: 0;overflow: hidden;text-align: left;background-color: #f0f8ff;}#sk-container-id-38 div.sk-toggleable__content pre {margin: 0.2em;color: black;border-radius: 0.25em;background-color: #f0f8ff;}#sk-container-id-38 input.sk-toggleable__control:checked~div.sk-toggleable__content {max-height: 200px;max-width: 100%;overflow: auto;}#sk-container-id-38 input.sk-toggleable__control:checked~label.sk-toggleable__label-arrow:before {content: \"▾\";}#sk-container-id-38 div.sk-estimator input.sk-toggleable__control:checked~label.sk-toggleable__label {background-color: #d4ebff;}#sk-container-id-38 div.sk-label input.sk-toggleable__control:checked~label.sk-toggleable__label {background-color: #d4ebff;}#sk-container-id-38 input.sk-hidden--visually {border: 0;clip: rect(1px 1px 1px 1px);clip: rect(1px, 1px, 1px, 1px);height: 1px;margin: -1px;overflow: hidden;padding: 0;position: absolute;width: 1px;}#sk-container-id-38 div.sk-estimator {font-family: monospace;background-color: #f0f8ff;border: 1px dotted black;border-radius: 0.25em;box-sizing: border-box;margin-bottom: 0.5em;}#sk-container-id-38 div.sk-estimator:hover {background-color: #d4ebff;}#sk-container-id-38 div.sk-parallel-item::after {content: \"\";width: 100%;border-bottom: 1px solid gray;flex-grow: 1;}#sk-container-id-38 div.sk-label:hover label.sk-toggleable__label {background-color: #d4ebff;}#sk-container-id-38 div.sk-serial::before {content: \"\";position: absolute;border-left: 1px solid gray;box-sizing: border-box;top: 0;bottom: 0;left: 50%;z-index: 0;}#sk-container-id-38 div.sk-serial {display: flex;flex-direction: column;align-items: center;background-color: white;padding-right: 0.2em;padding-left: 0.2em;position: relative;}#sk-container-id-38 div.sk-item {position: relative;z-index: 1;}#sk-container-id-38 div.sk-parallel {display: flex;align-items: stretch;justify-content: center;background-color: white;position: relative;}#sk-container-id-38 div.sk-item::before, #sk-container-id-38 div.sk-parallel-item::before {content: \"\";position: absolute;border-left: 1px solid gray;box-sizing: border-box;top: 0;bottom: 0;left: 50%;z-index: -1;}#sk-container-id-38 div.sk-parallel-item {display: flex;flex-direction: column;z-index: 1;position: relative;background-color: white;}#sk-container-id-38 div.sk-parallel-item:first-child::after {align-self: flex-end;width: 50%;}#sk-container-id-38 div.sk-parallel-item:last-child::after {align-self: flex-start;width: 50%;}#sk-container-id-38 div.sk-parallel-item:only-child::after {width: 0;}#sk-container-id-38 div.sk-dashed-wrapped {border: 1px dashed gray;margin: 0 0.4em 0.5em 0.4em;box-sizing: border-box;padding-bottom: 0.4em;background-color: white;}#sk-container-id-38 div.sk-label label {font-family: monospace;font-weight: bold;display: inline-block;line-height: 1.2em;}#sk-container-id-38 div.sk-label-container {text-align: center;}#sk-container-id-38 div.sk-container {/* jupyter's `normalize.less` sets `[hidden] { display: none; }` but bootstrap.min.css set `[hidden] { display: none !important; }` so we also need the `!important` here to be able to override the default hidden behavior on the sphinx rendered scikit-learn.org. See: https://github.com/scikit-learn/scikit-learn/issues/21755 */display: inline-block !important;position: relative;}#sk-container-id-38 div.sk-text-repr-fallback {display: none;}</style><div id=\"sk-container-id-38\" class=\"sk-top-container\"><div class=\"sk-text-repr-fallback\"><pre>Lasso(alpha=1, max_iter=100000)</pre><b>In a Jupyter environment, please rerun this cell to show the HTML representation or trust the notebook. <br />On GitHub, the HTML representation is unable to render, please try loading this page with nbviewer.org.</b></div><div class=\"sk-container\" hidden><div class=\"sk-item\"><div class=\"sk-estimator sk-toggleable\"><input class=\"sk-toggleable__control sk-hidden--visually\" id=\"sk-estimator-id-38\" type=\"checkbox\" checked><label for=\"sk-estimator-id-38\" class=\"sk-toggleable__label sk-toggleable__label-arrow\">Lasso</label><div class=\"sk-toggleable__content\"><pre>Lasso(alpha=1, max_iter=100000)</pre></div></div></div></div></div>"
     },
     "execution_count": 206,
     "metadata": {},
     "output_type": "execute_result"
    }
   ],
   "source": [
    "from sklearn.linear_model import Lasso\n",
    "lasso = Lasso(alpha=1,max_iter=100000)\n",
    "lasso.fit(X_train,y_train)"
   ],
   "metadata": {
    "collapsed": false,
    "ExecuteTime": {
     "end_time": "2023-11-02T00:29:05.708600Z",
     "start_time": "2023-11-02T00:29:02.570732Z"
    }
   },
   "id": "f37d64e2e7420c97"
  },
  {
   "cell_type": "code",
   "execution_count": 207,
   "outputs": [
    {
     "name": "stdout",
     "output_type": "stream",
     "text": [
      "Mean Absolute Error: 50353.29632497065\n",
      "Mean Squared Error: 4825647135.845118\n",
      "accuracy using test: 0.6346955591670378\n",
      "accuracy using train: 0.6493563035648962\n",
      "accuracy using val: 0.6430817957990611\n"
     ]
    }
   ],
   "source": [
    "y_pred = lasso.predict(X_test)\n",
    "mse_lasso = mean_squared_error(y_test, y_pred)\n",
    "mae_lasso = mean_absolute_error(y_test, y_pred)\n",
    "print('Mean Absolute Error:', mae_lasso)\n",
    "print('Mean Squared Error:', mse_lasso)\n",
    "print('accuracy using test:',lasso.score(X_test,y_test))\n",
    "print('accuracy using train:',lasso.score(X_train,y_train))\n",
    "print('accuracy using val:',lasso.score(X_val,y_val))"
   ],
   "metadata": {
    "collapsed": false,
    "ExecuteTime": {
     "end_time": "2023-11-02T00:29:05.873855Z",
     "start_time": "2023-11-02T00:29:05.759888Z"
    }
   },
   "id": "66a8e42443f73885"
  },
  {
   "cell_type": "code",
   "execution_count": 208,
   "outputs": [
    {
     "data": {
      "text/plain": "Ridge(alpha=1)",
      "text/html": "<style>#sk-container-id-39 {color: black;}#sk-container-id-39 pre{padding: 0;}#sk-container-id-39 div.sk-toggleable {background-color: white;}#sk-container-id-39 label.sk-toggleable__label {cursor: pointer;display: block;width: 100%;margin-bottom: 0;padding: 0.3em;box-sizing: border-box;text-align: center;}#sk-container-id-39 label.sk-toggleable__label-arrow:before {content: \"▸\";float: left;margin-right: 0.25em;color: #696969;}#sk-container-id-39 label.sk-toggleable__label-arrow:hover:before {color: black;}#sk-container-id-39 div.sk-estimator:hover label.sk-toggleable__label-arrow:before {color: black;}#sk-container-id-39 div.sk-toggleable__content {max-height: 0;max-width: 0;overflow: hidden;text-align: left;background-color: #f0f8ff;}#sk-container-id-39 div.sk-toggleable__content pre {margin: 0.2em;color: black;border-radius: 0.25em;background-color: #f0f8ff;}#sk-container-id-39 input.sk-toggleable__control:checked~div.sk-toggleable__content {max-height: 200px;max-width: 100%;overflow: auto;}#sk-container-id-39 input.sk-toggleable__control:checked~label.sk-toggleable__label-arrow:before {content: \"▾\";}#sk-container-id-39 div.sk-estimator input.sk-toggleable__control:checked~label.sk-toggleable__label {background-color: #d4ebff;}#sk-container-id-39 div.sk-label input.sk-toggleable__control:checked~label.sk-toggleable__label {background-color: #d4ebff;}#sk-container-id-39 input.sk-hidden--visually {border: 0;clip: rect(1px 1px 1px 1px);clip: rect(1px, 1px, 1px, 1px);height: 1px;margin: -1px;overflow: hidden;padding: 0;position: absolute;width: 1px;}#sk-container-id-39 div.sk-estimator {font-family: monospace;background-color: #f0f8ff;border: 1px dotted black;border-radius: 0.25em;box-sizing: border-box;margin-bottom: 0.5em;}#sk-container-id-39 div.sk-estimator:hover {background-color: #d4ebff;}#sk-container-id-39 div.sk-parallel-item::after {content: \"\";width: 100%;border-bottom: 1px solid gray;flex-grow: 1;}#sk-container-id-39 div.sk-label:hover label.sk-toggleable__label {background-color: #d4ebff;}#sk-container-id-39 div.sk-serial::before {content: \"\";position: absolute;border-left: 1px solid gray;box-sizing: border-box;top: 0;bottom: 0;left: 50%;z-index: 0;}#sk-container-id-39 div.sk-serial {display: flex;flex-direction: column;align-items: center;background-color: white;padding-right: 0.2em;padding-left: 0.2em;position: relative;}#sk-container-id-39 div.sk-item {position: relative;z-index: 1;}#sk-container-id-39 div.sk-parallel {display: flex;align-items: stretch;justify-content: center;background-color: white;position: relative;}#sk-container-id-39 div.sk-item::before, #sk-container-id-39 div.sk-parallel-item::before {content: \"\";position: absolute;border-left: 1px solid gray;box-sizing: border-box;top: 0;bottom: 0;left: 50%;z-index: -1;}#sk-container-id-39 div.sk-parallel-item {display: flex;flex-direction: column;z-index: 1;position: relative;background-color: white;}#sk-container-id-39 div.sk-parallel-item:first-child::after {align-self: flex-end;width: 50%;}#sk-container-id-39 div.sk-parallel-item:last-child::after {align-self: flex-start;width: 50%;}#sk-container-id-39 div.sk-parallel-item:only-child::after {width: 0;}#sk-container-id-39 div.sk-dashed-wrapped {border: 1px dashed gray;margin: 0 0.4em 0.5em 0.4em;box-sizing: border-box;padding-bottom: 0.4em;background-color: white;}#sk-container-id-39 div.sk-label label {font-family: monospace;font-weight: bold;display: inline-block;line-height: 1.2em;}#sk-container-id-39 div.sk-label-container {text-align: center;}#sk-container-id-39 div.sk-container {/* jupyter's `normalize.less` sets `[hidden] { display: none; }` but bootstrap.min.css set `[hidden] { display: none !important; }` so we also need the `!important` here to be able to override the default hidden behavior on the sphinx rendered scikit-learn.org. See: https://github.com/scikit-learn/scikit-learn/issues/21755 */display: inline-block !important;position: relative;}#sk-container-id-39 div.sk-text-repr-fallback {display: none;}</style><div id=\"sk-container-id-39\" class=\"sk-top-container\"><div class=\"sk-text-repr-fallback\"><pre>Ridge(alpha=1)</pre><b>In a Jupyter environment, please rerun this cell to show the HTML representation or trust the notebook. <br />On GitHub, the HTML representation is unable to render, please try loading this page with nbviewer.org.</b></div><div class=\"sk-container\" hidden><div class=\"sk-item\"><div class=\"sk-estimator sk-toggleable\"><input class=\"sk-toggleable__control sk-hidden--visually\" id=\"sk-estimator-id-39\" type=\"checkbox\" checked><label for=\"sk-estimator-id-39\" class=\"sk-toggleable__label sk-toggleable__label-arrow\">Ridge</label><div class=\"sk-toggleable__content\"><pre>Ridge(alpha=1)</pre></div></div></div></div></div>"
     },
     "execution_count": 208,
     "metadata": {},
     "output_type": "execute_result"
    }
   ],
   "source": [
    "from sklearn.linear_model import Ridge\n",
    "ridge = Ridge(alpha=1)\n",
    "ridge.fit(X_train,y_train)"
   ],
   "metadata": {
    "collapsed": false,
    "ExecuteTime": {
     "end_time": "2023-11-02T00:29:05.928445Z",
     "start_time": "2023-11-02T00:29:05.872845Z"
    }
   },
   "id": "544ad8265a6b6df"
  },
  {
   "cell_type": "code",
   "execution_count": 209,
   "outputs": [
    {
     "name": "stdout",
     "output_type": "stream",
     "text": [
      "Mean Absolute Error: 50353.45858050672\n",
      "Mean Squared Error: 4825631534.160269\n",
      "accuracy using test: 0.6346967402241269\n",
      "accuracy using train: 0.6493562807705838\n",
      "accuracy using val: 0.6430860380586829\n"
     ]
    }
   ],
   "source": [
    "y_pred = ridge.predict(X_test)\n",
    "mse_ridge = mean_squared_error(y_test, y_pred)\n",
    "mae_ridge = mean_absolute_error(y_test, y_pred)\n",
    "print('Mean Absolute Error:', mae_ridge)\n",
    "print('Mean Squared Error:', mse_ridge)\n",
    "print('accuracy using test:',ridge.score(X_test,y_test))\n",
    "print('accuracy using train:',ridge.score(X_train,y_train))\n",
    "print('accuracy using val:',ridge.score(X_val,y_val))"
   ],
   "metadata": {
    "collapsed": false,
    "ExecuteTime": {
     "end_time": "2023-11-02T00:29:05.943908Z",
     "start_time": "2023-11-02T00:29:05.933925Z"
    }
   },
   "id": "664a29004cc6a994"
  },
  {
   "cell_type": "code",
   "execution_count": 210,
   "outputs": [
    {
     "name": "stdout",
     "output_type": "stream",
     "text": [
      "    Model  Mean Squared Error  Mean Absolute Error\n",
      "0  linear        4.825654e+09         50353.189506\n",
      "1   lasso        4.825647e+09         50353.296325\n",
      "2   ridge        4.825632e+09         50353.458581\n"
     ]
    }
   ],
   "source": [
    "data = {\n",
    "    'Model': ['linear', 'lasso', 'ridge'],\n",
    "    'Mean Squared Error': [mse_linear, mse_lasso, mse_ridge],\n",
    "    'Mean Absolute Error': [mae_linear, mae_lasso, mae_ridge]\n",
    "}\n",
    "\n",
    "df = pd.DataFrame(data)\n",
    "print(df)"
   ],
   "metadata": {
    "collapsed": false,
    "ExecuteTime": {
     "end_time": "2023-11-02T00:29:05.975701Z",
     "start_time": "2023-11-02T00:29:05.947053Z"
    }
   },
   "id": "fbe22a03118d5c21"
  },
  {
   "cell_type": "code",
   "execution_count": 210,
   "outputs": [],
   "source": [],
   "metadata": {
    "collapsed": false,
    "ExecuteTime": {
     "end_time": "2023-11-02T00:29:05.975977Z",
     "start_time": "2023-11-02T00:29:05.953277Z"
    }
   },
   "id": "7d9aea0030c0e5b"
  }
 ],
 "metadata": {
  "kernelspec": {
   "display_name": "Python 3",
   "language": "python",
   "name": "python3"
  },
  "language_info": {
   "codemirror_mode": {
    "name": "ipython",
    "version": 2
   },
   "file_extension": ".py",
   "mimetype": "text/x-python",
   "name": "python",
   "nbconvert_exporter": "python",
   "pygments_lexer": "ipython2",
   "version": "2.7.6"
  }
 },
 "nbformat": 4,
 "nbformat_minor": 5
}
