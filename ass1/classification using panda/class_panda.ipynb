{
 "cells": [
  {
   "cell_type": "code",
   "execution_count": 1,
   "id": "initial_id",
   "metadata": {
    "collapsed": true,
    "ExecuteTime": {
     "end_time": "2023-10-31T19:20:13.500380Z",
     "start_time": "2023-10-31T19:20:12.878723Z"
    }
   },
   "outputs": [],
   "source": [
    "import pandas as pd\n",
    "import matplotlib.pyplot as plt\n"
   ]
  },
  {
   "cell_type": "code",
   "execution_count": 2,
   "outputs": [
    {
     "data": {
      "text/plain": "        fLength    fWidth   fSize   fConc  fConc1     fAsym   fM3Long  \\\n0       28.7967   16.0021  2.6449  0.3918  0.1982   27.7004   22.0110   \n1       31.6036   11.7235  2.5185  0.5303  0.3773   26.2722   23.8238   \n2      162.0520  136.0310  4.0612  0.0374  0.0187  116.7410  -64.8580   \n3       23.8172    9.5728  2.3385  0.6147  0.3922   27.2107   -6.4633   \n4       75.1362   30.9205  3.1611  0.3168  0.1832   -5.5277   28.5525   \n...         ...       ...     ...     ...     ...       ...       ...   \n19015   21.3846   10.9170  2.6161  0.5857  0.3934   15.2618   11.5245   \n19016   28.9452    6.7020  2.2672  0.5351  0.2784   37.0816   13.1853   \n19017   75.4455   47.5305  3.4483  0.1417  0.0549   -9.3561   41.0562   \n19018  120.5135   76.9018  3.9939  0.0944  0.0683    5.8043  -93.5224   \n19019  187.1814   53.0014  3.2093  0.2876  0.1539 -167.3125 -168.4558   \n\n       fM3Trans   fAlpha     fDist class  \n0       -8.2027  40.0920   81.8828     g  \n1       -9.9574   6.3609  205.2610     g  \n2      -45.2160  76.9600  256.7880     g  \n3       -7.1513  10.4490  116.7370     g  \n4       21.8393   4.6480  356.4620     g  \n...         ...      ...       ...   ...  \n19015    2.8766   2.4229  106.8258     h  \n19016   -2.9632  86.7975  247.4560     h  \n19017   -9.4662  30.2987  256.5166     h  \n19018  -63.8389  84.6874  408.3166     h  \n19019   31.4755  52.7310  272.3174     h  \n\n[19020 rows x 11 columns]",
      "text/html": "<div>\n<style scoped>\n    .dataframe tbody tr th:only-of-type {\n        vertical-align: middle;\n    }\n\n    .dataframe tbody tr th {\n        vertical-align: top;\n    }\n\n    .dataframe thead th {\n        text-align: right;\n    }\n</style>\n<table border=\"1\" class=\"dataframe\">\n  <thead>\n    <tr style=\"text-align: right;\">\n      <th></th>\n      <th>fLength</th>\n      <th>fWidth</th>\n      <th>fSize</th>\n      <th>fConc</th>\n      <th>fConc1</th>\n      <th>fAsym</th>\n      <th>fM3Long</th>\n      <th>fM3Trans</th>\n      <th>fAlpha</th>\n      <th>fDist</th>\n      <th>class</th>\n    </tr>\n  </thead>\n  <tbody>\n    <tr>\n      <th>0</th>\n      <td>28.7967</td>\n      <td>16.0021</td>\n      <td>2.6449</td>\n      <td>0.3918</td>\n      <td>0.1982</td>\n      <td>27.7004</td>\n      <td>22.0110</td>\n      <td>-8.2027</td>\n      <td>40.0920</td>\n      <td>81.8828</td>\n      <td>g</td>\n    </tr>\n    <tr>\n      <th>1</th>\n      <td>31.6036</td>\n      <td>11.7235</td>\n      <td>2.5185</td>\n      <td>0.5303</td>\n      <td>0.3773</td>\n      <td>26.2722</td>\n      <td>23.8238</td>\n      <td>-9.9574</td>\n      <td>6.3609</td>\n      <td>205.2610</td>\n      <td>g</td>\n    </tr>\n    <tr>\n      <th>2</th>\n      <td>162.0520</td>\n      <td>136.0310</td>\n      <td>4.0612</td>\n      <td>0.0374</td>\n      <td>0.0187</td>\n      <td>116.7410</td>\n      <td>-64.8580</td>\n      <td>-45.2160</td>\n      <td>76.9600</td>\n      <td>256.7880</td>\n      <td>g</td>\n    </tr>\n    <tr>\n      <th>3</th>\n      <td>23.8172</td>\n      <td>9.5728</td>\n      <td>2.3385</td>\n      <td>0.6147</td>\n      <td>0.3922</td>\n      <td>27.2107</td>\n      <td>-6.4633</td>\n      <td>-7.1513</td>\n      <td>10.4490</td>\n      <td>116.7370</td>\n      <td>g</td>\n    </tr>\n    <tr>\n      <th>4</th>\n      <td>75.1362</td>\n      <td>30.9205</td>\n      <td>3.1611</td>\n      <td>0.3168</td>\n      <td>0.1832</td>\n      <td>-5.5277</td>\n      <td>28.5525</td>\n      <td>21.8393</td>\n      <td>4.6480</td>\n      <td>356.4620</td>\n      <td>g</td>\n    </tr>\n    <tr>\n      <th>...</th>\n      <td>...</td>\n      <td>...</td>\n      <td>...</td>\n      <td>...</td>\n      <td>...</td>\n      <td>...</td>\n      <td>...</td>\n      <td>...</td>\n      <td>...</td>\n      <td>...</td>\n      <td>...</td>\n    </tr>\n    <tr>\n      <th>19015</th>\n      <td>21.3846</td>\n      <td>10.9170</td>\n      <td>2.6161</td>\n      <td>0.5857</td>\n      <td>0.3934</td>\n      <td>15.2618</td>\n      <td>11.5245</td>\n      <td>2.8766</td>\n      <td>2.4229</td>\n      <td>106.8258</td>\n      <td>h</td>\n    </tr>\n    <tr>\n      <th>19016</th>\n      <td>28.9452</td>\n      <td>6.7020</td>\n      <td>2.2672</td>\n      <td>0.5351</td>\n      <td>0.2784</td>\n      <td>37.0816</td>\n      <td>13.1853</td>\n      <td>-2.9632</td>\n      <td>86.7975</td>\n      <td>247.4560</td>\n      <td>h</td>\n    </tr>\n    <tr>\n      <th>19017</th>\n      <td>75.4455</td>\n      <td>47.5305</td>\n      <td>3.4483</td>\n      <td>0.1417</td>\n      <td>0.0549</td>\n      <td>-9.3561</td>\n      <td>41.0562</td>\n      <td>-9.4662</td>\n      <td>30.2987</td>\n      <td>256.5166</td>\n      <td>h</td>\n    </tr>\n    <tr>\n      <th>19018</th>\n      <td>120.5135</td>\n      <td>76.9018</td>\n      <td>3.9939</td>\n      <td>0.0944</td>\n      <td>0.0683</td>\n      <td>5.8043</td>\n      <td>-93.5224</td>\n      <td>-63.8389</td>\n      <td>84.6874</td>\n      <td>408.3166</td>\n      <td>h</td>\n    </tr>\n    <tr>\n      <th>19019</th>\n      <td>187.1814</td>\n      <td>53.0014</td>\n      <td>3.2093</td>\n      <td>0.2876</td>\n      <td>0.1539</td>\n      <td>-167.3125</td>\n      <td>-168.4558</td>\n      <td>31.4755</td>\n      <td>52.7310</td>\n      <td>272.3174</td>\n      <td>h</td>\n    </tr>\n  </tbody>\n</table>\n<p>19020 rows × 11 columns</p>\n</div>"
     },
     "execution_count": 2,
     "metadata": {},
     "output_type": "execute_result"
    }
   ],
   "source": [
    "# Importing the dataset\n",
    "column_name = ['fLength', 'fWidth', 'fSize', 'fConc', 'fConc1', 'fAsym', 'fM3Long', 'fM3Trans', 'fAlpha', 'fDist',\n",
    "               'class']\n",
    "dataset = pd.read_csv('magic04.data', names=column_name)\n",
    "dataset"
   ],
   "metadata": {
    "collapsed": false,
    "ExecuteTime": {
     "end_time": "2023-10-31T19:20:13.529858Z",
     "start_time": "2023-10-31T19:20:13.501473Z"
    }
   },
   "id": "444a7ec63163a107"
  },
  {
   "cell_type": "code",
   "execution_count": 3,
   "outputs": [
    {
     "data": {
      "text/plain": "class\ng    12332\nh     6688\nName: count, dtype: int64"
     },
     "execution_count": 3,
     "metadata": {},
     "output_type": "execute_result"
    }
   ],
   "source": [
    "#balance the dataset\n",
    "dataset['class'].value_counts()\n"
   ],
   "metadata": {
    "collapsed": false,
    "ExecuteTime": {
     "end_time": "2023-10-31T19:20:13.534874Z",
     "start_time": "2023-10-31T19:20:13.529627Z"
    }
   },
   "id": "6c81e1651fc37c2f"
  },
  {
   "cell_type": "code",
   "execution_count": 4,
   "outputs": [
    {
     "data": {
      "text/plain": "             fLength   fWidth   fSize   fConc  fConc1    fAsym   fM3Long  \\\nclass                                                                      \ng     0      28.6808  12.9785  2.5484  0.3932  0.2362  -1.6727  -10.4705   \n      1      34.5936  22.7230  2.9423  0.2821  0.1456  49.7576   26.8458   \n      2      13.3406  10.5094  2.3021  0.7930  0.4264 -14.4516   -4.1842   \n      3      88.9364  33.7546  3.6536  0.1896  0.0973 -65.8017   62.9067   \n      4      38.2496  20.2260  2.6785  0.3396  0.2128   5.9120   31.8818   \n...              ...      ...     ...     ...     ...      ...       ...   \nh     6683   43.6872  20.4355  2.5720  0.4295  0.2482 -50.1245   34.2563   \n      6684   46.3507  18.0768  3.0999  0.2420  0.1448   5.7083  -47.2159   \n      6685   17.8190  16.3041  2.6776  0.5168  0.2868  14.5452   12.1542   \n      6686  130.4518  27.1369  3.1999  0.3720  0.1883 -98.1669 -109.2498   \n      6687   74.0906  23.1378  3.0660  0.2526  0.1349  43.5653   70.0424   \n\n            fM3Trans   fAlpha     fDist class  \nclass                                          \ng     0      -3.6762   5.8695  104.3900     g  \n      1     -14.4034   7.1144  128.7610     g  \n      2      11.8011  60.8194  192.9240     g  \n      3      21.2552   2.6930  319.8990     g  \n      4      18.2126  20.8590  214.7700     g  \n...              ...      ...       ...   ...  \nh     6683   13.7322  71.4563  158.8940     h  \n      6684  -14.1545  67.3162  234.0607     h  \n      6685  -13.5145   5.9996  135.2800     h  \n      6686   11.2795   9.6941  385.4177     h  \n      6687   10.7699   2.0336  250.0983     h  \n\n[13376 rows x 11 columns]",
      "text/html": "<div>\n<style scoped>\n    .dataframe tbody tr th:only-of-type {\n        vertical-align: middle;\n    }\n\n    .dataframe tbody tr th {\n        vertical-align: top;\n    }\n\n    .dataframe thead th {\n        text-align: right;\n    }\n</style>\n<table border=\"1\" class=\"dataframe\">\n  <thead>\n    <tr style=\"text-align: right;\">\n      <th></th>\n      <th></th>\n      <th>fLength</th>\n      <th>fWidth</th>\n      <th>fSize</th>\n      <th>fConc</th>\n      <th>fConc1</th>\n      <th>fAsym</th>\n      <th>fM3Long</th>\n      <th>fM3Trans</th>\n      <th>fAlpha</th>\n      <th>fDist</th>\n      <th>class</th>\n    </tr>\n    <tr>\n      <th>class</th>\n      <th></th>\n      <th></th>\n      <th></th>\n      <th></th>\n      <th></th>\n      <th></th>\n      <th></th>\n      <th></th>\n      <th></th>\n      <th></th>\n      <th></th>\n      <th></th>\n    </tr>\n  </thead>\n  <tbody>\n    <tr>\n      <th rowspan=\"5\" valign=\"top\">g</th>\n      <th>0</th>\n      <td>28.6808</td>\n      <td>12.9785</td>\n      <td>2.5484</td>\n      <td>0.3932</td>\n      <td>0.2362</td>\n      <td>-1.6727</td>\n      <td>-10.4705</td>\n      <td>-3.6762</td>\n      <td>5.8695</td>\n      <td>104.3900</td>\n      <td>g</td>\n    </tr>\n    <tr>\n      <th>1</th>\n      <td>34.5936</td>\n      <td>22.7230</td>\n      <td>2.9423</td>\n      <td>0.2821</td>\n      <td>0.1456</td>\n      <td>49.7576</td>\n      <td>26.8458</td>\n      <td>-14.4034</td>\n      <td>7.1144</td>\n      <td>128.7610</td>\n      <td>g</td>\n    </tr>\n    <tr>\n      <th>2</th>\n      <td>13.3406</td>\n      <td>10.5094</td>\n      <td>2.3021</td>\n      <td>0.7930</td>\n      <td>0.4264</td>\n      <td>-14.4516</td>\n      <td>-4.1842</td>\n      <td>11.8011</td>\n      <td>60.8194</td>\n      <td>192.9240</td>\n      <td>g</td>\n    </tr>\n    <tr>\n      <th>3</th>\n      <td>88.9364</td>\n      <td>33.7546</td>\n      <td>3.6536</td>\n      <td>0.1896</td>\n      <td>0.0973</td>\n      <td>-65.8017</td>\n      <td>62.9067</td>\n      <td>21.2552</td>\n      <td>2.6930</td>\n      <td>319.8990</td>\n      <td>g</td>\n    </tr>\n    <tr>\n      <th>4</th>\n      <td>38.2496</td>\n      <td>20.2260</td>\n      <td>2.6785</td>\n      <td>0.3396</td>\n      <td>0.2128</td>\n      <td>5.9120</td>\n      <td>31.8818</td>\n      <td>18.2126</td>\n      <td>20.8590</td>\n      <td>214.7700</td>\n      <td>g</td>\n    </tr>\n    <tr>\n      <th>...</th>\n      <th>...</th>\n      <td>...</td>\n      <td>...</td>\n      <td>...</td>\n      <td>...</td>\n      <td>...</td>\n      <td>...</td>\n      <td>...</td>\n      <td>...</td>\n      <td>...</td>\n      <td>...</td>\n      <td>...</td>\n    </tr>\n    <tr>\n      <th rowspan=\"5\" valign=\"top\">h</th>\n      <th>6683</th>\n      <td>43.6872</td>\n      <td>20.4355</td>\n      <td>2.5720</td>\n      <td>0.4295</td>\n      <td>0.2482</td>\n      <td>-50.1245</td>\n      <td>34.2563</td>\n      <td>13.7322</td>\n      <td>71.4563</td>\n      <td>158.8940</td>\n      <td>h</td>\n    </tr>\n    <tr>\n      <th>6684</th>\n      <td>46.3507</td>\n      <td>18.0768</td>\n      <td>3.0999</td>\n      <td>0.2420</td>\n      <td>0.1448</td>\n      <td>5.7083</td>\n      <td>-47.2159</td>\n      <td>-14.1545</td>\n      <td>67.3162</td>\n      <td>234.0607</td>\n      <td>h</td>\n    </tr>\n    <tr>\n      <th>6685</th>\n      <td>17.8190</td>\n      <td>16.3041</td>\n      <td>2.6776</td>\n      <td>0.5168</td>\n      <td>0.2868</td>\n      <td>14.5452</td>\n      <td>12.1542</td>\n      <td>-13.5145</td>\n      <td>5.9996</td>\n      <td>135.2800</td>\n      <td>h</td>\n    </tr>\n    <tr>\n      <th>6686</th>\n      <td>130.4518</td>\n      <td>27.1369</td>\n      <td>3.1999</td>\n      <td>0.3720</td>\n      <td>0.1883</td>\n      <td>-98.1669</td>\n      <td>-109.2498</td>\n      <td>11.2795</td>\n      <td>9.6941</td>\n      <td>385.4177</td>\n      <td>h</td>\n    </tr>\n    <tr>\n      <th>6687</th>\n      <td>74.0906</td>\n      <td>23.1378</td>\n      <td>3.0660</td>\n      <td>0.2526</td>\n      <td>0.1349</td>\n      <td>43.5653</td>\n      <td>70.0424</td>\n      <td>10.7699</td>\n      <td>2.0336</td>\n      <td>250.0983</td>\n      <td>h</td>\n    </tr>\n  </tbody>\n</table>\n<p>13376 rows × 11 columns</p>\n</div>"
     },
     "execution_count": 4,
     "metadata": {},
     "output_type": "execute_result"
    }
   ],
   "source": [
    "g = dataset.groupby('class')\n",
    "g = g.apply(lambda x: x.sample(g.size().min()).reset_index(drop=True))\n",
    "g"
   ],
   "metadata": {
    "collapsed": false,
    "ExecuteTime": {
     "end_time": "2023-10-31T19:20:13.548736Z",
     "start_time": "2023-10-31T19:20:13.534249Z"
    }
   },
   "id": "70087533be96da3d"
  },
  {
   "cell_type": "code",
   "execution_count": 5,
   "outputs": [],
   "source": [
    "#splitting the dataset\n",
    "X = g.iloc[:, :-1].values\n",
    "y = g.iloc[:, -1].values"
   ],
   "metadata": {
    "collapsed": false,
    "ExecuteTime": {
     "end_time": "2023-10-31T19:20:13.557539Z",
     "start_time": "2023-10-31T19:20:13.548623Z"
    }
   },
   "id": "f7598c248dca952a"
  },
  {
   "cell_type": "code",
   "execution_count": 6,
   "outputs": [
    {
     "data": {
      "text/plain": "array([[ 28.6808,  12.9785,   2.5484, ...,  -3.6762,   5.8695, 104.39  ],\n       [ 34.5936,  22.723 ,   2.9423, ..., -14.4034,   7.1144, 128.761 ],\n       [ 13.3406,  10.5094,   2.3021, ...,  11.8011,  60.8194, 192.924 ],\n       ...,\n       [ 17.819 ,  16.3041,   2.6776, ..., -13.5145,   5.9996, 135.28  ],\n       [130.4518,  27.1369,   3.1999, ...,  11.2795,   9.6941, 385.4177],\n       [ 74.0906,  23.1378,   3.066 , ...,  10.7699,   2.0336, 250.0983]])"
     },
     "execution_count": 6,
     "metadata": {},
     "output_type": "execute_result"
    }
   ],
   "source": [
    "X"
   ],
   "metadata": {
    "collapsed": false,
    "ExecuteTime": {
     "end_time": "2023-10-31T19:20:13.557864Z",
     "start_time": "2023-10-31T19:20:13.550939Z"
    }
   },
   "id": "35d8cea9608523ae"
  },
  {
   "cell_type": "code",
   "execution_count": 7,
   "outputs": [
    {
     "data": {
      "text/plain": "array(['g', 'g', 'g', ..., 'h', 'h', 'h'], dtype=object)"
     },
     "execution_count": 7,
     "metadata": {},
     "output_type": "execute_result"
    }
   ],
   "source": [
    "y"
   ],
   "metadata": {
    "collapsed": false,
    "ExecuteTime": {
     "end_time": "2023-10-31T19:20:13.566673Z",
     "start_time": "2023-10-31T19:20:13.553454Z"
    }
   },
   "id": "59d7885ba7f12455"
  },
  {
   "cell_type": "code",
   "execution_count": 8,
   "outputs": [
    {
     "data": {
      "text/plain": "array([0, 0, 0, ..., 1, 1, 1])"
     },
     "execution_count": 8,
     "metadata": {},
     "output_type": "execute_result"
    }
   ],
   "source": [
    "# Encoding categorical data\n",
    "from sklearn.preprocessing import LabelEncoder\n",
    "\n",
    "e = LabelEncoder()\n",
    "y = e.fit_transform(y)\n",
    "y"
   ],
   "metadata": {
    "collapsed": false,
    "ExecuteTime": {
     "end_time": "2023-10-31T19:20:14.036544Z",
     "start_time": "2023-10-31T19:20:13.556800Z"
    }
   },
   "id": "b5cc2fceffe40a9c"
  },
  {
   "cell_type": "code",
   "execution_count": 9,
   "outputs": [
    {
     "data": {
      "text/plain": "array([[-0.60703026, -0.51099124, -0.61583255, ..., -0.17068565,\n        -0.94419361, -1.18790032],\n       [-0.48125018, -0.04487179,  0.21391793, ..., -0.63344206,\n        -0.89796162, -0.86833416],\n       [-0.93335477, -0.62909843, -1.13466359, ...,  0.49698342,\n         1.09648696, -0.02699306],\n       ...,\n       [-0.83808797, -0.35191414, -0.34367271, ..., -0.59509616,\n        -0.93936207, -0.78285339],\n       [ 1.55789407,  0.16626317,  0.75655241, ...,  0.47448232,\n        -0.80215901,  2.49709186],\n       [ 0.35895004, -0.02503021,  0.47449202, ...,  0.45249889,\n        -1.08664786,  0.7227083 ]])"
     },
     "execution_count": 9,
     "metadata": {},
     "output_type": "execute_result"
    }
   ],
   "source": [
    "#normalizing the dataset\n",
    "from sklearn.preprocessing import StandardScaler\n",
    "sc=StandardScaler()\n",
    "X=sc.fit_transform(X)\n",
    "X"
   ],
   "metadata": {
    "collapsed": false,
    "ExecuteTime": {
     "end_time": "2023-10-31T19:20:14.039778Z",
     "start_time": "2023-10-31T19:20:14.035261Z"
    }
   },
   "id": "cd960b65d44bd728"
  },
  {
   "cell_type": "code",
   "execution_count": 10,
   "outputs": [],
   "source": [
    "#splitting the dataset\n",
    "from sklearn.model_selection import train_test_split\n",
    "\n",
    "X_train, X_test, y_train, y_test = train_test_split(X, y, test_size=0.30, train_size=0.70, random_state=True)\n",
    "X_validation, X_test, y_validation, y_test = train_test_split(X_test, y_test, test_size=0.50, train_size=0.50,\n",
    "                                                              random_state=True)"
   ],
   "metadata": {
    "collapsed": false,
    "ExecuteTime": {
     "end_time": "2023-10-31T19:20:14.089178Z",
     "start_time": "2023-10-31T19:20:14.039713Z"
    }
   },
   "id": "d675039636eb5929"
  },
  {
   "cell_type": "code",
   "execution_count": 11,
   "outputs": [
    {
     "name": "stdout",
     "output_type": "stream",
     "text": [
      "0.7772795216741405\n"
     ]
    }
   ],
   "source": [
    "#fitting the model\n",
    "from sklearn.neighbors import KNeighborsClassifier\n",
    "classifier = KNeighborsClassifier(n_neighbors=1)\n",
    "classifier.fit(X_train, y_train)\n",
    "ypred = classifier.score(X_test, y_test)\n",
    "print(ypred)\n"
   ],
   "metadata": {
    "collapsed": false,
    "ExecuteTime": {
     "end_time": "2023-10-31T19:20:14.201157Z",
     "start_time": "2023-10-31T19:20:14.089578Z"
    }
   },
   "id": "ff86a085b784f9a1"
  },
  {
   "cell_type": "code",
   "execution_count": 12,
   "outputs": [
    {
     "name": "stdout",
     "output_type": "stream",
     "text": [
      "0.7399103139013453\n"
     ]
    }
   ],
   "source": [
    "from sklearn.neighbors import KNeighborsClassifier\n",
    "classifier = KNeighborsClassifier(n_neighbors=1)\n",
    "classifier.fit(X_validation, y_validation)\n",
    "ypred = classifier.score(X_test, y_test)\n",
    "print(ypred)"
   ],
   "metadata": {
    "collapsed": false,
    "ExecuteTime": {
     "end_time": "2023-10-31T19:20:14.237830Z",
     "start_time": "2023-10-31T19:20:14.200229Z"
    }
   },
   "id": "2a0b1f549d5bfde4"
  },
  {
   "cell_type": "code",
   "execution_count": 13,
   "outputs": [],
   "source": [
    "#apply different values of k and choose the best one using cross validation\n",
    "from sklearn.model_selection import GridSearchCV\n",
    "KN = KNeighborsClassifier()\n",
    "k_range = list(range(1, 26,2))\n",
    "param_grid = dict(n_neighbors=k_range)\n",
    "grid=GridSearchCV(KN,param_grid,cv=10,scoring='accuracy',return_train_score=True)\n",
    "g=grid.fit(X_train,y_train)"
   ],
   "metadata": {
    "collapsed": false,
    "ExecuteTime": {
     "end_time": "2023-10-31T19:20:51.116550Z",
     "start_time": "2023-10-31T19:20:14.237498Z"
    }
   },
   "id": "ed63208d44323999"
  },
  {
   "cell_type": "code",
   "execution_count": 14,
   "outputs": [
    {
     "name": "stdout",
     "output_type": "stream",
     "text": [
      "{'n_neighbors': 15}\n",
      "Accuracy for our training dataset with tuning is : 81.37%\n"
     ]
    }
   ],
   "source": [
    "#get the best value of k\n",
    "print(grid.best_params_)\n",
    "accuracy=grid.best_score_*100\n",
    "print(\"Accuracy for our training dataset with tuning is : {:.2f}%\".format(accuracy) )\n"
   ],
   "metadata": {
    "collapsed": false,
    "ExecuteTime": {
     "end_time": "2023-10-31T19:20:51.122581Z",
     "start_time": "2023-10-31T19:20:51.118848Z"
    }
   },
   "id": "9187b719f847c32b"
  },
  {
   "cell_type": "code",
   "execution_count": 15,
   "outputs": [
    {
     "name": "stdout",
     "output_type": "stream",
     "text": [
      "0.7927254608868959\n"
     ]
    }
   ],
   "source": [
    "knn=KNeighborsClassifier(n_neighbors=grid.best_params_['n_neighbors'])\n",
    "knn.fit(X_train,y_train)\n",
    "y_test_pred=knn.predict(X_test)\n",
    "test_accuracy=knn.score(X_test,y_test)\n",
    "print(test_accuracy)"
   ],
   "metadata": {
    "collapsed": false,
    "ExecuteTime": {
     "end_time": "2023-10-31T19:20:51.268530Z",
     "start_time": "2023-10-31T19:20:51.121394Z"
    }
   },
   "id": "800b06f7ffbd0ea3"
  },
  {
   "cell_type": "code",
   "execution_count": 16,
   "outputs": [
    {
     "name": "stdout",
     "output_type": "stream",
     "text": [
      "0.8170488534396809\n"
     ]
    }
   ],
   "source": [
    "knn=KNeighborsClassifier(n_neighbors=grid.best_params_['n_neighbors'])\n",
    "knn.fit(X_train,y_train)\n",
    "y_validation_pred=knn.predict(X_validation)\n",
    "test_accuracy=knn.score(X_validation,y_validation)\n",
    "print(test_accuracy)"
   ],
   "metadata": {
    "collapsed": false,
    "ExecuteTime": {
     "end_time": "2023-10-31T19:20:51.407592Z",
     "start_time": "2023-10-31T19:20:51.267403Z"
    }
   },
   "id": "deb0f9b5a37c56a5"
  },
  {
   "cell_type": "code",
   "execution_count": 17,
   "outputs": [
    {
     "name": "stdout",
     "output_type": "stream",
     "text": [
      "[[862 114]\n",
      " [302 729]]\n",
      "              precision    recall  f1-score   support\n",
      "\n",
      "           0       0.74      0.88      0.81       976\n",
      "           1       0.86      0.71      0.78      1031\n",
      "\n",
      "    accuracy                           0.79      2007\n",
      "   macro avg       0.80      0.80      0.79      2007\n",
      "weighted avg       0.80      0.79      0.79      2007\n"
     ]
    },
    {
     "data": {
      "text/plain": "<Figure size 640x480 with 2 Axes>",
      "image/png": "[encoded data removed]"
     },
     "metadata": {},
     "output_type": "display_data"
    }
   ],
   "source": [
    "#plotting the confusion matrix and classification report\n",
    "from sklearn.metrics import confusion_matrix,classification_report\n",
    "from sklearn.metrics import ConfusionMatrixDisplay\n",
    "cm=confusion_matrix(y_test,y_test_pred)\n",
    "print(cm)\n",
    "print(classification_report(y_test,y_test_pred))\n",
    "disp = ConfusionMatrixDisplay(confusion_matrix=cm,display_labels=['g','h'])\n",
    "disp = disp.plot(cmap=plt.cm.Blues)"
   ],
   "metadata": {
    "collapsed": false,
    "ExecuteTime": {
     "end_time": "2023-10-31T19:20:51.578250Z",
     "start_time": "2023-10-31T19:20:51.406995Z"
    }
   },
   "id": "5ac07f03498cc45c"
  },
  {
   "cell_type": "code",
   "execution_count": 18,
   "outputs": [
    {
     "data": {
      "text/plain": "   param_n_neighbors  mean_train_score  mean_test_score\n0                  1          1.000000         0.788422\n1                  3          0.891713         0.808288\n2                  5          0.866033         0.810959\n3                  7          0.854771         0.813630\n4                  9          0.848209         0.812989\n5                 11          0.841622         0.812348\n6                 13          0.836626         0.812027\n7                 15          0.834455         0.813736\n8                 17          0.831642         0.811172\n9                 19          0.829293         0.813202\n10                21          0.828213         0.811706\n11                23          0.826967         0.810423\n12                25          0.824498         0.811386",
      "text/html": "<div>\n<style scoped>\n    .dataframe tbody tr th:only-of-type {\n        vertical-align: middle;\n    }\n\n    .dataframe tbody tr th {\n        vertical-align: top;\n    }\n\n    .dataframe thead th {\n        text-align: right;\n    }\n</style>\n<table border=\"1\" class=\"dataframe\">\n  <thead>\n    <tr style=\"text-align: right;\">\n      <th></th>\n      <th>param_n_neighbors</th>\n      <th>mean_train_score</th>\n      <th>mean_test_score</th>\n    </tr>\n  </thead>\n  <tbody>\n    <tr>\n      <th>0</th>\n      <td>1</td>\n      <td>1.000000</td>\n      <td>0.788422</td>\n    </tr>\n    <tr>\n      <th>1</th>\n      <td>3</td>\n      <td>0.891713</td>\n      <td>0.808288</td>\n    </tr>\n    <tr>\n      <th>2</th>\n      <td>5</td>\n      <td>0.866033</td>\n      <td>0.810959</td>\n    </tr>\n    <tr>\n      <th>3</th>\n      <td>7</td>\n      <td>0.854771</td>\n      <td>0.813630</td>\n    </tr>\n    <tr>\n      <th>4</th>\n      <td>9</td>\n      <td>0.848209</td>\n      <td>0.812989</td>\n    </tr>\n    <tr>\n      <th>5</th>\n      <td>11</td>\n      <td>0.841622</td>\n      <td>0.812348</td>\n    </tr>\n    <tr>\n      <th>6</th>\n      <td>13</td>\n      <td>0.836626</td>\n      <td>0.812027</td>\n    </tr>\n    <tr>\n      <th>7</th>\n      <td>15</td>\n      <td>0.834455</td>\n      <td>0.813736</td>\n    </tr>\n    <tr>\n      <th>8</th>\n      <td>17</td>\n      <td>0.831642</td>\n      <td>0.811172</td>\n    </tr>\n    <tr>\n      <th>9</th>\n      <td>19</td>\n      <td>0.829293</td>\n      <td>0.813202</td>\n    </tr>\n    <tr>\n      <th>10</th>\n      <td>21</td>\n      <td>0.828213</td>\n      <td>0.811706</td>\n    </tr>\n    <tr>\n      <th>11</th>\n      <td>23</td>\n      <td>0.826967</td>\n      <td>0.810423</td>\n    </tr>\n    <tr>\n      <th>12</th>\n      <td>25</td>\n      <td>0.824498</td>\n      <td>0.811386</td>\n    </tr>\n  </tbody>\n</table>\n</div>"
     },
     "execution_count": 18,
     "metadata": {},
     "output_type": "execute_result"
    }
   ],
   "source": [
    "results = pd.DataFrame(g.cv_results_)\n",
    "needed_results=results[['param_n_neighbors','mean_train_score','mean_test_score']]\n",
    "needed_results"
   ],
   "metadata": {
    "collapsed": false,
    "ExecuteTime": {
     "end_time": "2023-10-31T19:20:51.587204Z",
     "start_time": "2023-10-31T19:20:51.571305Z"
    }
   },
   "id": "81d0489ddb9654ae"
  },
  {
   "cell_type": "code",
   "execution_count": 18,
   "outputs": [],
   "source": [],
   "metadata": {
    "collapsed": false,
    "ExecuteTime": {
     "end_time": "2023-10-31T19:20:51.588094Z",
     "start_time": "2023-10-31T19:20:51.584113Z"
    }
   },
   "id": "15876a934089313"
  }
 ],
 "metadata": {
  "kernelspec": {
   "display_name": "Python 3",
   "language": "python",
   "name": "python3"
  },
  "language_info": {
   "codemirror_mode": {
    "name": "ipython",
    "version": 2
   },
   "file_extension": ".py",
   "mimetype": "text/x-python",
   "name": "python",
   "nbconvert_exporter": "python",
   "pygments_lexer": "ipython2",
   "version": "2.7.6"
  }
 },
 "nbformat": 4,
 "nbformat_minor": 5
}
