{
 "cells": [
  {
   "cell_type": "code",
   "execution_count": 1,
   "id": "initial_id",
   "metadata": {
    "collapsed": true,
    "ExecuteTime": {
     "end_time": "2023-10-27T21:46:07.848426Z",
     "start_time": "2023-10-27T21:46:07.086906Z"
    }
   },
   "outputs": [],
   "source": [
    "import pandas as pd\n",
    "import matplotlib.pyplot as plt\n"
   ]
  },
  {
   "cell_type": "code",
   "execution_count": 2,
   "outputs": [
    {
     "data": {
      "text/plain": "        fLength    fWidth   fSize   fConc  fConc1     fAsym   fM3Long  \\\n0       28.7967   16.0021  2.6449  0.3918  0.1982   27.7004   22.0110   \n1       31.6036   11.7235  2.5185  0.5303  0.3773   26.2722   23.8238   \n2      162.0520  136.0310  4.0612  0.0374  0.0187  116.7410  -64.8580   \n3       23.8172    9.5728  2.3385  0.6147  0.3922   27.2107   -6.4633   \n4       75.1362   30.9205  3.1611  0.3168  0.1832   -5.5277   28.5525   \n...         ...       ...     ...     ...     ...       ...       ...   \n19015   21.3846   10.9170  2.6161  0.5857  0.3934   15.2618   11.5245   \n19016   28.9452    6.7020  2.2672  0.5351  0.2784   37.0816   13.1853   \n19017   75.4455   47.5305  3.4483  0.1417  0.0549   -9.3561   41.0562   \n19018  120.5135   76.9018  3.9939  0.0944  0.0683    5.8043  -93.5224   \n19019  187.1814   53.0014  3.2093  0.2876  0.1539 -167.3125 -168.4558   \n\n       fM3Trans   fAlpha     fDist class  \n0       -8.2027  40.0920   81.8828     g  \n1       -9.9574   6.3609  205.2610     g  \n2      -45.2160  76.9600  256.7880     g  \n3       -7.1513  10.4490  116.7370     g  \n4       21.8393   4.6480  356.4620     g  \n...         ...      ...       ...   ...  \n19015    2.8766   2.4229  106.8258     h  \n19016   -2.9632  86.7975  247.4560     h  \n19017   -9.4662  30.2987  256.5166     h  \n19018  -63.8389  84.6874  408.3166     h  \n19019   31.4755  52.7310  272.3174     h  \n\n[19020 rows x 11 columns]",
      "text/html": "<div>\n<style scoped>\n    .dataframe tbody tr th:only-of-type {\n        vertical-align: middle;\n    }\n\n    .dataframe tbody tr th {\n        vertical-align: top;\n    }\n\n    .dataframe thead th {\n        text-align: right;\n    }\n</style>\n<table border=\"1\" class=\"dataframe\">\n  <thead>\n    <tr style=\"text-align: right;\">\n      <th></th>\n      <th>fLength</th>\n      <th>fWidth</th>\n      <th>fSize</th>\n      <th>fConc</th>\n      <th>fConc1</th>\n      <th>fAsym</th>\n      <th>fM3Long</th>\n      <th>fM3Trans</th>\n      <th>fAlpha</th>\n      <th>fDist</th>\n      <th>class</th>\n    </tr>\n  </thead>\n  <tbody>\n    <tr>\n      <th>0</th>\n      <td>28.7967</td>\n      <td>16.0021</td>\n      <td>2.6449</td>\n      <td>0.3918</td>\n      <td>0.1982</td>\n      <td>27.7004</td>\n      <td>22.0110</td>\n      <td>-8.2027</td>\n      <td>40.0920</td>\n      <td>81.8828</td>\n      <td>g</td>\n    </tr>\n    <tr>\n      <th>1</th>\n      <td>31.6036</td>\n      <td>11.7235</td>\n      <td>2.5185</td>\n      <td>0.5303</td>\n      <td>0.3773</td>\n      <td>26.2722</td>\n      <td>23.8238</td>\n      <td>-9.9574</td>\n      <td>6.3609</td>\n      <td>205.2610</td>\n      <td>g</td>\n    </tr>\n    <tr>\n      <th>2</th>\n      <td>162.0520</td>\n      <td>136.0310</td>\n      <td>4.0612</td>\n      <td>0.0374</td>\n      <td>0.0187</td>\n      <td>116.7410</td>\n      <td>-64.8580</td>\n      <td>-45.2160</td>\n      <td>76.9600</td>\n      <td>256.7880</td>\n      <td>g</td>\n    </tr>\n    <tr>\n      <th>3</th>\n      <td>23.8172</td>\n      <td>9.5728</td>\n      <td>2.3385</td>\n      <td>0.6147</td>\n      <td>0.3922</td>\n      <td>27.2107</td>\n      <td>-6.4633</td>\n      <td>-7.1513</td>\n      <td>10.4490</td>\n      <td>116.7370</td>\n      <td>g</td>\n    </tr>\n    <tr>\n      <th>4</th>\n      <td>75.1362</td>\n      <td>30.9205</td>\n      <td>3.1611</td>\n      <td>0.3168</td>\n      <td>0.1832</td>\n      <td>-5.5277</td>\n      <td>28.5525</td>\n      <td>21.8393</td>\n      <td>4.6480</td>\n      <td>356.4620</td>\n      <td>g</td>\n    </tr>\n    <tr>\n      <th>...</th>\n      <td>...</td>\n      <td>...</td>\n      <td>...</td>\n      <td>...</td>\n      <td>...</td>\n      <td>...</td>\n      <td>...</td>\n      <td>...</td>\n      <td>...</td>\n      <td>...</td>\n      <td>...</td>\n    </tr>\n    <tr>\n      <th>19015</th>\n      <td>21.3846</td>\n      <td>10.9170</td>\n      <td>2.6161</td>\n      <td>0.5857</td>\n      <td>0.3934</td>\n      <td>15.2618</td>\n      <td>11.5245</td>\n      <td>2.8766</td>\n      <td>2.4229</td>\n      <td>106.8258</td>\n      <td>h</td>\n    </tr>\n    <tr>\n      <th>19016</th>\n      <td>28.9452</td>\n      <td>6.7020</td>\n      <td>2.2672</td>\n      <td>0.5351</td>\n      <td>0.2784</td>\n      <td>37.0816</td>\n      <td>13.1853</td>\n      <td>-2.9632</td>\n      <td>86.7975</td>\n      <td>247.4560</td>\n      <td>h</td>\n    </tr>\n    <tr>\n      <th>19017</th>\n      <td>75.4455</td>\n      <td>47.5305</td>\n      <td>3.4483</td>\n      <td>0.1417</td>\n      <td>0.0549</td>\n      <td>-9.3561</td>\n      <td>41.0562</td>\n      <td>-9.4662</td>\n      <td>30.2987</td>\n      <td>256.5166</td>\n      <td>h</td>\n    </tr>\n    <tr>\n      <th>19018</th>\n      <td>120.5135</td>\n      <td>76.9018</td>\n      <td>3.9939</td>\n      <td>0.0944</td>\n      <td>0.0683</td>\n      <td>5.8043</td>\n      <td>-93.5224</td>\n      <td>-63.8389</td>\n      <td>84.6874</td>\n      <td>408.3166</td>\n      <td>h</td>\n    </tr>\n    <tr>\n      <th>19019</th>\n      <td>187.1814</td>\n      <td>53.0014</td>\n      <td>3.2093</td>\n      <td>0.2876</td>\n      <td>0.1539</td>\n      <td>-167.3125</td>\n      <td>-168.4558</td>\n      <td>31.4755</td>\n      <td>52.7310</td>\n      <td>272.3174</td>\n      <td>h</td>\n    </tr>\n  </tbody>\n</table>\n<p>19020 rows × 11 columns</p>\n</div>"
     },
     "execution_count": 2,
     "metadata": {},
     "output_type": "execute_result"
    }
   ],
   "source": [
    "# Importing the dataset\n",
    "column_name = ['fLength', 'fWidth', 'fSize', 'fConc', 'fConc1', 'fAsym', 'fM3Long', 'fM3Trans', 'fAlpha', 'fDist',\n",
    "               'class']\n",
    "dataset = pd.read_csv('magic04.data', names=column_name)\n",
    "dataset"
   ],
   "metadata": {
    "collapsed": false,
    "ExecuteTime": {
     "end_time": "2023-10-27T21:46:07.881433Z",
     "start_time": "2023-10-27T21:46:07.847723Z"
    }
   },
   "id": "444a7ec63163a107"
  },
  {
   "cell_type": "code",
   "execution_count": 3,
   "outputs": [
    {
     "data": {
      "text/plain": "class\ng    12332\nh     6688\nName: count, dtype: int64"
     },
     "execution_count": 3,
     "metadata": {},
     "output_type": "execute_result"
    }
   ],
   "source": [
    "#balance the dataset\n",
    "dataset['class'].value_counts()\n"
   ],
   "metadata": {
    "collapsed": false,
    "ExecuteTime": {
     "end_time": "2023-10-27T21:46:07.881799Z",
     "start_time": "2023-10-27T21:46:07.875102Z"
    }
   },
   "id": "6c81e1651fc37c2f"
  },
  {
   "cell_type": "code",
   "execution_count": 4,
   "outputs": [
    {
     "data": {
      "text/plain": "            fLength   fWidth   fSize   fConc  fConc1    fAsym  fM3Long  \\\nclass                                                                    \ng     0     12.7273  11.6358  2.1804  0.7129  0.3927 -15.5745   8.9228   \n      1     44.5336  12.8520  2.5971  0.4147  0.2541 -35.9658 -11.9196   \n      2     20.1393   7.3303  2.0394  0.7215  0.3973  -1.3678   7.9287   \n      3     39.7201  18.5253  2.9222  0.2883  0.1740   4.6451  34.6454   \n      4     33.7556  27.8646  3.0519  0.1837  0.0989  14.9282  -8.5632   \n...             ...      ...     ...     ...     ...      ...      ...   \nh     6683  49.7923  10.4327  2.9738  0.3579  0.1875  -0.5596  27.6367   \n      6684  54.8547  12.4319  2.9284  0.2983  0.1539  10.8605  31.7523   \n      6685  91.7180  75.6788  3.5625  0.2100  0.1247 -19.6040  59.6146   \n      6686  29.5565   9.7677  2.6609  0.4943  0.2450  23.6265  15.0559   \n      6687  46.5004  37.2673  2.7930  0.2540  0.1683  12.3916 -32.4707   \n\n            fM3Trans   fAlpha     fDist class  \nclass                                          \ng     0       9.5077  35.6940  204.8950     g  \n      1      12.9971  13.0420  221.5550     g  \n      2       5.4482  48.7460  113.8170     g  \n      3      12.4572  10.5050  162.2080     g  \n      4     -16.8618   8.8460  143.6180     g  \n...              ...      ...       ...   ...  \nh     6683   -5.1558  45.1940  157.4620     h  \n      6684    9.4073  70.2890  247.6970     h  \n      6685  -60.5589  53.5527  302.1030     h  \n      6686  -13.8156  25.3811  121.8509     h  \n      6687  -25.6942  80.6529  204.5836     h  \n\n[13376 rows x 11 columns]",
      "text/html": "<div>\n<style scoped>\n    .dataframe tbody tr th:only-of-type {\n        vertical-align: middle;\n    }\n\n    .dataframe tbody tr th {\n        vertical-align: top;\n    }\n\n    .dataframe thead th {\n        text-align: right;\n    }\n</style>\n<table border=\"1\" class=\"dataframe\">\n  <thead>\n    <tr style=\"text-align: right;\">\n      <th></th>\n      <th></th>\n      <th>fLength</th>\n      <th>fWidth</th>\n      <th>fSize</th>\n      <th>fConc</th>\n      <th>fConc1</th>\n      <th>fAsym</th>\n      <th>fM3Long</th>\n      <th>fM3Trans</th>\n      <th>fAlpha</th>\n      <th>fDist</th>\n      <th>class</th>\n    </tr>\n    <tr>\n      <th>class</th>\n      <th></th>\n      <th></th>\n      <th></th>\n      <th></th>\n      <th></th>\n      <th></th>\n      <th></th>\n      <th></th>\n      <th></th>\n      <th></th>\n      <th></th>\n      <th></th>\n    </tr>\n  </thead>\n  <tbody>\n    <tr>\n      <th rowspan=\"5\" valign=\"top\">g</th>\n      <th>0</th>\n      <td>12.7273</td>\n      <td>11.6358</td>\n      <td>2.1804</td>\n      <td>0.7129</td>\n      <td>0.3927</td>\n      <td>-15.5745</td>\n      <td>8.9228</td>\n      <td>9.5077</td>\n      <td>35.6940</td>\n      <td>204.8950</td>\n      <td>g</td>\n    </tr>\n    <tr>\n      <th>1</th>\n      <td>44.5336</td>\n      <td>12.8520</td>\n      <td>2.5971</td>\n      <td>0.4147</td>\n      <td>0.2541</td>\n      <td>-35.9658</td>\n      <td>-11.9196</td>\n      <td>12.9971</td>\n      <td>13.0420</td>\n      <td>221.5550</td>\n      <td>g</td>\n    </tr>\n    <tr>\n      <th>2</th>\n      <td>20.1393</td>\n      <td>7.3303</td>\n      <td>2.0394</td>\n      <td>0.7215</td>\n      <td>0.3973</td>\n      <td>-1.3678</td>\n      <td>7.9287</td>\n      <td>5.4482</td>\n      <td>48.7460</td>\n      <td>113.8170</td>\n      <td>g</td>\n    </tr>\n    <tr>\n      <th>3</th>\n      <td>39.7201</td>\n      <td>18.5253</td>\n      <td>2.9222</td>\n      <td>0.2883</td>\n      <td>0.1740</td>\n      <td>4.6451</td>\n      <td>34.6454</td>\n      <td>12.4572</td>\n      <td>10.5050</td>\n      <td>162.2080</td>\n      <td>g</td>\n    </tr>\n    <tr>\n      <th>4</th>\n      <td>33.7556</td>\n      <td>27.8646</td>\n      <td>3.0519</td>\n      <td>0.1837</td>\n      <td>0.0989</td>\n      <td>14.9282</td>\n      <td>-8.5632</td>\n      <td>-16.8618</td>\n      <td>8.8460</td>\n      <td>143.6180</td>\n      <td>g</td>\n    </tr>\n    <tr>\n      <th>...</th>\n      <th>...</th>\n      <td>...</td>\n      <td>...</td>\n      <td>...</td>\n      <td>...</td>\n      <td>...</td>\n      <td>...</td>\n      <td>...</td>\n      <td>...</td>\n      <td>...</td>\n      <td>...</td>\n      <td>...</td>\n    </tr>\n    <tr>\n      <th rowspan=\"5\" valign=\"top\">h</th>\n      <th>6683</th>\n      <td>49.7923</td>\n      <td>10.4327</td>\n      <td>2.9738</td>\n      <td>0.3579</td>\n      <td>0.1875</td>\n      <td>-0.5596</td>\n      <td>27.6367</td>\n      <td>-5.1558</td>\n      <td>45.1940</td>\n      <td>157.4620</td>\n      <td>h</td>\n    </tr>\n    <tr>\n      <th>6684</th>\n      <td>54.8547</td>\n      <td>12.4319</td>\n      <td>2.9284</td>\n      <td>0.2983</td>\n      <td>0.1539</td>\n      <td>10.8605</td>\n      <td>31.7523</td>\n      <td>9.4073</td>\n      <td>70.2890</td>\n      <td>247.6970</td>\n      <td>h</td>\n    </tr>\n    <tr>\n      <th>6685</th>\n      <td>91.7180</td>\n      <td>75.6788</td>\n      <td>3.5625</td>\n      <td>0.2100</td>\n      <td>0.1247</td>\n      <td>-19.6040</td>\n      <td>59.6146</td>\n      <td>-60.5589</td>\n      <td>53.5527</td>\n      <td>302.1030</td>\n      <td>h</td>\n    </tr>\n    <tr>\n      <th>6686</th>\n      <td>29.5565</td>\n      <td>9.7677</td>\n      <td>2.6609</td>\n      <td>0.4943</td>\n      <td>0.2450</td>\n      <td>23.6265</td>\n      <td>15.0559</td>\n      <td>-13.8156</td>\n      <td>25.3811</td>\n      <td>121.8509</td>\n      <td>h</td>\n    </tr>\n    <tr>\n      <th>6687</th>\n      <td>46.5004</td>\n      <td>37.2673</td>\n      <td>2.7930</td>\n      <td>0.2540</td>\n      <td>0.1683</td>\n      <td>12.3916</td>\n      <td>-32.4707</td>\n      <td>-25.6942</td>\n      <td>80.6529</td>\n      <td>204.5836</td>\n      <td>h</td>\n    </tr>\n  </tbody>\n</table>\n<p>13376 rows × 11 columns</p>\n</div>"
     },
     "execution_count": 4,
     "metadata": {},
     "output_type": "execute_result"
    }
   ],
   "source": [
    "g = dataset.groupby('class')\n",
    "g = g.apply(lambda x: x.sample(g.size().min()).reset_index(drop=True))\n",
    "g"
   ],
   "metadata": {
    "collapsed": false,
    "ExecuteTime": {
     "end_time": "2023-10-27T21:46:07.893941Z",
     "start_time": "2023-10-27T21:46:07.879155Z"
    }
   },
   "id": "70087533be96da3d"
  },
  {
   "cell_type": "code",
   "execution_count": 5,
   "outputs": [],
   "source": [
    "#splitting the dataset\n",
    "X = g.iloc[:, :-1].values\n",
    "y = g.iloc[:, -1].values"
   ],
   "metadata": {
    "collapsed": false,
    "ExecuteTime": {
     "end_time": "2023-10-27T21:46:07.894492Z",
     "start_time": "2023-10-27T21:46:07.893216Z"
    }
   },
   "id": "f7598c248dca952a"
  },
  {
   "cell_type": "code",
   "execution_count": 6,
   "outputs": [
    {
     "data": {
      "text/plain": "array([[ 12.7273,  11.6358,   2.1804, ...,   9.5077,  35.694 , 204.895 ],\n       [ 44.5336,  12.852 ,   2.5971, ...,  12.9971,  13.042 , 221.555 ],\n       [ 20.1393,   7.3303,   2.0394, ...,   5.4482,  48.746 , 113.817 ],\n       ...,\n       [ 91.718 ,  75.6788,   3.5625, ..., -60.5589,  53.5527, 302.103 ],\n       [ 29.5565,   9.7677,   2.6609, ..., -13.8156,  25.3811, 121.8509],\n       [ 46.5004,  37.2673,   2.793 , ..., -25.6942,  80.6529, 204.5836]])"
     },
     "execution_count": 6,
     "metadata": {},
     "output_type": "execute_result"
    }
   ],
   "source": [
    "X"
   ],
   "metadata": {
    "collapsed": false,
    "ExecuteTime": {
     "end_time": "2023-10-27T21:46:07.897307Z",
     "start_time": "2023-10-27T21:46:07.895533Z"
    }
   },
   "id": "35d8cea9608523ae"
  },
  {
   "cell_type": "code",
   "execution_count": 7,
   "outputs": [
    {
     "data": {
      "text/plain": "array(['g', 'g', 'g', ..., 'h', 'h', 'h'], dtype=object)"
     },
     "execution_count": 7,
     "metadata": {},
     "output_type": "execute_result"
    }
   ],
   "source": [
    "y"
   ],
   "metadata": {
    "collapsed": false,
    "ExecuteTime": {
     "end_time": "2023-10-27T21:46:07.899571Z",
     "start_time": "2023-10-27T21:46:07.898166Z"
    }
   },
   "id": "59d7885ba7f12455"
  },
  {
   "cell_type": "code",
   "execution_count": 8,
   "outputs": [
    {
     "data": {
      "text/plain": "array([0, 0, 0, ..., 1, 1, 1])"
     },
     "execution_count": 8,
     "metadata": {},
     "output_type": "execute_result"
    }
   ],
   "source": [
    "# Encoding categorical data\n",
    "from sklearn.preprocessing import LabelEncoder\n",
    "\n",
    "e = LabelEncoder()\n",
    "y = e.fit_transform(y)\n",
    "y"
   ],
   "metadata": {
    "collapsed": false,
    "ExecuteTime": {
     "end_time": "2023-10-27T21:46:08.467515Z",
     "start_time": "2023-10-27T21:46:07.900118Z"
    }
   },
   "id": "b5cc2fceffe40a9c"
  },
  {
   "cell_type": "code",
   "execution_count": 9,
   "outputs": [
    {
     "data": {
      "text/plain": "array([[-0.94489483, -0.57738849, -1.3864604 , ...,  0.39953257,\n         0.15091003,  0.12738862],\n       [-0.26851949, -0.51907969, -0.51151302, ...,  0.54986586,\n        -0.68921127,  0.34497304],\n       [-0.7872753 , -0.78380892, -1.68251891, ...,  0.22463774,\n         0.63498487, -1.0621164 ],\n       ...,\n       [ 0.73487808,  2.49305246,  1.51554289, ..., -2.61913614,\n         0.81325659,  1.39695321],\n       [-0.58701429, -0.66695161, -0.3775518 , ..., -0.60530163,\n        -0.23157659, -0.95719134],\n       [-0.2266946 ,  0.65147348, -0.10018067, ..., -1.11706556,\n         1.8183535 ,  0.12332164]])"
     },
     "execution_count": 9,
     "metadata": {},
     "output_type": "execute_result"
    }
   ],
   "source": [
    "#normalizing the dataset\n",
    "from sklearn.preprocessing import StandardScaler\n",
    "sc=StandardScaler()\n",
    "X=sc.fit_transform(X)\n",
    "X"
   ],
   "metadata": {
    "collapsed": false,
    "ExecuteTime": {
     "end_time": "2023-10-27T21:46:08.468406Z",
     "start_time": "2023-10-27T21:46:08.455587Z"
    }
   },
   "id": "cd960b65d44bd728"
  },
  {
   "cell_type": "code",
   "execution_count": 10,
   "outputs": [],
   "source": [
    "#splitting the dataset\n",
    "from sklearn.model_selection import train_test_split\n",
    "\n",
    "X_train, X_test, y_train, y_test = train_test_split(X, y, test_size=0.30, train_size=0.70, random_state=True)\n",
    "X_validation, X_test, y_validation, y_test = train_test_split(X_test, y_test, test_size=0.50, train_size=0.50,\n",
    "                                                              random_state=True)"
   ],
   "metadata": {
    "collapsed": false,
    "ExecuteTime": {
     "end_time": "2023-10-27T21:46:08.514139Z",
     "start_time": "2023-10-27T21:46:08.462359Z"
    }
   },
   "id": "d675039636eb5929"
  },
  {
   "cell_type": "code",
   "execution_count": 11,
   "outputs": [
    {
     "name": "stdout",
     "output_type": "stream",
     "text": [
      "0.7852516193323368\n"
     ]
    }
   ],
   "source": [
    "#fitting the model\n",
    "from sklearn.neighbors import KNeighborsClassifier\n",
    "classifier = KNeighborsClassifier(n_neighbors=1)\n",
    "classifier.fit(X_train, y_train)\n",
    "ypred = classifier.score(X_test, y_test)\n",
    "print(ypred)\n"
   ],
   "metadata": {
    "collapsed": false,
    "ExecuteTime": {
     "end_time": "2023-10-27T21:46:08.626902Z",
     "start_time": "2023-10-27T21:46:08.514945Z"
    }
   },
   "id": "ff86a085b784f9a1"
  },
  {
   "cell_type": "code",
   "execution_count": 12,
   "outputs": [],
   "source": [
    "#apply different values of k and choose the best one using cross validation\n",
    "from sklearn.model_selection import GridSearchCV\n",
    "KN = KNeighborsClassifier()\n",
    "k_range = list(range(1, 26))\n",
    "param_grid = dict(n_neighbors=k_range)\n",
    "grid=GridSearchCV(KN,param_grid,cv=10,scoring='accuracy',return_train_score=True)\n",
    "g=grid.fit(X_train,y_train)"
   ],
   "metadata": {
    "collapsed": false,
    "ExecuteTime": {
     "end_time": "2023-10-27T21:47:22.765467Z",
     "start_time": "2023-10-27T21:46:08.626503Z"
    }
   },
   "id": "ed63208d44323999"
  },
  {
   "cell_type": "code",
   "execution_count": 13,
   "outputs": [
    {
     "name": "stdout",
     "output_type": "stream",
     "text": [
      "{'n_neighbors': 11}\n",
      "Accuracy for our training dataset with tuning is : 81.41%\n"
     ]
    }
   ],
   "source": [
    "#get the best value of k\n",
    "print(grid.best_params_)\n",
    "accuracy=grid.best_score_*100\n",
    "print(\"Accuracy for our training dataset with tuning is : {:.2f}%\".format(accuracy) )\n"
   ],
   "metadata": {
    "collapsed": false,
    "ExecuteTime": {
     "end_time": "2023-10-27T21:47:22.766654Z",
     "start_time": "2023-10-27T21:47:22.764227Z"
    }
   },
   "id": "9187b719f847c32b"
  },
  {
   "cell_type": "code",
   "execution_count": 14,
   "outputs": [
    {
     "name": "stdout",
     "output_type": "stream",
     "text": [
      "0.8016940707523668\n"
     ]
    }
   ],
   "source": [
    "knn=KNeighborsClassifier(n_neighbors=grid.best_params_['n_neighbors'])\n",
    "knn.fit(X_train,y_train)\n",
    "y_test_pred=knn.predict(X_test)\n",
    "test_accuracy=knn.score(X_test,y_test)\n",
    "print(test_accuracy)"
   ],
   "metadata": {
    "collapsed": false,
    "ExecuteTime": {
     "end_time": "2023-10-27T21:47:22.908617Z",
     "start_time": "2023-10-27T21:47:22.766188Z"
    }
   },
   "id": "800b06f7ffbd0ea3"
  },
  {
   "cell_type": "code",
   "execution_count": 15,
   "outputs": [
    {
     "name": "stdout",
     "output_type": "stream",
     "text": [
      "[[868 108]\n",
      " [290 741]]\n",
      "              precision    recall  f1-score   support\n",
      "\n",
      "           0       0.75      0.89      0.81       976\n",
      "           1       0.87      0.72      0.79      1031\n",
      "\n",
      "    accuracy                           0.80      2007\n",
      "   macro avg       0.81      0.80      0.80      2007\n",
      "weighted avg       0.81      0.80      0.80      2007\n"
     ]
    },
    {
     "data": {
      "text/plain": "<Figure size 640x480 with 2 Axes>",
      "image/png": "[encoded data removed]"
     },
     "metadata": {},
     "output_type": "display_data"
    }
   ],
   "source": [
    "#plotting the confusion matrix and classification report\n",
    "from sklearn.metrics import confusion_matrix,classification_report\n",
    "from sklearn.metrics import ConfusionMatrixDisplay\n",
    "cm=confusion_matrix(y_test,y_test_pred)\n",
    "print(cm)\n",
    "print(classification_report(y_test,y_test_pred))\n",
    "disp = ConfusionMatrixDisplay(confusion_matrix=cm,display_labels=['g','h'])\n",
    "disp = disp.plot(cmap=plt.cm.Blues)"
   ],
   "metadata": {
    "collapsed": false,
    "ExecuteTime": {
     "end_time": "2023-10-27T21:47:23.171701Z",
     "start_time": "2023-10-27T21:47:22.907960Z"
    }
   },
   "id": "5ac07f03498cc45c"
  },
  {
   "cell_type": "code",
   "execution_count": 16,
   "outputs": [
    {
     "data": {
      "text/plain": "   param_n_neighbors  mean_train_score  mean_test_score\n0                  1          1.000000         0.785434\n1                  2          0.872061         0.773256\n2                  3          0.895333         0.801880\n3                  4          0.855863         0.796327\n4                  5          0.864324         0.809142\n5                  6          0.844352         0.801667\n6                  7          0.851531         0.809036\n7                  8          0.837422         0.803696\n8                  9          0.844850         0.811921\n9                 10          0.836009         0.810959\n10                11          0.839486         0.814056\n11                12          0.832876         0.809463\n12                13          0.835997         0.812242\n13                14          0.830467         0.808503\n14                15          0.833458         0.810638\n15                16          0.827441         0.807433\n16                17          0.830705         0.811493\n17                18          0.826124         0.809143\n18                19          0.829174         0.811493\n19                20          0.825020         0.808930\n20                21          0.827691         0.812241\n21                22          0.824237         0.808182\n22                23          0.826836         0.811278\n23                24          0.823454         0.808715\n24                25          0.825768         0.810210",
      "text/html": "<div>\n<style scoped>\n    .dataframe tbody tr th:only-of-type {\n        vertical-align: middle;\n    }\n\n    .dataframe tbody tr th {\n        vertical-align: top;\n    }\n\n    .dataframe thead th {\n        text-align: right;\n    }\n</style>\n<table border=\"1\" class=\"dataframe\">\n  <thead>\n    <tr style=\"text-align: right;\">\n      <th></th>\n      <th>param_n_neighbors</th>\n      <th>mean_train_score</th>\n      <th>mean_test_score</th>\n    </tr>\n  </thead>\n  <tbody>\n    <tr>\n      <th>0</th>\n      <td>1</td>\n      <td>1.000000</td>\n      <td>0.785434</td>\n    </tr>\n    <tr>\n      <th>1</th>\n      <td>2</td>\n      <td>0.872061</td>\n      <td>0.773256</td>\n    </tr>\n    <tr>\n      <th>2</th>\n      <td>3</td>\n      <td>0.895333</td>\n      <td>0.801880</td>\n    </tr>\n    <tr>\n      <th>3</th>\n      <td>4</td>\n      <td>0.855863</td>\n      <td>0.796327</td>\n    </tr>\n    <tr>\n      <th>4</th>\n      <td>5</td>\n      <td>0.864324</td>\n      <td>0.809142</td>\n    </tr>\n    <tr>\n      <th>5</th>\n      <td>6</td>\n      <td>0.844352</td>\n      <td>0.801667</td>\n    </tr>\n    <tr>\n      <th>6</th>\n      <td>7</td>\n      <td>0.851531</td>\n      <td>0.809036</td>\n    </tr>\n    <tr>\n      <th>7</th>\n      <td>8</td>\n      <td>0.837422</td>\n      <td>0.803696</td>\n    </tr>\n    <tr>\n      <th>8</th>\n      <td>9</td>\n      <td>0.844850</td>\n      <td>0.811921</td>\n    </tr>\n    <tr>\n      <th>9</th>\n      <td>10</td>\n      <td>0.836009</td>\n      <td>0.810959</td>\n    </tr>\n    <tr>\n      <th>10</th>\n      <td>11</td>\n      <td>0.839486</td>\n      <td>0.814056</td>\n    </tr>\n    <tr>\n      <th>11</th>\n      <td>12</td>\n      <td>0.832876</td>\n      <td>0.809463</td>\n    </tr>\n    <tr>\n      <th>12</th>\n      <td>13</td>\n      <td>0.835997</td>\n      <td>0.812242</td>\n    </tr>\n    <tr>\n      <th>13</th>\n      <td>14</td>\n      <td>0.830467</td>\n      <td>0.808503</td>\n    </tr>\n    <tr>\n      <th>14</th>\n      <td>15</td>\n      <td>0.833458</td>\n      <td>0.810638</td>\n    </tr>\n    <tr>\n      <th>15</th>\n      <td>16</td>\n      <td>0.827441</td>\n      <td>0.807433</td>\n    </tr>\n    <tr>\n      <th>16</th>\n      <td>17</td>\n      <td>0.830705</td>\n      <td>0.811493</td>\n    </tr>\n    <tr>\n      <th>17</th>\n      <td>18</td>\n      <td>0.826124</td>\n      <td>0.809143</td>\n    </tr>\n    <tr>\n      <th>18</th>\n      <td>19</td>\n      <td>0.829174</td>\n      <td>0.811493</td>\n    </tr>\n    <tr>\n      <th>19</th>\n      <td>20</td>\n      <td>0.825020</td>\n      <td>0.808930</td>\n    </tr>\n    <tr>\n      <th>20</th>\n      <td>21</td>\n      <td>0.827691</td>\n      <td>0.812241</td>\n    </tr>\n    <tr>\n      <th>21</th>\n      <td>22</td>\n      <td>0.824237</td>\n      <td>0.808182</td>\n    </tr>\n    <tr>\n      <th>22</th>\n      <td>23</td>\n      <td>0.826836</td>\n      <td>0.811278</td>\n    </tr>\n    <tr>\n      <th>23</th>\n      <td>24</td>\n      <td>0.823454</td>\n      <td>0.808715</td>\n    </tr>\n    <tr>\n      <th>24</th>\n      <td>25</td>\n      <td>0.825768</td>\n      <td>0.810210</td>\n    </tr>\n  </tbody>\n</table>\n</div>"
     },
     "execution_count": 16,
     "metadata": {},
     "output_type": "execute_result"
    }
   ],
   "source": [
    "#compare the \n",
    "results = pd.DataFrame(g.cv_results_)\n",
    "needed_results=results[['param_n_neighbors','mean_train_score','mean_test_score']]\n",
    "needed_results"
   ],
   "metadata": {
    "collapsed": false,
    "ExecuteTime": {
     "end_time": "2023-10-27T21:47:23.182253Z",
     "start_time": "2023-10-27T21:47:23.172427Z"
    }
   },
   "id": "81d0489ddb9654ae"
  },
  {
   "cell_type": "code",
   "execution_count": 16,
   "outputs": [],
   "source": [],
   "metadata": {
    "collapsed": false,
    "ExecuteTime": {
     "end_time": "2023-10-27T21:47:23.187834Z",
     "start_time": "2023-10-27T21:47:23.183840Z"
    }
   },
   "id": "15876a934089313"
  }
 ],
 "metadata": {
  "kernelspec": {
   "display_name": "Python 3",
   "language": "python",
   "name": "python3"
  },
  "language_info": {
   "codemirror_mode": {
    "name": "ipython",
    "version": 2
   },
   "file_extension": ".py",
   "mimetype": "text/x-python",
   "name": "python",
   "nbconvert_exporter": "python",
   "pygments_lexer": "ipython2",
   "version": "2.7.6"
  }
 },
 "nbformat": 4,
 "nbformat_minor": 5
}
