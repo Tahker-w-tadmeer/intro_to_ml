{
 "cells": [
  {
   "cell_type": "code",
   "execution_count": 44,
   "id": "initial_id",
   "metadata": {
    "collapsed": true,
    "ExecuteTime": {
     "end_time": "2023-11-16T14:50:08.798348Z",
     "start_time": "2023-11-16T14:50:08.790069Z"
    }
   },
   "outputs": [],
   "source": [
    "from torchvision import datasets,transforms\n",
    "from sklearn.model_selection import train_test_split\n",
    "from  torch.utils.data import DataLoader "
   ]
  },
  {
   "cell_type": "code",
   "execution_count": 45,
   "id": "134d80cd80e6f814",
   "metadata": {
    "collapsed": false,
    "ExecuteTime": {
     "end_time": "2023-11-16T14:50:08.848449Z",
     "start_time": "2023-11-16T14:50:08.793524Z"
    }
   },
   "outputs": [
    {
     "name": "stdout",
     "output_type": "stream",
     "text": [
      "60000\n",
      "10000\n"
     ]
    }
   ],
   "source": [
    "trans=transforms.Compose([\n",
    "    transforms.ToTensor(),#it is like numpy array for pytorch  \n",
    "    transforms.Normalize((0.5,),(0.5,)) #this normalizes the data between -1 and 1\n",
    "])\n",
    "#download the data\n",
    "train_data=datasets.MNIST(\n",
    "    root=\"./data\",\n",
    "    train=True,\n",
    "    transform=trans,\n",
    ")\n",
    "test_data=datasets.MNIST(\n",
    "    root=\"./data\",\n",
    "    transform=trans,\n",
    "    train=False,\n",
    ")\n",
    "#print the length of the data\n",
    "print(len(train_data))\n",
    "print(len(test_data))\n"
   ]
  },
  {
   "cell_type": "code",
   "execution_count": 46,
   "id": "60b6fbedc7a298ac",
   "metadata": {
    "collapsed": false,
    "ExecuteTime": {
     "end_time": "2023-11-16T14:50:10.831437Z",
     "start_time": "2023-11-16T14:50:08.851134Z"
    }
   },
   "outputs": [
    {
     "name": "stdout",
     "output_type": "stream",
     "text": [
      "48000\n",
      "12000\n"
     ]
    }
   ],
   "source": [
    "#split the data into train and validation using sklearn\n",
    "train_data,val_data=train_test_split(train_data,test_size=0.2,random_state=42, stratify=train_data.targets)\n",
    "print(len(train_data))\n",
    "print(len(val_data))"
   ]
  },
  {
   "cell_type": "code",
   "execution_count": 47,
   "id": "6712ae889a1f85b8",
   "metadata": {
    "collapsed": false,
    "ExecuteTime": {
     "end_time": "2023-11-16T14:50:10.927366Z",
     "start_time": "2023-11-16T14:50:10.831323Z"
    }
   },
   "outputs": [],
   "source": [
    "#load the data using dataloader\n",
    "#what does data loder do?it loads the data in batches-it shuffles the data-it makes the data iterable\n",
    "#what is the batch size?it is the number of samples that will be passed through the network at once\n",
    "#what is shuffle?it shuffles the data so that the model will not learn the order of the data\n",
    "train_loader=DataLoader(train_data,batch_size=64,shuffle=True)\n",
    "val_loader=DataLoader(val_data,batch_size=64,shuffle=True)\n",
    "test_loader=DataLoader(test_data,batch_size=64,shuffle=True)"
   ]
  },
  {
   "cell_type": "code",
   "execution_count": 48,
   "id": "712d18eb7771c075",
   "metadata": {
    "collapsed": false,
    "ExecuteTime": {
     "end_time": "2023-11-16T14:50:10.931006Z",
     "start_time": "2023-11-16T14:50:10.928743Z"
    }
   },
   "outputs": [
    {
     "name": "stdout",
     "output_type": "stream",
     "text": [
      "750\n",
      "188\n",
      "157\n"
     ]
    }
   ],
   "source": [
    "print(len(train_loader))\n",
    "#750 is the number of batches it came from 48000(the length of the train dataset)/64=750 \n",
    "print(len(val_loader))\n",
    "#188 is the number of batches it came from 12000(the length of the validation dataset)/64=188\n",
    "print(len(test_loader))\n",
    "#157 is the number of batches it came from 10000(the length of the test dataset)/64=157"
   ]
  },
  {
   "cell_type": "code",
   "execution_count": 49,
   "metadata": {
    "ExecuteTime": {
     "end_time": "2023-11-16T14:50:10.933439Z",
     "start_time": "2023-11-16T14:50:10.931459Z"
    }
   },
   "outputs": [],
   "source": [
    "import torch.nn as n\n",
    "import torch.nn.functional as f\n",
    "from torch import optim"
   ],
   "id": "8c74d2a693103fdc"
  },
  {
   "cell_type": "code",
   "execution_count": 50,
   "outputs": [],
   "source": [
    "# class nn_model(n.Module):\n",
    "#     def __init__(self, *args, **kwargs):\n",
    "#         super().__init__(*args, **kwargs)\n",
    "#         l1=n.Module.linear(28*28,200)\n",
    "#         l2=n.Module.linear(200,100)\n",
    "#         l3=n.Module.linear(100,10)\n",
    "#     def forward(self,x):\n",
    "#             x=f.relu(self.l1(x))\n",
    "#             x=f.relu(self.l2(x))\n",
    "#             x=self.l3(x)\n",
    "#             return x\n",
    "class neural_model(n.Module):\n",
    "    def __init__(self):\n",
    "        super().__init__()\n",
    "        self.layers=n.Sequential(\n",
    "            n.Linear(28*28,200),\n",
    "            n.ReLU(),\n",
    "            n.Linear(200,100),\n",
    "            n.ReLU(),\n",
    "            n.Linear(100,10),\n",
    "            n.LogSoftmax(dim=1)\n",
    "        )\n",
    "        self.loss=n.CrossEntropyLoss()\n",
    "        self.lr=0.01\n",
    "        self.optimizer=optim.SGD(self.parameters(),lr=self.lr)\n",
    "    def forward(self,x):\n",
    "        x=self.layers(x)\n",
    "        return x\n",
    "        "
   ],
   "metadata": {
    "collapsed": false,
    "ExecuteTime": {
     "end_time": "2023-11-16T14:50:10.935943Z",
     "start_time": "2023-11-16T14:50:10.934582Z"
    }
   },
   "id": "30c6422519d215a3"
  },
  {
   "cell_type": "code",
   "execution_count": 51,
   "outputs": [],
   "source": [
    "model=neural_model()"
   ],
   "metadata": {
    "collapsed": false,
    "ExecuteTime": {
     "end_time": "2023-11-16T14:50:10.938621Z",
     "start_time": "2023-11-16T14:50:10.936933Z"
    }
   },
   "id": "a052cb08ab970243"
  },
  {
   "cell_type": "code",
   "execution_count": 52,
   "outputs": [
    {
     "ename": "TypeError",
     "evalue": "'int' object is not iterable",
     "output_type": "error",
     "traceback": [
      "\u001B[0;31m---------------------------------------------------------------------------\u001B[0m",
      "\u001B[0;31mTypeError\u001B[0m                                 Traceback (most recent call last)",
      "Cell \u001B[0;32mIn[52], line 7\u001B[0m\n\u001B[1;32m      5\u001B[0m train_acc \u001B[38;5;241m=\u001B[39m []\n\u001B[1;32m      6\u001B[0m val_acc \u001B[38;5;241m=\u001B[39m []\n\u001B[0;32m----> 7\u001B[0m \u001B[38;5;28;43;01mfor\u001B[39;49;00m\u001B[43m \u001B[49m\u001B[43mepoch\u001B[49m\u001B[43m \u001B[49m\u001B[38;5;129;43;01min\u001B[39;49;00m\u001B[43m \u001B[49m\u001B[43mepochs\u001B[49m\u001B[43m:\u001B[49m\n\u001B[1;32m      8\u001B[0m \u001B[43m    \u001B[49m\u001B[43mtrain_loss\u001B[49m\u001B[38;5;241;43m=\u001B[39;49m\u001B[38;5;241;43m0\u001B[39;49m\n\u001B[1;32m      9\u001B[0m \u001B[43m    \u001B[49m\u001B[43mval_loss\u001B[49m\u001B[38;5;241;43m=\u001B[39;49m\u001B[38;5;241;43m0\u001B[39;49m\n",
      "\u001B[0;31mTypeError\u001B[0m: 'int' object is not iterable"
     ]
    }
   ],
   "source": [
    "#train the model\n",
    "epochs=10\n",
    "train_losses = []\n",
    "val_losses = []\n",
    "train_acc = []\n",
    "val_acc = []\n",
    "for epoch in epochs:\n",
    "    \n"
   ],
   "metadata": {
    "collapsed": false,
    "ExecuteTime": {
     "end_time": "2023-11-16T14:50:10.977366Z",
     "start_time": "2023-11-16T14:50:10.944010Z"
    }
   },
   "id": "b27bc4c28826b7ca"
  },
  {
   "cell_type": "code",
   "execution_count": null,
   "outputs": [],
   "source": [],
   "metadata": {
    "collapsed": false,
    "ExecuteTime": {
     "start_time": "2023-11-16T14:50:10.960160Z"
    }
   },
   "id": "1f7b27f88b824d34"
  },
  {
   "cell_type": "code",
   "execution_count": null,
   "outputs": [],
   "source": [],
   "metadata": {
    "collapsed": false,
    "ExecuteTime": {
     "start_time": "2023-11-16T14:50:10.960936Z"
    }
   },
   "id": "77629e47172061ed"
  }
 ],
 "metadata": {
  "kernelspec": {
   "display_name": "Python 3",
   "language": "python",
   "name": "python3"
  },
  "language_info": {
   "codemirror_mode": {
    "name": "ipython",
    "version": 3
   },
   "file_extension": ".py",
   "mimetype": "text/x-python",
   "name": "python",
   "nbconvert_exporter": "python",
   "pygments_lexer": "ipython3",
   "version": "3.11.4"
  }
 },
 "nbformat": 4,
 "nbformat_minor": 5
}
