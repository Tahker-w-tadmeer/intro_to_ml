{
 "cells": [
  {
   "cell_type": "code",
   "execution_count": 91,
   "id": "initial_id",
   "metadata": {
    "collapsed": true,
    "ExecuteTime": {
     "end_time": "2023-11-16T21:05:55.266612Z",
     "start_time": "2023-11-16T21:05:55.264163Z"
    }
   },
   "outputs": [],
   "source": [
    "import torch\n",
    "from torchvision import datasets, transforms\n",
    "from sklearn.model_selection import train_test_split\n",
    "from torch.utils.data import DataLoader"
   ]
  },
  {
   "cell_type": "code",
   "execution_count": 92,
   "id": "134d80cd80e6f814",
   "metadata": {
    "collapsed": false,
    "ExecuteTime": {
     "end_time": "2023-11-16T21:05:55.334311Z",
     "start_time": "2023-11-16T21:05:55.268579Z"
    }
   },
   "outputs": [
    {
     "name": "stdout",
     "output_type": "stream",
     "text": [
      "60000\n",
      "10000\n"
     ]
    }
   ],
   "source": [
    "trans = transforms.Compose([\n",
    "    transforms.ToTensor(),  #it is like numpy array for pytorch  \n",
    "    transforms.Normalize((0.5,), (0.5,))  #this normalizes the data between -1 and 1\n",
    "])\n",
    "#download the data\n",
    "train_data = datasets.MNIST(\n",
    "    root=\"./data\",\n",
    "    train=True,\n",
    "    transform=trans,\n",
    ")\n",
    "test_data = datasets.MNIST(\n",
    "    root=\"./data\",\n",
    "    transform=trans,\n",
    "    train=False,\n",
    ")\n",
    "#print the length of the data\n",
    "print(len(train_data))\n",
    "print(len(test_data))\n"
   ]
  },
  {
   "cell_type": "code",
   "execution_count": 93,
   "id": "60b6fbedc7a298ac",
   "metadata": {
    "collapsed": false,
    "ExecuteTime": {
     "end_time": "2023-11-16T21:05:57.320472Z",
     "start_time": "2023-11-16T21:05:55.334912Z"
    }
   },
   "outputs": [
    {
     "name": "stdout",
     "output_type": "stream",
     "text": [
      "48000\n",
      "12000\n"
     ]
    }
   ],
   "source": [
    "#split the data into train and validation using sklearn\n",
    "train_data, val_data = train_test_split(train_data, test_size=0.2, random_state=42, stratify=train_data.targets)\n",
    "print(len(train_data))\n",
    "print(len(val_data))"
   ]
  },
  {
   "cell_type": "code",
   "execution_count": 94,
   "id": "6712ae889a1f85b8",
   "metadata": {
    "collapsed": false,
    "ExecuteTime": {
     "end_time": "2023-11-16T21:05:57.410876Z",
     "start_time": "2023-11-16T21:05:57.321254Z"
    }
   },
   "outputs": [],
   "source": [
    "#load the data using dataloader\n",
    "#what does data loder do?it loads the data in batches-it shuffles the data-it makes the data iterable\n",
    "#what is the batch size?it is the number of samples that will be passed through the network at once\n",
    "#what is shuffle?it shuffles the data so that the model will not learn the order of the data\n",
    "batch_sz = 16\n",
    "train_loader = DataLoader(train_data, batch_size=batch_sz, shuffle=True)\n",
    "val_loader = DataLoader(val_data, batch_size=batch_sz, shuffle=True)\n",
    "test_loader = DataLoader(test_data, batch_size=batch_sz, shuffle=True)"
   ]
  },
  {
   "cell_type": "code",
   "execution_count": 95,
   "id": "712d18eb7771c075",
   "metadata": {
    "collapsed": false,
    "ExecuteTime": {
     "end_time": "2023-11-16T21:05:57.416644Z",
     "start_time": "2023-11-16T21:05:57.412609Z"
    }
   },
   "outputs": [
    {
     "name": "stdout",
     "output_type": "stream",
     "text": [
      "3000\n",
      "750\n",
      "625\n"
     ]
    }
   ],
   "source": [
    "print(len(train_loader))\n",
    "#750 is the number of batches it came from 48000(the length of the train dataset)/64=750 \n",
    "print(len(val_loader))\n",
    "#188 is the number of batches it came from 12000(the length of the validation dataset)/64=188\n",
    "print(len(test_loader))\n",
    "#157 is the number of batches it came from 10000(the length of the test dataset)/64=157"
   ]
  },
  {
   "cell_type": "code",
   "execution_count": 96,
   "id": "8c74d2a693103fdc",
   "metadata": {
    "ExecuteTime": {
     "end_time": "2023-11-16T21:05:57.417131Z",
     "start_time": "2023-11-16T21:05:57.415608Z"
    }
   },
   "outputs": [],
   "source": [
    "import torch.nn as n\n",
    "import torch.nn.functional as f\n",
    "from torch import optim"
   ]
  },
  {
   "cell_type": "code",
   "execution_count": 97,
   "id": "30c6422519d215a3",
   "metadata": {
    "collapsed": false,
    "ExecuteTime": {
     "end_time": "2023-11-16T21:05:57.421026Z",
     "start_time": "2023-11-16T21:05:57.419204Z"
    }
   },
   "outputs": [],
   "source": [
    "class neural_model(n.Module):\n",
    "    def __init__(self):\n",
    "        super().__init__()\n",
    "        self.layers = n.Sequential(\n",
    "            n.Flatten(),\n",
    "            n.Linear(28 * 28, 200),#input layer=28*28=784 output layer=200\n",
    "            n.Softplus(),\n",
    "            n.Linear(200, 100),#input layer=200 output layer=100\n",
    "            n.Softplus(),\n",
    "            n.Linear(100, 10),#input layer=100 output layer=10\n",
    "             n.LogSoftmax(dim=1)\n",
    "        )\n",
    "        self.loss = n.CrossEntropyLoss()\n",
    "        self.learning_rate = 0.01\n",
    "        self.optimizer = optim.SGD(self.parameters(), lr=self.learning_rate)\n",
    "\n",
    "    def forward(self, x):\n",
    "        x = self.layers(x)\n",
    "        return x\n",
    "\n",
    "    def fit(self, x, y):\n",
    "        self.optimizer.zero_grad()  #this is to reset the gradients to zero\n",
    "        y_pred = self.forward(x)  #this is to get the predictions\n",
    "        loss = self.loss(y_pred, y)  #this is to get the loss\n",
    "        loss.backward()  #this is to backpropagate the loss\n",
    "        self.optimizer.step()  #this is to update the weights\n",
    "        return loss.item()  #this is to return the loss\n",
    "    def predict(self, x):\n",
    "        y_pred = torch.argmax(self.forward(x))\n",
    "        return y_pred\n"
   ]
  },
  {
   "cell_type": "code",
   "execution_count": 98,
   "id": "a052cb08ab970243",
   "metadata": {
    "collapsed": false,
    "ExecuteTime": {
     "end_time": "2023-11-16T21:05:57.425331Z",
     "start_time": "2023-11-16T21:05:57.422466Z"
    }
   },
   "outputs": [],
   "source": [
    "model = neural_model()"
   ]
  },
  {
   "cell_type": "code",
   "execution_count": 99,
   "id": "b27bc4c28826b7ca",
   "metadata": {
    "collapsed": false,
    "ExecuteTime": {
     "end_time": "2023-11-16T21:06:05.074124Z",
     "start_time": "2023-11-16T21:05:57.426441Z"
    }
   },
   "outputs": [],
   "source": [
    "#train the model\n",
    "epochs = 5\n",
    "train_losses = []\n",
    "val_losses = []\n",
    "train_acc = []\n",
    "val_acc = []\n",
    "for epoch in range(epochs):\n",
    "    train_loss = 0\n",
    "    val_loss = 0\n",
    "    train_accuracy = 0\n",
    "    val_accuracy = 0\n",
    "    for x, y in train_loader:\n",
    "        train_loss += model.fit(x, y)\n",
    "    train_losses.append(train_loss / len(train_loader))\n",
    "    for x, y in val_loader:\n",
    "        val_loss += model.fit(x, y)\n",
    "    val_losses.append(val_loss / len(val_loader))\n",
    "    \n",
    "    # print(f\"Epoch {epoch+1}/{epochs} train loss: {train_loss / len(train_loader)}\")    \n"
   ]
  },
  {
   "cell_type": "code",
   "execution_count": 100,
   "outputs": [
    {
     "data": {
      "text/plain": "<Figure size 640x480 with 1 Axes>",
      "image/png": "[encoded data removed]"
     },
     "metadata": {},
     "output_type": "display_data"
    }
   ],
   "source": [
    "#plot the losses\n",
    "import matplotlib.pyplot as plt\n",
    "plt.plot(train_losses, label=\"train loss\")\n",
    "plt.plot(val_losses, label=\"val loss\")\n",
    "plt.legend()\n",
    "plt.show()"
   ],
   "metadata": {
    "collapsed": false,
    "ExecuteTime": {
     "end_time": "2023-11-16T21:06:05.137617Z",
     "start_time": "2023-11-16T21:06:05.087812Z"
    }
   },
   "id": "221eb7dabcbd9780"
  },
  {
   "cell_type": "code",
   "execution_count": 100,
   "outputs": [],
   "source": [
    "#get the accuracy and plot it\n",
    "for x,y in train_loader:\n",
    "    y_pred = model.predict(x)\n"
   ],
   "metadata": {
    "collapsed": false,
    "ExecuteTime": {
     "end_time": "2023-11-16T21:06:05.139799Z",
     "start_time": "2023-11-16T21:06:05.136858Z"
    }
   },
   "id": "993361eac7926fb7"
  }
 ],
 "metadata": {
  "kernelspec": {
   "display_name": "Python 3",
   "language": "python",
   "name": "python3"
  },
  "language_info": {
   "codemirror_mode": {
    "name": "ipython",
    "version": 3
   },
   "file_extension": ".py",
   "mimetype": "text/x-python",
   "name": "python",
   "nbconvert_exporter": "python",
   "pygments_lexer": "ipython3",
   "version": "3.11.4"
  }
 },
 "nbformat": 4,
 "nbformat_minor": 5
}
