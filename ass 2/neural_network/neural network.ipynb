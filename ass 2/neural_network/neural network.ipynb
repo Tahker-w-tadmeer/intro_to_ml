{
 "cells": [
  {
   "cell_type": "code",
   "execution_count": 35,
   "id": "initial_id",
   "metadata": {
    "collapsed": true,
    "ExecuteTime": {
     "end_time": "2023-11-17T19:35:40.811099Z",
     "start_time": "2023-11-17T19:35:40.809728Z"
    }
   },
   "outputs": [],
   "source": [
    "import torch\n",
    "from torchvision import datasets, transforms\n",
    "from sklearn.model_selection import train_test_split\n",
    "from torch.utils.data import DataLoader"
   ]
  },
  {
   "cell_type": "code",
   "execution_count": 36,
   "id": "134d80cd80e6f814",
   "metadata": {
    "collapsed": false,
    "ExecuteTime": {
     "end_time": "2023-11-17T19:35:40.867864Z",
     "start_time": "2023-11-17T19:35:40.812645Z"
    }
   },
   "outputs": [
    {
     "name": "stdout",
     "output_type": "stream",
     "text": [
      "60000\n",
      "10000\n"
     ]
    }
   ],
   "source": [
    "trans = transforms.Compose([\n",
    "    transforms.ToTensor(),  #it is like numpy array for pytorch  \n",
    "    transforms.Normalize((0.5,), (0.5,))  #this normalizes the data between -1 and 1\n",
    "])\n",
    "#download the data\n",
    "train_data = datasets.MNIST(\n",
    "    root=\"./data\",\n",
    "    train=True,\n",
    "    transform=trans,\n",
    ")\n",
    "test_data = datasets.MNIST(\n",
    "    root=\"./data\",\n",
    "    transform=trans,\n",
    "    train=False,\n",
    ")\n",
    "#print the length of the data\n",
    "print(len(train_data))\n",
    "print(len(test_data))\n"
   ]
  },
  {
   "cell_type": "code",
   "execution_count": 37,
   "id": "60b6fbedc7a298ac",
   "metadata": {
    "collapsed": false,
    "ExecuteTime": {
     "end_time": "2023-11-17T19:35:42.856238Z",
     "start_time": "2023-11-17T19:35:40.868764Z"
    }
   },
   "outputs": [
    {
     "name": "stdout",
     "output_type": "stream",
     "text": [
      "48000\n",
      "12000\n"
     ]
    }
   ],
   "source": [
    "#split the data into train and validation using sklearn\n",
    "train_data, val_data = train_test_split(train_data, test_size=0.2, random_state=42, stratify=train_data.targets)\n",
    "print(len(train_data))\n",
    "print(len(val_data))"
   ]
  },
  {
   "cell_type": "code",
   "execution_count": 38,
   "id": "6712ae889a1f85b8",
   "metadata": {
    "collapsed": false,
    "ExecuteTime": {
     "end_time": "2023-11-17T19:35:42.909586Z",
     "start_time": "2023-11-17T19:35:42.854329Z"
    }
   },
   "outputs": [],
   "source": [
    "#load the data using dataloader\n",
    "#what does data loder do?it loads the data in batches-it shuffles the data-it makes the data iterable\n",
    "#what is the batch size?it is the number of samples that will be passed through the network at once\n",
    "#what is shuffle?it shuffles the data so that the model will not learn the order of the data\n",
    "batch_sz = 16\n",
    "train_loader = DataLoader(train_data, batch_size=batch_sz, shuffle=True)\n",
    "val_loader = DataLoader(val_data, batch_size=batch_sz, shuffle=True)\n",
    "test_loader = DataLoader(test_data, batch_size=batch_sz, shuffle=True)"
   ]
  },
  {
   "cell_type": "code",
   "execution_count": 39,
   "id": "712d18eb7771c075",
   "metadata": {
    "collapsed": false,
    "ExecuteTime": {
     "end_time": "2023-11-17T19:35:42.914582Z",
     "start_time": "2023-11-17T19:35:42.910657Z"
    }
   },
   "outputs": [
    {
     "name": "stdout",
     "output_type": "stream",
     "text": [
      "3000\n",
      "750\n",
      "625\n"
     ]
    }
   ],
   "source": [
    "print(len(train_loader))\n",
    "#750 is the number of batches it came from 48000(the length of the train dataset)/64=750 \n",
    "print(len(val_loader))\n",
    "#188 is the number of batches it came from 12000(the length of the validation dataset)/64=188\n",
    "print(len(test_loader))\n",
    "#157 is the number of batches it came from 10000(the length of the test dataset)/64=157"
   ]
  },
  {
   "cell_type": "code",
   "execution_count": 40,
   "id": "8c74d2a693103fdc",
   "metadata": {
    "ExecuteTime": {
     "end_time": "2023-11-17T19:35:42.918703Z",
     "start_time": "2023-11-17T19:35:42.913352Z"
    }
   },
   "outputs": [],
   "source": [
    "import torch.nn as n\n",
    "from torch import optim"
   ]
  },
  {
   "cell_type": "code",
   "execution_count": 41,
   "id": "30c6422519d215a3",
   "metadata": {
    "collapsed": false,
    "ExecuteTime": {
     "end_time": "2023-11-17T19:35:42.919235Z",
     "start_time": "2023-11-17T19:35:42.915025Z"
    }
   },
   "outputs": [],
   "source": [
    "class neural_model(n.Module):\n",
    "    def __init__(self, lr):\n",
    "        super().__init__()\n",
    "        self.layers = n.Sequential(\n",
    "            n.Flatten(),\n",
    "            n.Linear(28 * 28, 400),  #input layer_input=28*28=784 output layer_input=200\n",
    "            n.LayerNorm(400),  # Layer Normalization to speed up the training process\n",
    "            n.Dropout(0.5),  #droping out the unwanted overfiting features\n",
    "            n.Linear(400, 200),  #input h_layer_1=200 output h_layer_2=100\n",
    "            n.ReLU(),\n",
    "            n.Linear(200, 100),  #input h_layer_2=200 output h_layer_2=100\n",
    "            n.ReLU(),\n",
    "            n.Linear(100, 10),  #input output_layer=100 output output_layer=10\n",
    "            n.LogSoftmax(dim=1)\n",
    "        )\n",
    "        self.loss = n.CrossEntropyLoss()\n",
    "        self.learning_rate = lr\n",
    "        self.optimizer = optim.SGD(self.parameters(), lr=self.learning_rate)\n",
    "\n",
    "    def forward(self, x):\n",
    "        x = self.layers(x)\n",
    "        return x\n",
    "\n",
    "    def fit(self, x, y):\n",
    "        self.optimizer.zero_grad()  #this is to reset the gradients to zero\n",
    "        y_output = self.forward(x)  #this is to get the predictions\n",
    "        loss = self.loss(y_output, y)  #this is to get the loss\n",
    "        loss.backward()  #this is to backpropagate the loss\n",
    "        self.optimizer.step()  #this is to update the weights\n",
    "        return loss.item()  #this is to return the loss\n",
    "\n",
    "    def predict(self, x):\n",
    "        with torch.no_grad():\n",
    "            output = self.forward(x)\n",
    "            _, predicted = torch.max(output, 1)\n",
    "        return predicted\n",
    "\n"
   ]
  },
  {
   "cell_type": "code",
   "execution_count": 42,
   "id": "a052cb08ab970243",
   "metadata": {
    "collapsed": false,
    "ExecuteTime": {
     "end_time": "2023-11-17T19:35:42.927977Z",
     "start_time": "2023-11-17T19:35:42.920176Z"
    }
   },
   "outputs": [],
   "source": [
    "model = neural_model(0.01)"
   ]
  },
  {
   "cell_type": "code",
   "execution_count": 43,
   "id": "b27bc4c28826b7ca",
   "metadata": {
    "collapsed": false,
    "ExecuteTime": {
     "end_time": "2023-11-17T19:36:03.472149Z",
     "start_time": "2023-11-17T19:35:42.932667Z"
    }
   },
   "outputs": [],
   "source": [
    "#train the model\n",
    "epochs = 5\n",
    "train_losses = []\n",
    "val_losses = []\n",
    "train_acc = []\n",
    "val_acc = []\n",
    "for epoch in range(epochs):\n",
    "    train_loss = 0\n",
    "    val_loss = 0\n",
    "    train_accuracy = 0\n",
    "    val_accuracy = 0\n",
    "    model.eval()\n",
    "    for x, y in train_loader:\n",
    "        train_loss += model.fit(x, y)\n",
    "        train_accuracy += torch.sum(model.predict(x) == y).item()\n",
    "\n",
    "    train_losses.append(train_loss / len(train_loader))\n",
    "    train_acc.append(train_accuracy / len(train_data))\n",
    "    for x, y in val_loader:\n",
    "        val_loss += model.fit(x, y)\n",
    "        val_accuracy += torch.sum(model.predict(x) == y).item()\n",
    "    val_losses.append(val_loss / len(val_loader))\n",
    "    val_acc.append(val_accuracy / len(val_data))\n",
    "\n"
   ]
  },
  {
   "cell_type": "code",
   "execution_count": 44,
   "id": "221eb7dabcbd9780",
   "metadata": {
    "collapsed": false,
    "ExecuteTime": {
     "end_time": "2023-11-17T19:36:03.673461Z",
     "start_time": "2023-11-17T19:36:03.506602Z"
    }
   },
   "outputs": [
    {
     "data": {
      "text/plain": "<Figure size 640x480 with 1 Axes>",
      "image/png": "[encoded data removed]"
     },
     "metadata": {},
     "output_type": "display_data"
    },
    {
     "data": {
      "text/plain": "<Figure size 640x480 with 1 Axes>",
      "image/png": "[encoded data removed]"
     },
     "metadata": {},
     "output_type": "display_data"
    }
   ],
   "source": [
    "#plot the losses - the loss should decrease\n",
    "#plot the accuracy - the accuracy should increase\n",
    "import matplotlib.pyplot as plt\n",
    "\n",
    "plt.plot(train_losses, label=\"train loss\")\n",
    "plt.plot(val_losses, label=\"val loss\")\n",
    "plt.legend()\n",
    "plt.show()\n",
    "plt.plot(train_acc, label=\"train accuracy\")\n",
    "plt.plot(val_acc, label=\"val accuracy\")\n",
    "plt.legend()\n",
    "plt.show()"
   ]
  },
  {
   "cell_type": "code",
   "execution_count": 45,
   "id": "993361eac7926fb7",
   "metadata": {
    "collapsed": false,
    "ExecuteTime": {
     "end_time": "2023-11-17T19:36:05.089545Z",
     "start_time": "2023-11-17T19:36:03.675259Z"
    }
   },
   "outputs": [],
   "source": [
    "#get the accuracy and plot it\n",
    "for x, y in train_loader:\n",
    "    y_pred = model.predict(x)\n"
   ]
  },
  {
   "cell_type": "code",
   "execution_count": 46,
   "id": "7b41b1cc7b5322b1",
   "metadata": {
    "ExecuteTime": {
     "end_time": "2023-11-17T19:36:41.351302Z",
     "start_time": "2023-11-17T19:36:05.089285Z"
    }
   },
   "outputs": [
    {
     "name": "stdout",
     "output_type": "stream",
     "text": [
      "lr: 0.5, batch size: 20, train loss: 2.30835184743007, train accuracy: 0.14027083333333334 %\n",
      "lr: 0.5, batch size: 20, val loss: 230.8818497657776, val accuracy: 11.233333333333333 %\n",
      "-------------------------------------------------\n",
      "lr: 0.5, batch size: 45, train loss: 2.3065839370166237, train accuracy: 0.1299375 %\n",
      "lr: 0.5, batch size: 45, val loss: 230.20171636945744, val accuracy: 11.233333333333333 %\n",
      "-------------------------------------------------\n",
      "lr: 0.5, batch size: 85, train loss: 2.1548628347109906, train accuracy: 0.24575 %\n",
      "lr: 0.5, batch size: 85, val loss: 130.1109167891489, val accuracy: 48.70833333333333 %\n",
      "-------------------------------------------------\n",
      "lr: 0.5, batch size: 125, train loss: 2.237191411977013, train accuracy: 0.2125 %\n",
      "lr: 0.5, batch size: 125, val loss: 165.64986109733582, val accuracy: 35.775 %\n",
      "-------------------------------------------------\n",
      "lr: 0.5, batch size: 280, train loss: nan, train accuracy: 0.1275625 %\n",
      "lr: 0.5, batch size: 280, val loss: nan, val accuracy: 9.875 %\n",
      "-------------------------------------------------\n",
      "lr: 0.05, batch size: 20, train loss: 0.45207142748210266, train accuracy: 0.9231666666666667 %\n",
      "lr: 0.05, batch size: 20, val loss: 20.369794696879882, val accuracy: 93.60000000000001 %\n",
      "-------------------------------------------------\n",
      "lr: 0.05, batch size: 45, train loss: 0.5090995057055686, train accuracy: 0.8875 %\n",
      "lr: 0.05, batch size: 45, val loss: 24.532890805367675, val accuracy: 92.23333333333333 %\n",
      "-------------------------------------------------\n",
      "lr: 0.05, batch size: 85, train loss: 0.5937534783002549, train accuracy: 0.8486041666666667 %\n",
      "lr: 0.05, batch size: 85, val loss: 30.889185119262883, val accuracy: 90.06666666666666 %\n",
      "-------------------------------------------------\n",
      "lr: 0.05, batch size: 125, train loss: 0.7043851160366709, train accuracy: 0.809625 %\n",
      "lr: 0.05, batch size: 125, val loss: 33.12503456448515, val accuracy: 89.25 %\n",
      "-------------------------------------------------\n",
      "lr: 0.05, batch size: 280, train loss: 1.0072087167307389, train accuracy: 0.7082708333333333 %\n",
      "lr: 0.05, batch size: 280, val loss: 38.115291747935984, val accuracy: 88.53333333333333 %\n",
      "-------------------------------------------------\n",
      "lr: 0.005, batch size: 20, train loss: 0.7315822289170076, train accuracy: 0.8183541666666667 %\n",
      "lr: 0.005, batch size: 20, val loss: 31.833100698888302, val accuracy: 90.3 %\n",
      "-------------------------------------------------\n",
      "lr: 0.005, batch size: 45, train loss: 1.1465715759249637, train accuracy: 0.7082083333333333 %\n",
      "lr: 0.005, batch size: 45, val loss: 40.62151268738486, val accuracy: 88.41666666666667 %\n",
      "-------------------------------------------------\n",
      "lr: 0.005, batch size: 85, train loss: 1.6122789591814564, train accuracy: 0.5415625 %\n",
      "lr: 0.005, batch size: 85, val loss: 73.50747849739773, val accuracy: 81.26666666666667 %\n",
      "-------------------------------------------------\n",
      "lr: 0.005, batch size: 125, train loss: 1.9314538119360805, train accuracy: 0.435125 %\n",
      "lr: 0.005, batch size: 125, val loss: 117.69470348954201, val accuracy: 76.16666666666667 %\n",
      "-------------------------------------------------\n",
      "lr: 0.005, batch size: 280, train loss: 2.250548222730326, train accuracy: 0.23045833333333332 %\n",
      "lr: 0.005, batch size: 280, val loss: 213.01096372826157, val accuracy: 42.266666666666666 %\n",
      "-------------------------------------------------\n",
      "lr: 0.0005, batch size: 20, train loss: 2.201386109093825, train accuracy: 0.2605625 %\n",
      "lr: 0.0005, batch size: 20, val loss: 192.57189923524857, val accuracy: 60.0 %\n",
      "-------------------------------------------------\n",
      "lr: 0.0005, batch size: 45, train loss: 2.25804119704478, train accuracy: 0.20895833333333333 %\n",
      "lr: 0.0005, batch size: 45, val loss: 216.89624875672303, val accuracy: 44.65833333333333 %\n",
      "-------------------------------------------------\n",
      "lr: 0.0005, batch size: 85, train loss: 2.293204418536836, train accuracy: 0.11464583333333334 %\n",
      "lr: 0.0005, batch size: 85, val loss: 226.04491274121781, val accuracy: 24.083333333333336 %\n",
      "-------------------------------------------------\n",
      "lr: 0.0005, batch size: 125, train loss: 2.298908061037461, train accuracy: 0.1113125 %\n",
      "lr: 0.0005, batch size: 125, val loss: 226.67484680811563, val accuracy: 16.208333333333332 %\n",
      "-------------------------------------------------\n",
      "lr: 0.0005, batch size: 280, train loss: 2.310146082279294, train accuracy: 0.08827083333333334 %\n",
      "lr: 0.0005, batch size: 280, val loss: 229.51783413110775, val accuracy: 8.858333333333333 %\n",
      "-------------------------------------------------\n",
      "lr: 5e-05, batch size: 20, train loss: 2.2985922216375667, train accuracy: 0.11120833333333334 %\n",
      "lr: 5e-05, batch size: 20, val loss: 228.5356495777766, val accuracy: 14.458333333333334 %\n",
      "-------------------------------------------------\n",
      "lr: 5e-05, batch size: 45, train loss: 2.3024198555343043, train accuracy: 0.11379166666666667 %\n",
      "lr: 5e-05, batch size: 45, val loss: 229.60262030697942, val accuracy: 11.966666666666667 %\n",
      "-------------------------------------------------\n",
      "lr: 5e-05, batch size: 85, train loss: 2.314084786440419, train accuracy: 0.09783333333333333 %\n",
      "lr: 5e-05, batch size: 85, val loss: 230.8320827887092, val accuracy: 10.408333333333333 %\n",
      "-------------------------------------------------\n",
      "lr: 5e-05, batch size: 125, train loss: 2.3075764067471027, train accuracy: 0.095875 %\n",
      "lr: 5e-05, batch size: 125, val loss: 230.05063757300377, val accuracy: 9.333333333333334 %\n",
      "-------------------------------------------------\n",
      "lr: 5e-05, batch size: 280, train loss: 2.3157471265903737, train accuracy: 0.07160416666666666 %\n",
      "lr: 5e-05, batch size: 280, val loss: 231.43070464910465, val accuracy: 6.25 %\n",
      "-------------------------------------------------\n"
     ]
    }
   ],
   "source": [
    "learning_rates = [0.5, 0.05, 0.005, 0.0005, 0.00005]\n",
    "batch_sizes = [20, 45, 85, 125, 280]\n",
    "results = []\n",
    "\n",
    "for lr in learning_rates:\n",
    "    for b in batch_sizes:\n",
    "        model = neural_model(lr)\n",
    "        train_loss = 0\n",
    "        val_loss = 0\n",
    "        train_correct = 0\n",
    "        val_correct = 0\n",
    "\n",
    "        train_loader = DataLoader(train_data, batch_size=b, shuffle=True)\n",
    "        val_loader = DataLoader(val_data, batch_size=b, shuffle=False)\n",
    "\n",
    "        for x, y in train_loader:\n",
    "            train_loss += model.fit(x, y)\n",
    "            y_pred = model.predict(x)\n",
    "            train_correct += torch.sum(y_pred == y).item()\n",
    "\n",
    "        train_loss /= len(train_loader)\n",
    "        train_accuracy = train_correct / len(train_data)\n",
    "\n",
    "        model.eval()\n",
    "        with torch.no_grad():\n",
    "            for x_val, y_val in val_loader:\n",
    "                output_val = model.forward(x_val)\n",
    "                val_loss += model.loss(output_val, y_val).item()\n",
    "                y_pred_val = model.predict(x_val)\n",
    "                val_correct += torch.sum(y_pred_val == y_val).item()\n",
    "\n",
    "            val_loss = val_loss / (len(val_loader)) * 100\n",
    "            val_accuracy = (val_correct / len(val_data)) * 100\n",
    "\n",
    "        results.append({\n",
    "            'learning_rate': lr,\n",
    "            'batch_size': b,\n",
    "            'train_loss': train_loss,\n",
    "            'train_accuracy': train_accuracy,\n",
    "            'val_loss': val_loss,\n",
    "            'val_accuracy': val_accuracy\n",
    "        })\n",
    "\n",
    "        print(f\"lr: {lr}, batch size: {b}, train loss: {train_loss}, train accuracy: {train_accuracy} %\")\n",
    "        print(f\"lr: {lr}, batch size: {b}, val loss: {val_loss}, val accuracy: {val_accuracy} %\")\n",
    "        print(\"-------------------------------------------------\")\n"
   ]
  }
 ],
 "metadata": {
  "kernelspec": {
   "display_name": "Python 3",
   "language": "python",
   "name": "python3"
  },
  "language_info": {
   "codemirror_mode": {
    "name": "ipython",
    "version": 3
   },
   "file_extension": ".py",
   "mimetype": "text/x-python",
   "name": "python",
   "nbconvert_exporter": "python",
   "pygments_lexer": "ipython3",
   "version": "3.11.4"
  }
 },
 "nbformat": 4,
 "nbformat_minor": 5
}
